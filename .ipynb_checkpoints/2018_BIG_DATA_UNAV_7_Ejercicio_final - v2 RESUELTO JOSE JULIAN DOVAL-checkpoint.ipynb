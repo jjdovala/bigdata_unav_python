{
 "cells": [
  {
   "cell_type": "markdown",
   "metadata": {},
   "source": [
    "# Ejercicio final\n",
    "\n",
    "Este es un ejercicion final en el que revisaremos todos los conceptos basicos de Python. El objetivo es revisar cada uno de los conceptos aprendidos en este capítulo y ponerlos en práctica. Se evaluará la correcta ejecución, así como la originalidad y enfoques utilizados para la resolución de los ejercicions.\n"
   ]
  },
  {
   "cell_type": "markdown",
   "metadata": {},
   "source": [
    "## Ejercicios\n",
    "\n",
    "Responder las preguntas o completar las tareas indicadas en negrita debajo, utilizar el método indicado si aplica."
   ]
  },
  {
   "cell_type": "markdown",
   "metadata": {},
   "source": [
    "**¿Cuánto es 7 elevado a 4?**"
   ]
  },
  {
   "cell_type": "code",
   "execution_count": 1,
   "metadata": {},
   "outputs": [
    {
     "data": {
      "text/plain": [
       "2401"
      ]
     },
     "execution_count": 1,
     "metadata": {},
     "output_type": "execute_result"
    }
   ],
   "source": [
    "print(7**4)"
   ]
  },
  {
   "cell_type": "markdown",
   "metadata": {},
   "source": [
    "**Convertir este string:**\n",
    "\n",
    "s = \"Hola, Pedro ¿que tal?\"\n",
    "\n",
    "**en una lista.**"
   ]
  },
  {
   "cell_type": "code",
   "execution_count": 3,
   "metadata": {},
   "outputs": [
    {
     "name": "stdout",
     "output_type": "stream",
     "text": [
      "['Hola,', 'Pedro', '¿que', 'tal?']\n"
     ]
    }
   ],
   "source": [
    "# Lista de palabras\n",
    "s = \"Hola, Pedro ¿que tal?\"\n",
    "listaPalabras = s.split(\" \");\n",
    "print(listaPalabras)"
   ]
  },
  {
   "cell_type": "markdown",
   "metadata": {},
   "source": [
    "**Dadas las variables:**\n",
    "\n",
    "planeta = \"Tierra\"\n",
    "diametero = 12742\n",
    "\n",
    "**Usar .format() para obtener el siguiente string:**\n",
    "\n",
    "*El diametro de la Tierra es 12742 kilometros.*"
   ]
  },
  {
   "cell_type": "code",
   "execution_count": 5,
   "metadata": {},
   "outputs": [
    {
     "name": "stdout",
     "output_type": "stream",
     "text": [
      "El diametro de la Tierra is 12742 kilometros\n"
     ]
    }
   ],
   "source": [
    "planeta = \"Tierra\"\n",
    "diametro = 12742\n",
    "print(\"El diametro de la {} es {} kilometros.\".format(planeta, diametro))"
   ]
  },
  {
   "cell_type": "markdown",
   "metadata": {},
   "source": [
    "**Dada la siguiente lista, utilizar indexación para obtener la palabra \"hola\"**\n"
   ]
  },
  {
   "cell_type": "code",
   "execution_count": 6,
   "metadata": {
    "collapsed": true
   },
   "outputs": [],
   "source": [
    "lst = [1,2,[3,4],[5,[100,200,['hola']],23,11],1,7]"
   ]
  },
  {
   "cell_type": "code",
   "execution_count": 7,
   "metadata": {},
   "outputs": [
    {
     "data": {
      "text/plain": [
       "'hola'"
      ]
     },
     "execution_count": 7,
     "metadata": {},
     "output_type": "execute_result"
    }
   ],
   "source": [
    "lst[3][1][2][0]"
   ]
  },
  {
   "cell_type": "markdown",
   "metadata": {},
   "source": [
    "**Dado el siguiente diccionario anidado, obtener la palabra \"hola\"**"
   ]
  },
  {
   "cell_type": "code",
   "execution_count": 8,
   "metadata": {
    "collapsed": true
   },
   "outputs": [],
   "source": [
    "d = {'k1':[1,2,3,{'gracioso':['oh','no','engaño',{'destino':[1,2,3,'hola']}]}]}"
   ]
  },
  {
   "cell_type": "code",
   "execution_count": 10,
   "metadata": {},
   "outputs": [
    {
     "data": {
      "text/plain": [
       "'hola'"
      ]
     },
     "execution_count": 10,
     "metadata": {},
     "output_type": "execute_result"
    }
   ],
   "source": [
    "d['k1'][3]['gracioso'][3]['destino'][3]"
   ]
  },
  {
   "cell_type": "markdown",
   "metadata": {},
   "source": [
    "**¿Cúal es la principal diferencia entre una tupla y una lista?**"
   ]
  },
  {
   "cell_type": "markdown",
   "metadata": {},
   "source": [
    "Una tupla se define del mismo modo que una lista, salvo que el conjunto se encierra entre paréntesis en lugar de entre corchetes.\n",
    "\n",
    "Una tupla es una lista inmutable: Una tupla no puede modificarse de ningún modo después de su creación.\n",
    "- No pueden añadirse elementos a una tupla. Las tuplas no tienen los métodos append ni extend.\n",
    "- No pueden eliminarse elementos de una tupla (Las tuplas no tienen los métodos remove ni pop)\n",
    "- No pueden buscarse elementos en una tupla (las tuplas no tienen el método index)\n",
    "\n",
    "Lo siguiente generaría errores"
   ]
  },
  {
   "cell_type": "code",
   "execution_count": 24,
   "metadata": {
    "collapsed": true
   },
   "outputs": [],
   "source": [
    "tupla = (1,2,3)\n",
    "#tupla.append(4)\n",
    "#tupla[1] = 25"
   ]
  },
  {
   "cell_type": "markdown",
   "metadata": {},
   "source": [
    "**Crear una función que obtenga el dominio de una dirección de correo electrónico, por ejemplo:**\n",
    "\n",
    "*user@domain.com*\n",
    "\n",
    "**Por ejemplo, pasando 'user@domain.com' debería devolver 'domain.com'**"
   ]
  },
  {
   "cell_type": "code",
   "execution_count": 1,
   "metadata": {},
   "outputs": [
    {
     "name": "stdout",
     "output_type": "stream",
     "text": [
      "domain.com\n"
     ]
    }
   ],
   "source": [
    "def obtenerDominio(email):\n",
    "    return email[email.index(\"@\")+1:]\n",
    "\n",
    "print(obtenerDominio(\"user@domain.com\"))"
   ]
  },
  {
   "cell_type": "markdown",
   "metadata": {},
   "source": [
    "**Escribir una función que devuelva True si la palabra 'perro' se encuentra contenida dentro del string suministrado. No te preocupes por contemplar todos los casos posibles, pero tener en cuenta mayúsculas y minúsculas'**"
   ]
  },
  {
   "cell_type": "code",
   "execution_count": 3,
   "metadata": {},
   "outputs": [
    {
     "name": "stdout",
     "output_type": "stream",
     "text": [
      "¿'No me gustan los PERROS!!!' contiene la palabra perro?: True\n",
      "¿'Me gustan los gatos' contiene la palabra perro?: False\n",
      "¿'Perros y gatos' contiene la palabra perro?: True\n"
     ]
    }
   ],
   "source": [
    "def contienePalabraPerro(texto):\n",
    "    return \"perro\" in texto.lower()\n",
    "#    return texto.lower().find(\"perro\") >= 0\n",
    "\n",
    "texto1 = \"No me gustan los PERROS!!!\"\n",
    "print(\"¿'{}' contiene la palabra perro?: {}\".format(texto1, contienePalabraPerro(texto1)))\n",
    "\n",
    "texto2 = \"Me gustan los gatos\"\n",
    "print(\"¿'{}' contiene la palabra perro?: {}\".format(texto2, contienePalabraPerro(texto2)))\n",
    "\n",
    "texto3 = \"Perros y gatos\"\n",
    "print(\"¿'{}' contiene la palabra perro?: {}\".format(texto3, contienePalabraPerro(texto3)))"
   ]
  },
  {
   "cell_type": "markdown",
   "metadata": {},
   "source": [
    "**Utilizar una expersión lambda y el método filter() para filtrar las palabras de una lista que no comienzen con la letra 's'. Por ejemplo:**\n",
    "\n",
    "*secuencia = ['sarten', 'silla', 'gato', 'genial', 'pastilla']*\n",
    "\n",
    "**deberian filtrarse a:**\n",
    "\n",
    "*['sarten', 'silla']*"
   ]
  },
  {
   "cell_type": "code",
   "execution_count": 4,
   "metadata": {},
   "outputs": [
    {
     "name": "stdout",
     "output_type": "stream",
     "text": [
      "['sarten', 'silla']\n"
     ]
    }
   ],
   "source": [
    "secuencia = ['sarten', 'silla', 'gato', 'genial', 'pastilla']\n",
    "print( list(filter( lambda x: x.lower()[0] == 's', secuencia)) )"
   ]
  },
  {
   "cell_type": "markdown",
   "metadata": {},
   "source": [
    "### Problema final\n",
    "\n",
    "**Vas conduciendo y te pasas un poco de velocidad, un agente te detiene. Escribe una función que devuelva uno de los 3 posibles resultados que nos dará el agente:**\n",
    "\n",
    "* Sin multa\n",
    "* Multa pequeña\n",
    "* Multa grande\n",
    "\n",
    "**Si la velocidad es 60km/h o menos, el resultado es 'Sin Multa'. Si la velocidad se encuentra entre 61 y 80 ambos inclusive el resultado es 'Multa Pequeña'. Para velocidades superiores a 81 el resultado siempre es 'Multa Grande'. **\n",
    "\n",
    "**Si resulta que hoy es tu cumpleaños, el agente hace la vista gorda y permite un incremento de 5km/h en el limite normal. Este valor se para como un boolean a la función**"
   ]
  },
  {
   "cell_type": "code",
   "execution_count": 6,
   "metadata": {
    "collapsed": true
   },
   "outputs": [],
   "source": [
    "def multado(speed, is_birthday):\n",
    "    from IPython.core.debugger import set_trace\n",
    "    # set_trace()\n",
    "    messages = ('Sin multa',\n",
    "               'Multa pequeña',\n",
    "               'Multa grande')\n",
    "    if is_birthday:\n",
    "        speed -= 5\n",
    "\n",
    "    if speed <= 60:\n",
    "        return messages[0]\n",
    "    elif speed > 60 and speed <= 80:\n",
    "        return messages[1]\n",
    "    elif speed > 80:\n",
    "        return messages[2]"
   ]
  },
  {
   "cell_type": "code",
   "execution_count": 7,
   "metadata": {},
   "outputs": [
    {
     "data": {
      "text/plain": [
       "'Multa pequeña'"
      ]
     },
     "execution_count": 7,
     "metadata": {},
     "output_type": "execute_result"
    }
   ],
   "source": [
    "multado(81,True)"
   ]
  },
  {
   "cell_type": "code",
   "execution_count": 8,
   "metadata": {},
   "outputs": [
    {
     "data": {
      "text/plain": [
       "'Multa grande'"
      ]
     },
     "execution_count": 8,
     "metadata": {},
     "output_type": "execute_result"
    }
   ],
   "source": [
    "multado(81,False)"
   ]
  },
  {
   "cell_type": "code",
   "execution_count": 9,
   "metadata": {},
   "outputs": [
    {
     "data": {
      "text/plain": [
       "'Multa grande'"
      ]
     },
     "execution_count": 9,
     "metadata": {},
     "output_type": "execute_result"
    }
   ],
   "source": [
    "multado(81,False)"
   ]
  },
  {
   "cell_type": "markdown",
   "metadata": {},
   "source": [
    "**Problema final II**\n",
    "\n",
    "Escribir un programa que acepta una frase como entrada y calcula el numero de letras y digitos contenidos en esta.\n",
    "\n",
    "Por simpleza, no considerar espacios en blanco ni carácteres especiales.\n",
    "\n",
    "Por ejemplo, si recibimos:\n",
    "\n",
    "'Hola Mundo, 123!'\n",
    "\n",
    "La salida deberia ser:\n",
    "\n",
    "Letras: 9\n",
    "Digitos: 3"
   ]
  },
  {
   "cell_type": "code",
   "execution_count": 20,
   "metadata": {},
   "outputs": [
    {
     "name": "stdout",
     "output_type": "stream",
     "text": [
      "Letras: 9 Digitos: 3\n"
     ]
    }
   ],
   "source": [
    "# Genera una tupla el numero de letras y digitos contenidos en el texto indicado como parámetro\n",
    "def calculaLetrasYDigitos(texto):\n",
    "    numDigitos = len([x for x in texto if x in \"01234567890\"])\n",
    "#    numLetras = len([x for x in texto.lower() if ord(x) >= ord('a') and ord(x) <= ord('z')])\n",
    "    numLetras = len([x for x in texto.lower() if ord('a') <= ord(x) <= ord('z')])\n",
    "    return (numLetras, numDigitos)\n",
    "\n",
    "letrasyDigitos = calculaLetrasYDigitos('Hola Mundo, 123!');\n",
    "\n",
    "print(\"Letras: {} Digitos: {}\".format(letrasyDigitos[0], letrasyDigitos[1]))"
   ]
  },
  {
   "cell_type": "markdown",
   "metadata": {},
   "source": [
    "## ¡Felicidades por haber finalizado el ejercicio!"
   ]
  }
 ],
 "metadata": {
  "celltoolbar": "Hide code",
  "kernelspec": {
   "display_name": "Python 3",
   "language": "python",
   "name": "python3"
  },
  "language_info": {
   "codemirror_mode": {
    "name": "ipython",
    "version": 3
   },
   "file_extension": ".py",
   "mimetype": "text/x-python",
   "name": "python",
   "nbconvert_exporter": "python",
   "pygments_lexer": "ipython3",
   "version": "3.6.3"
  }
 },
 "nbformat": 4,
 "nbformat_minor": 1
}
