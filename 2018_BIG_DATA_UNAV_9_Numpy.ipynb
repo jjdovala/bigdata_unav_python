{
 "cells": [
  {
   "cell_type": "markdown",
   "metadata": {},
   "source": [
    "---\n",
    "# Experto Big Data UNAV 2018 - Notebook 9 - Numpy\n",
    "---"
   ]
  },
  {
   "cell_type": "markdown",
   "metadata": {},
   "source": [
    "# NumPy"
   ]
  },
  {
   "cell_type": "markdown",
   "metadata": {},
   "source": [
    "* Es una librería que nos permite representar de manera sencilla vectores multidimensionales.\n",
    "* Proporciona funciones y herramientas matemáticas para trabajar con los vectores.\n",
    "* Es muy eficiente y rápida a la hora de hacer cálculos con grandes cantidades de datos.\n",
    "\n",
    "Las matrices NumPy tienen varias ventajas sobre las listas de Python. Estos beneficios se centran en proporcionar la manipulación de alto rendimiento de secuencias de elementos de datos homogéneos. Varios de estos beneficios son los siguientes:\n",
    "- Asignación contigua en la memoria\n",
    "- Operaciones vectorizadas\n",
    "- Selección booleana\n",
    "- Sliceability\n",
    "\n",
    "Vamos a testear los beneficios de utilizar numpy vs listas."
   ]
  },
  {
   "cell_type": "code",
   "execution_count": 1,
   "metadata": {},
   "outputs": [
    {
     "name": "stdout",
     "output_type": "stream",
     "text": [
      "14 ms ± 1.04 ms per loop (mean ± std. dev. of 7 runs, 100 loops each)\n"
     ]
    }
   ],
   "source": [
    "def squares(values):\n",
    "    result = []\n",
    "    for v in values:\n",
    "        result.append(v * v)\n",
    "    return result\n",
    "   # creamos lista de  100K elementos\n",
    "to_square = list(range(100000))\n",
    "# medimos tiempo de ejecucion con \n",
    "%timeit squares(to_square) \n",
    "\n"
   ]
  },
  {
   "cell_type": "code",
   "execution_count": null,
   "metadata": {
    "collapsed": true
   },
   "outputs": [],
   "source": [
    "#Juliano con listas (probar si lo puedo hacer más rápido)"
   ]
  },
  {
   "cell_type": "code",
   "execution_count": 2,
   "metadata": {},
   "outputs": [
    {
     "name": "stdout",
     "output_type": "stream",
     "text": [
      "85.2 µs ± 485 ns per loop (mean ± std. dev. of 7 runs, 10000 loops each)\n"
     ]
    }
   ],
   "source": [
    "import numpy as np # directiva para importar libreria\n",
    "\n",
    "# mismo codigo lo hacemos con numpy\n",
    "array_to_square = np.arange(0, 100000)\n",
    "# medimos tiempo de la operacion vectorizada\n",
    "%timeit array_to_square ** 2"
   ]
  },
  {
   "cell_type": "markdown",
   "metadata": {},
   "source": [
    "Puedes ver como la vectorizacion ha reducido el tiempo de ejecucion de nuestro codigo en mas de 100 veces!!  \n",
    "\n",
    "Esto saca a la luz algo a tener en cuenta cuando se trabaja con datos en NumPy y Pandas: si estas escribendo un _loop_ para iterar a través de elementos de una matriz NumPy, un _series_ de pandas o un DataFrame, entonces estás probablemente hacien algo incorrecto. Siempre has de tener en cuenta escribir código que haga uso de la vectorización. Casi siempre es más rápido, y se expresa de forma más elegante de forma vectorizada.\n",
    "\n",
    "La **selección booleana** es un patrón común que veremos con NumPy y pandas donde la selección de elementos de una matriz se basa en criterios específicos. Esto consiste en calcular una matriz de valores booleanos donde True representa que el elemento dado que debe estar en el conjunto de resultados. Esta matriz se puede usar para seleccionar eficientemente los elementos que coinciden."
   ]
  },
  {
   "cell_type": "markdown",
   "metadata": {},
   "source": [
    "## Creacion de arrays en NumPy"
   ]
  },
  {
   "cell_type": "markdown",
   "metadata": {},
   "source": [
    "Antes de poder crear un array NumPy tenemos que importar la libreria. Esto se hace como ya hemos visto con otras a traves del comando _import numpy_."
   ]
  },
  {
   "cell_type": "code",
   "execution_count": 2,
   "metadata": {
    "collapsed": true
   },
   "outputs": [],
   "source": [
    "import numpy as np # importamos y le decimos a python que lo llamaremos np"
   ]
  },
  {
   "cell_type": "markdown",
   "metadata": {},
   "source": [
    "Un vector NumPy puede crearse de multiples formas, todas estas crean un vector NumPy."
   ]
  },
  {
   "cell_type": "code",
   "execution_count": 11,
   "metadata": {},
   "outputs": [
    {
     "name": "stdout",
     "output_type": "stream",
     "text": [
      "['1' '2' '3' '4' '5.0' 'hola']\n",
      "<class 'numpy.ndarray'>\n",
      "6\n",
      "<U32\n"
     ]
    },
    {
     "data": {
      "text/plain": [
       "'1.13.3'"
      ]
     },
     "execution_count": 11,
     "metadata": {},
     "output_type": "execute_result"
    }
   ],
   "source": [
    "# un array simple\n",
    "#a1 = np.array([1, 2, 3, 4, 5.])\n",
    "#a1 = np.array([1, 2, 3, 4, 5.0])\n",
    "a1 = np.array([1, 2, 3, 4, 5.0, \"hola\"])\n",
    "print(a1) # ojo no es una lista es un objeto numpy\n",
    "print(type(a1)) # el tipo es numpy.array\n",
    "print(np.size(a1)) # cual es el tamanio de nuestro vector\n",
    "print(a1.dtype) # que tipo de datos contiene nuestro vector\n",
    "\n",
    "np.__version__\n"
   ]
  },
  {
   "cell_type": "markdown",
   "metadata": {},
   "source": [
    "En NumPy, las matrices n-dimensionales se denotan como ndarray, la de nuestro ejemplo contiene cinco elementos, como informa la función _np.size()_.\n",
    "Las matrices NumPy deben tener todos sus elementos del mismo tipo. Si especificas diferentes tipos en la lista, NumPy intentará realizar un casting de todos los elementos al mismo tipo (al tipo mas general). El siguiente ejemplo de código demuestra el uso de valores enteros y de coma flotante al inicializar la matriz, que luego se convierten a números de coma flotante por NumPy."
   ]
  },
  {
   "cell_type": "code",
   "execution_count": null,
   "metadata": {
    "collapsed": true
   },
   "outputs": [],
   "source": [
    "# creando un array de enteros y floats\n",
    "a2 = np.array([1, 2, 3, 4.0, 5.0])\n",
    "print(a2) # numpy lo convierte a uno de floats"
   ]
  },
  {
   "cell_type": "markdown",
   "metadata": {},
   "source": [
    "Si realizamos las misma operacion con una cadena dentro, NumPy nos convertira el tipo de los elementos del vector a str."
   ]
  },
  {
   "cell_type": "code",
   "execution_count": null,
   "metadata": {
    "collapsed": true
   },
   "outputs": [],
   "source": [
    "# creando un array de enteros y floats y cadenas\n",
    "a2 = np.array([1, 2, 3, 4.0, 5.0, 'hola'])\n",
    "print(a2) # numpy lo convierte a uno de floats\n",
    "print(a2.dtype) # <US32 es un tipo interno de numpy para representar una cadena."
   ]
  },
  {
   "cell_type": "markdown",
   "metadata": {},
   "source": [
    "**Aunque lo anterior funciona, NumPy es una libreria orientada al calculo numerico de modo que se desaconseja el almacenamiento de strings en su interior.** Pronto veremos librerias para el manejo mas sencillo y eficiente de cadenas."
   ]
  },
  {
   "cell_type": "code",
   "execution_count": 17,
   "metadata": {},
   "outputs": [
    {
     "name": "stdout",
     "output_type": "stream",
     "text": [
      "<class 'numpy.ndarray'>\n",
      "(3,)\n",
      "1 2 3\n",
      "[5 2 3]\n",
      "(2, 3)\n",
      "1 2 4\n"
     ]
    }
   ],
   "source": [
    "a = np.array([1, 2, 3])  # Crea un array de rango 1\n",
    "print(type(a))            # imprime \"<type 'numpy.ndarray'>\"\n",
    "print(a.shape)           # imprime \"(3,)\"\n",
    "print(a[0], a[1], a[2])   # imprime \"1 2 3\"\n",
    "a[0] =(5)                 # cambia un elemento del \n",
    "print(a)                  # imprime \"[5, 2, 3]\"\n",
    "\n",
    "b = np.array(((1,2,3),(4,5,6)))   # crea de dos dimensiones\n",
    "print(b.shape)                     # imprime \"(2, 3)\"\n",
    "print(b[0, 0], b[0, 1], b[1, 0])  # imprime \"1 2 4\""
   ]
  },
  {
   "cell_type": "markdown",
   "metadata": {},
   "source": [
    "Es importante distinguir entre _numero de dimensiones_ y _forma_."
   ]
  },
  {
   "cell_type": "code",
   "execution_count": null,
   "metadata": {
    "collapsed": true
   },
   "outputs": [],
   "source": [
    "a = np.zeros((3,3))\n",
    "\n",
    "print('El numero de dimensiones de a son:', len(a.shape)) # nos dice cuantas dimensiones tiene la matriz\n",
    "print('El forma es de a es:', a.shape) # nos dice cuantos elementos tiene cada dimension\n",
    "print(a)"
   ]
  },
  {
   "cell_type": "markdown",
   "metadata": {},
   "source": [
    "## Metodos para la creacion de arrays en NumPy"
   ]
  },
  {
   "cell_type": "markdown",
   "metadata": {},
   "source": [
    "Provee de diferentes metodos para crear arrays.  \n",
    "\n",
    "Creacion de un array de ceros."
   ]
  },
  {
   "cell_type": "code",
   "execution_count": null,
   "metadata": {
    "collapsed": true
   },
   "outputs": [],
   "source": [
    "a = np.zeros((2,2))  # crea array de zeros de 2 x 2\n",
    "print(a, '\\n---')"
   ]
  },
  {
   "cell_type": "markdown",
   "metadata": {},
   "source": [
    "Creacion de un array de unos."
   ]
  },
  {
   "cell_type": "code",
   "execution_count": null,
   "metadata": {
    "collapsed": true
   },
   "outputs": [],
   "source": [
    "b = np.ones((2,2))   # Crea array de unos de 2 x 2\n",
    "print(b, '\\n---') "
   ]
  },
  {
   "cell_type": "markdown",
   "metadata": {},
   "source": [
    "Creacion de un array de una constante."
   ]
  },
  {
   "cell_type": "code",
   "execution_count": null,
   "metadata": {
    "collapsed": true
   },
   "outputs": [],
   "source": [
    "c = np.full((2,2), 7) # crea un array de una constante de 2 x 2\n",
    "print(c, '\\n---')"
   ]
  },
  {
   "cell_type": "markdown",
   "metadata": {},
   "source": [
    "Creacion de matriz identidad."
   ]
  },
  {
   "cell_type": "code",
   "execution_count": 18,
   "metadata": {},
   "outputs": [
    {
     "name": "stdout",
     "output_type": "stream",
     "text": [
      "[[ 1.  0.]\n",
      " [ 0.  1.]] \n",
      "---\n"
     ]
    }
   ],
   "source": [
    "d = np.eye(2)        # crea una array (matriz) 2x2 identidad\n",
    "print(d, '\\n---')"
   ]
  },
  {
   "cell_type": "markdown",
   "metadata": {},
   "source": [
    "Creacion de array con valores aleatorios."
   ]
  },
  {
   "cell_type": "code",
   "execution_count": null,
   "metadata": {
    "collapsed": true
   },
   "outputs": [],
   "source": [
    "e = np.random.random((2,2)) # crea array con valores aleatorios 2x2\n",
    "print(e, '\\n---')"
   ]
  },
  {
   "cell_type": "markdown",
   "metadata": {},
   "source": [
    "La funcion arange de modo similar a la funcion range nos permite crear un array."
   ]
  },
  {
   "cell_type": "code",
   "execution_count": 19,
   "metadata": {},
   "outputs": [
    {
     "name": "stdout",
     "output_type": "stream",
     "text": [
      "[ 0.   0.5  1.   1.5  2.   2.5  3.   3.5  4.   4.5  5.   5.5  6.   6.5  7.\n",
      "  7.5  8.   8.5  9.   9.5]\n"
     ]
    }
   ],
   "source": [
    "x = np.arange(0, 10, .5)\n",
    "print(x)"
   ]
  },
  {
   "cell_type": "markdown",
   "metadata": {},
   "source": [
    "Creacion de un array de _n_ elementos distribuidos linealmente."
   ]
  },
  {
   "cell_type": "code",
   "execution_count": 20,
   "metadata": {},
   "outputs": [
    {
     "name": "stdout",
     "output_type": "stream",
     "text": [
      "[ 0.   0.1  0.2  0.3  0.4  0.5  0.6  0.7  0.8  0.9  1. ]\n"
     ]
    }
   ],
   "source": [
    "x = np.linspace(0, 1, 11) \n",
    "print(x)"
   ]
  },
  {
   "cell_type": "markdown",
   "metadata": {},
   "source": [
    "Si estas interesado en mas funciones para el creado puedes acudir a la [pagina oficial de la documentacion de NumPy](https://docs.scipy.org/doc/numpy-1.13.0/reference/routines.array-creation.html#routines-array-creation)"
   ]
  },
  {
   "cell_type": "markdown",
   "metadata": {},
   "source": [
    "## Indexado"
   ]
  },
  {
   "cell_type": "markdown",
   "metadata": {},
   "source": [
    "Al igual que las listas, para acceder a los arrays se puede utilizar el operador de corte (_slicing_). Al ser arrays multidimensionales hay que especificar las dimensiones a las que queremos acceder"
   ]
  },
  {
   "cell_type": "code",
   "execution_count": 21,
   "metadata": {},
   "outputs": [
    {
     "name": "stdout",
     "output_type": "stream",
     "text": [
      "[[ 1  2  3  4]\n",
      " [ 5  6  7  8]\n",
      " [ 9 10 11 12]]\n"
     ]
    }
   ],
   "source": [
    "# crea array de dimensiones 2 y shape (3,4)\n",
    "a = np.array([[1,2,3,4], [5,6,7,8], [9,10,11,12]])\n",
    "print(a)"
   ]
  },
  {
   "cell_type": "code",
   "execution_count": 22,
   "metadata": {},
   "outputs": [
    {
     "name": "stdout",
     "output_type": "stream",
     "text": [
      "[[2 3]\n",
      " [6 7]]\n"
     ]
    }
   ],
   "source": [
    "# Utiliza slicing para extrar un subarray que consiste de las dos primeras filas y las columnas 1 y 2\n",
    "b = a[:2, 1:3]\n",
    "print(b)"
   ]
  },
  {
   "cell_type": "markdown",
   "metadata": {},
   "source": [
    "**No se crea una copia cuando se hace _slicing_, la nueva variable apunta a la misma zona de memoria. Si se modifica el _slice_ se modifica el original. **"
   ]
  },
  {
   "cell_type": "code",
   "execution_count": null,
   "metadata": {
    "collapsed": true
   },
   "outputs": [],
   "source": [
    "# Un slice de un array apunta a la misma zona de memoria de modo\n",
    "#que modificando este, modificamos el array original\n",
    "print(a[0, 1])\n",
    "b[0, 0] = 77    \n",
    "print(a[0, 1])  "
   ]
  },
  {
   "cell_type": "markdown",
   "metadata": {},
   "source": [
    "Se puede acceder a los elementos combinando _slicing_ y indexado simple. Si se accede usando un entero se obtiene un array de rango menor."
   ]
  },
  {
   "cell_type": "code",
   "execution_count": 23,
   "metadata": {},
   "outputs": [
    {
     "name": "stdout",
     "output_type": "stream",
     "text": [
      "[[ 1  2  3  4]\n",
      " [ 5  6  7  8]\n",
      " [ 9 10 11 12]]\n"
     ]
    }
   ],
   "source": [
    "# crea array de rango 2 y shape (3,4)\n",
    "a = np.array([[1,2,3,4], [5,6,7,8], [9,10,11,12]])\n",
    "print(a)"
   ]
  },
  {
   "cell_type": "code",
   "execution_count": 24,
   "metadata": {},
   "outputs": [
    {
     "name": "stdout",
     "output_type": "stream",
     "text": [
      "[5 6 7 8] (4,)\n"
     ]
    }
   ],
   "source": [
    "fila1 = a[1, :]    # Accede a la primera fila y retorna array de dimension 1 y 4 elementos\n",
    "print(fila1, fila1.shape)"
   ]
  },
  {
   "cell_type": "markdown",
   "metadata": {},
   "source": [
    "Si se accede usando _slicing_ se obtiene un array del mismo numero de dimensiones."
   ]
  },
  {
   "cell_type": "code",
   "execution_count": 25,
   "metadata": {},
   "outputs": [
    {
     "name": "stdout",
     "output_type": "stream",
     "text": [
      "[[5 6 7 8]] (1, 4)\n"
     ]
    }
   ],
   "source": [
    "fila2 = a[1:2, :]  # Accede a la primera fila y retorna array de rango 2 igual al original\n",
    "print(fila2, fila2.shape)  # imprime \"[[5 6 7 8]] (1, 4)\""
   ]
  },
  {
   "cell_type": "markdown",
   "metadata": {},
   "source": [
    "Tambien se puede acceder a diferentes elementos en diferentes filas y columnas"
   ]
  },
  {
   "cell_type": "code",
   "execution_count": null,
   "metadata": {
    "collapsed": true
   },
   "outputs": [],
   "source": [
    "# crea array de rango 2 y shape (3,4)\n",
    "a = np.array([[1,2,3,4], [5,6,7,8], [9,10,11,12]])\n",
    "print(a, '\\n---')\n",
    "print(a[[0,2],[0,3]], '\\n---')\n",
    "print(a[[0,2],:], '\\n---')\n",
    "print(a[:,-1] + 10, '\\n---')"
   ]
  },
  {
   "cell_type": "markdown",
   "metadata": {},
   "source": [
    "Tambien se puede acceder utilizando un indexado booleano _True_ y _False_"
   ]
  },
  {
   "cell_type": "code",
   "execution_count": 29,
   "metadata": {},
   "outputs": [
    {
     "name": "stdout",
     "output_type": "stream",
     "text": [
      "[[1 2]\n",
      " [3 4]\n",
      " [5 6]] \n",
      "---\n",
      "[[False False]\n",
      " [ True  True]\n",
      " [ True  True]] \n",
      "---\n",
      "[3 4 5 6] \n",
      "---\n",
      "(4,)\n",
      "[13 14 15 16]\n"
     ]
    }
   ],
   "source": [
    "a = np.array([[1,2], [3, 4], [5, 6]])\n",
    "print(a, '\\n---')\n",
    "\n",
    "bool_idx = (a > 2)  # encuentra indices que son mayores que 2 y devuelve array booleano\n",
    "print(bool_idx, '\\n---')\n",
    "\n",
    "print(a[bool_idx], '\\n---')\n",
    "print(a[bool_idx].shape)\n",
    "# todo de una vez en modo pythonico\n",
    "print(a[a > 2] + 10)"
   ]
  },
  {
   "cell_type": "markdown",
   "metadata": {},
   "source": [
    "### Tipos de datos"
   ]
  },
  {
   "cell_type": "markdown",
   "metadata": {},
   "source": [
    "Numpy define nuevos tipos de datos que representan a los que ya conocemos pero no son los mismos"
   ]
  },
  {
   "cell_type": "code",
   "execution_count": 30,
   "metadata": {},
   "outputs": [
    {
     "name": "stdout",
     "output_type": "stream",
     "text": [
      "int32\n",
      "float64\n",
      "int64\n",
      "False\n",
      "True\n"
     ]
    }
   ],
   "source": [
    "x = np.array([1, 2])  # numpy elige el tipo de datos\n",
    "print(x.dtype)\n",
    "\n",
    "x = np.array([1.0, 2.0])  # numpy elige el tipo de dato\n",
    "print(x.dtype) \n",
    "\n",
    "x = np.array([1, 2], dtype=np.int64)  # forzamos un tipo de dato concreto\n",
    "print(x.dtype) \n",
    "print(x.dtype is int)\n",
    "print(x.dtype == np.int64)"
   ]
  },
  {
   "cell_type": "markdown",
   "metadata": {},
   "source": [
    "### Funciones matematicas"
   ]
  },
  {
   "cell_type": "markdown",
   "metadata": {},
   "source": [
    "Se pueden realizar funciones matematicas sencillas entre arrays de la siguiente forma.  \n",
    "Suma y resta."
   ]
  },
  {
   "cell_type": "code",
   "execution_count": null,
   "metadata": {
    "collapsed": true
   },
   "outputs": [],
   "source": [
    "x = np.array([[1,2],[3,4]], dtype=np.float64)\n",
    "y = np.array([[5,6],[7,8]], dtype=np.float64)\n",
    "\n",
    "# suma elemento a elemento\n",
    "print(x + y)\n",
    "print(np.add(x, y))\n",
    "print('-'*10)\n",
    "\n",
    "# resta elemento a elemento\n",
    "print(x - y)\n",
    "print(np.subtract(x, y))\n",
    "print('-'*10)"
   ]
  },
  {
   "cell_type": "markdown",
   "metadata": {},
   "source": [
    "Multiplicacion y division."
   ]
  },
  {
   "cell_type": "code",
   "execution_count": null,
   "metadata": {
    "collapsed": true
   },
   "outputs": [],
   "source": [
    "# producto elemento a elemento\n",
    "print(x * y)\n",
    "print(np.multiply(x, y))\n",
    "print('-'*10)\n",
    "\n",
    "# division elemento a elemento\n",
    "print(x / y)\n",
    "print(np.divide(x, y))\n",
    "print('-'*10)"
   ]
  },
  {
   "cell_type": "markdown",
   "metadata": {},
   "source": [
    "Raiz cuadrada"
   ]
  },
  {
   "cell_type": "code",
   "execution_count": null,
   "metadata": {
    "collapsed": true
   },
   "outputs": [],
   "source": [
    "# raiz cuadrada elemento a elemento\n",
    "print(np.sqrt(x))\n",
    "print('-'*10)"
   ]
  },
  {
   "cell_type": "markdown",
   "metadata": {},
   "source": [
    "### Metodos"
   ]
  },
  {
   "cell_type": "markdown",
   "metadata": {},
   "source": [
    "Estadisticos."
   ]
  },
  {
   "cell_type": "code",
   "execution_count": 32,
   "metadata": {},
   "outputs": [
    {
     "name": "stdout",
     "output_type": "stream",
     "text": [
      "78\n",
      "6.5\n"
     ]
    },
    {
     "ename": "AttributeError",
     "evalue": "'numpy.ndarray' object has no attribute 'median'",
     "output_type": "error",
     "traceback": [
      "\u001b[1;31m---------------------------------------------------------------------------\u001b[0m",
      "\u001b[1;31mAttributeError\u001b[0m                            Traceback (most recent call last)",
      "\u001b[1;32m<ipython-input-32-8095ae6fbf03>\u001b[0m in \u001b[0;36m<module>\u001b[1;34m()\u001b[0m\n\u001b[0;32m      2\u001b[0m \u001b[0mprint\u001b[0m\u001b[1;33m(\u001b[0m\u001b[0ma\u001b[0m\u001b[1;33m.\u001b[0m\u001b[0msum\u001b[0m\u001b[1;33m(\u001b[0m\u001b[1;33m)\u001b[0m\u001b[1;33m)\u001b[0m \u001b[1;31m# suma\u001b[0m\u001b[1;33m\u001b[0m\u001b[0m\n\u001b[0;32m      3\u001b[0m \u001b[0mprint\u001b[0m\u001b[1;33m(\u001b[0m\u001b[0ma\u001b[0m\u001b[1;33m.\u001b[0m\u001b[0mmean\u001b[0m\u001b[1;33m(\u001b[0m\u001b[1;33m)\u001b[0m\u001b[1;33m)\u001b[0m \u001b[1;31m# media\u001b[0m\u001b[1;33m\u001b[0m\u001b[0m\n\u001b[1;32m----> 4\u001b[1;33m \u001b[0mprint\u001b[0m\u001b[1;33m(\u001b[0m\u001b[0ma\u001b[0m\u001b[1;33m.\u001b[0m\u001b[0mmedian\u001b[0m\u001b[1;33m(\u001b[0m\u001b[1;33m)\u001b[0m\u001b[1;33m)\u001b[0m \u001b[1;31m# mediana\u001b[0m\u001b[1;33m\u001b[0m\u001b[0m\n\u001b[0m\u001b[0;32m      5\u001b[0m \u001b[0mprint\u001b[0m\u001b[1;33m(\u001b[0m\u001b[0mnp\u001b[0m\u001b[1;33m.\u001b[0m\u001b[0mmedian\u001b[0m\u001b[1;33m(\u001b[0m\u001b[0ma\u001b[0m\u001b[1;33m)\u001b[0m\u001b[1;33m)\u001b[0m \u001b[1;31m# mediana\u001b[0m\u001b[1;33m\u001b[0m\u001b[0m\n\u001b[0;32m      6\u001b[0m \u001b[0mprint\u001b[0m\u001b[1;33m(\u001b[0m\u001b[0ma\u001b[0m\u001b[1;33m.\u001b[0m\u001b[0mstd\u001b[0m\u001b[1;33m(\u001b[0m\u001b[1;33m)\u001b[0m\u001b[1;33m)\u001b[0m \u001b[1;31m# desviacion estandar\u001b[0m\u001b[1;33m\u001b[0m\u001b[0m\n",
      "\u001b[1;31mAttributeError\u001b[0m: 'numpy.ndarray' object has no attribute 'median'"
     ]
    }
   ],
   "source": [
    "a = np.array([[1,2,3,4], [5,6,7,8], [9,10,11,12]])\n",
    "print(a.sum()) # suma\n",
    "print(a.mean()) # media\n",
    "print(np.median(a)) # mediana\n",
    "print(a.std()) # desviacion estandar\n",
    "print(a.var()) # varianza\n",
    "print(a.min()) # minimo\n",
    "print(a.max()) # maximo\n",
    "print(a.argmin()) # indice del elemento minimo\n",
    "print(a.argmax()) # indice del elemento maximo\n",
    "print(a.cumsum()) # suma acumulada\n",
    "print(a.cumprod()) # producto acumulado"
   ]
  },
  {
   "cell_type": "markdown",
   "metadata": {},
   "source": [
    "# Ejercicios"
   ]
  },
  {
   "cell_type": "markdown",
   "metadata": {},
   "source": [
    "1 -  Crea un array de 1...n numeros crecientes de 1 en 1 donde n es 16. El array debe tener 4 filas y 4 columnas."
   ]
  },
  {
   "cell_type": "code",
   "execution_count": 35,
   "metadata": {},
   "outputs": [
    {
     "name": "stdout",
     "output_type": "stream",
     "text": [
      "[[  1.   2.   3.   4.]\n",
      " [  5.   6.   7.   8.]\n",
      " [  9.  10.  11.  12.]\n",
      " [ 13.  14.  15.  16.]]\n",
      "(4, 4)\n"
     ]
    }
   ],
   "source": [
    "a1 = np.zeros((4,4))\n",
    "value = 1\n",
    "for i in range(0,4):\n",
    "    for j in range(0,4):\n",
    "        a1[i,j] = value\n",
    "        value += 1\n",
    "\n",
    "\n",
    "print(a1)\n",
    "print(a1.shape)"
   ]
  },
  {
   "cell_type": "markdown",
   "metadata": {},
   "source": [
    "2 - Cual es la desviacion standar y la media?. Suma 5 a los elementos de la diagonal. "
   ]
  },
  {
   "cell_type": "code",
   "execution_count": 40,
   "metadata": {},
   "outputs": [
    {
     "name": "stdout",
     "output_type": "stream",
     "text": [
      "La desviación estandar es 4.6097722286464435\n",
      "La media es 8.5\n",
      "La suma de la diagonal es 34.0\n"
     ]
    }
   ],
   "source": [
    "print(\"La desviación estandar es {}\".format(a1.std()))\n",
    "print(\"La media es {}\".format(a1.mean()))\n",
    "print(\"La suma de la diagonal es {}\". format(np.multiply(a1,np.eye(4)).sum()))"
   ]
  },
  {
   "cell_type": "markdown",
   "metadata": {},
   "source": [
    "3 - Utiliza la funcion _random_ para simular el lanzamiento de 2 dados a la vez 10 veces. Cuales han sido los resultados?. Imprimelos por pantalla. Puedes hacer uso de las [diferentes funciones que proporciona NumPy para el randomizado](https://docs.scipy.org/doc/numpy/reference/routines.random.html)."
   ]
  },
  {
   "cell_type": "code",
   "execution_count": 55,
   "metadata": {},
   "outputs": [
    {
     "name": "stdout",
     "output_type": "stream",
     "text": [
      "[[3 3]\n",
      " [6 6]\n",
      " [4 2]\n",
      " [3 5]\n",
      " [6 5]\n",
      " [1 5]\n",
      " [6 1]\n",
      " [5 4]\n",
      " [1 1]\n",
      " [1 2]]\n"
     ]
    }
   ],
   "source": [
    "dados = np.random.randint(1, 7, (10,2)) \n",
    "print( dados )"
   ]
  },
  {
   "cell_type": "markdown",
   "metadata": {},
   "source": [
    "4 - Crea un array 10x10 con valores aleatorios y encuentra el minimo y el maximo."
   ]
  },
  {
   "cell_type": "code",
   "execution_count": 57,
   "metadata": {},
   "outputs": [
    {
     "name": "stdout",
     "output_type": "stream",
     "text": [
      "[[ 0.12577566  0.73049632  0.06767966  0.79668495  0.21612364  0.18117462\n",
      "   0.48029742  0.1040542   0.89326058  0.0338531 ]\n",
      " [ 0.16546427  0.73439057  0.46733486  0.67856935  0.66395765  0.99215238\n",
      "   0.54976215  0.12386908  0.85941888  0.67893048]\n",
      " [ 0.90061042  0.23017973  0.38850723  0.87987244  0.45296431  0.4854559\n",
      "   0.51963856  0.37778116  0.11705285  0.7362056 ]\n",
      " [ 0.07942244  0.59630041  0.5512923   0.3512482   0.10260823  0.7463269\n",
      "   0.26893212  0.4504354   0.55685991  0.90263931]\n",
      " [ 0.32013097  0.26447252  0.44408278  0.21522995  0.27058531  0.19505768\n",
      "   0.69824513  0.02634409  0.22178954  0.27151086]\n",
      " [ 0.13692675  0.23283726  0.04184666  0.17549951  0.33736304  0.32504658\n",
      "   0.13613118  0.63822533  0.65138154  0.13290077]\n",
      " [ 0.29308077  0.56902338  0.35959633  0.49877119  0.58277471  0.6093473\n",
      "   0.2131104   0.99510955  0.66543663  0.52424094]\n",
      " [ 0.61992703  0.93156685  0.14039875  0.48964771  0.41922204  0.8104285\n",
      "   0.07318337  0.26431431  0.54191357  0.67638131]\n",
      " [ 0.03915563  0.72285361  0.14723698  0.09476069  0.72970647  0.09019894\n",
      "   0.67364397  0.88973983  0.05114254  0.45623033]\n",
      " [ 0.63822474  0.52404012  0.91899716  0.7486479   0.69331932  0.27809141\n",
      "   0.09386031  0.51072248  0.8761299   0.26086277]]\n",
      "Mínimo: 0.026344094337854118, Máximo; 0.9951095462749491\n"
     ]
    }
   ],
   "source": [
    "rndArray = np.random.random((10,10))\n",
    "print(rndArray)\n",
    "print(\"Mínimo: {}, Máximo; {}\".format(rndArray.min(),rndArray.max()) )"
   ]
  },
  {
   "cell_type": "markdown",
   "metadata": {},
   "source": [
    "5 - Crea un vexto aleatorio de 30 valores y encuentra la media."
   ]
  },
  {
   "cell_type": "code",
   "execution_count": 62,
   "metadata": {},
   "outputs": [
    {
     "name": "stdout",
     "output_type": "stream",
     "text": [
      "[ 0.94495933  0.65215849  0.20996649  0.64978999  0.74400159  0.15256702\n",
      "  0.70317028  0.46727035  0.67710853  0.91950874  0.16751661  0.44658661\n",
      "  0.95536603  0.18090542  0.09226292  0.67683395  0.64599733  0.12978814\n",
      "  0.06095235  0.58438786  0.12780897  0.99678117  0.00225856  0.80082549\n",
      "  0.36592568  0.34795083  0.51590329  0.95611867  0.68803348  0.74059869]\n",
      "Media: 0.520110095555122, Mínimo: 0.002258560878847571, Máximo; 0.9967811727828936\n"
     ]
    }
   ],
   "source": [
    "rndVector = np.random.random(30)\n",
    "print(rndVector)\n",
    "print(\"Media: {}, Mínimo: {}, Máximo; {}\".format(rndVector.mean(),rndVector.min(),rndVector.max()) )"
   ]
  },
  {
   "cell_type": "markdown",
   "metadata": {},
   "source": [
    "6 - Crea un vector 2d (10 x 10) con 1s en los bordes y 0 dentro."
   ]
  },
  {
   "cell_type": "code",
   "execution_count": 68,
   "metadata": {},
   "outputs": [
    {
     "name": "stdout",
     "output_type": "stream",
     "text": [
      "Antes\n",
      "[[ 1.  1.  1.  1.  1.  1.  1.  1.  1.  1.]\n",
      " [ 1.  1.  1.  1.  1.  1.  1.  1.  1.  1.]\n",
      " [ 1.  1.  1.  1.  1.  1.  1.  1.  1.  1.]\n",
      " [ 1.  1.  1.  1.  1.  1.  1.  1.  1.  1.]\n",
      " [ 1.  1.  1.  1.  1.  1.  1.  1.  1.  1.]\n",
      " [ 1.  1.  1.  1.  1.  1.  1.  1.  1.  1.]\n",
      " [ 1.  1.  1.  1.  1.  1.  1.  1.  1.  1.]\n",
      " [ 1.  1.  1.  1.  1.  1.  1.  1.  1.  1.]\n",
      " [ 1.  1.  1.  1.  1.  1.  1.  1.  1.  1.]\n",
      " [ 1.  1.  1.  1.  1.  1.  1.  1.  1.  1.]]\n",
      "Despues\n",
      "[[ 1.  1.  1.  1.  1.  1.  1.  1.  1.  1.]\n",
      " [ 1.  0.  0.  0.  0.  0.  0.  0.  0.  1.]\n",
      " [ 1.  0.  0.  0.  0.  0.  0.  0.  0.  1.]\n",
      " [ 1.  0.  0.  0.  0.  0.  0.  0.  0.  1.]\n",
      " [ 1.  0.  0.  0.  0.  0.  0.  0.  0.  1.]\n",
      " [ 1.  0.  0.  0.  0.  0.  0.  0.  0.  1.]\n",
      " [ 1.  0.  0.  0.  0.  0.  0.  0.  0.  1.]\n",
      " [ 1.  0.  0.  0.  0.  0.  0.  0.  0.  1.]\n",
      " [ 1.  0.  0.  0.  0.  0.  0.  0.  0.  1.]\n",
      " [ 1.  1.  1.  1.  1.  1.  1.  1.  1.  1.]]\n"
     ]
    }
   ],
   "source": [
    "vector2d = np.ones((10,10))\n",
    "print(\"Antes\")\n",
    "print(vector2d)\n",
    "vector2d[1:9, 1:9] = 0\n",
    "print(\"Despues\")\n",
    "print(vector2d)"
   ]
  },
  {
   "cell_type": "markdown",
   "metadata": {},
   "source": [
    "7 - Dado el siguiente array transforma todos los elementos entre 3 y 8 (excluidos) en -1."
   ]
  },
  {
   "cell_type": "code",
   "execution_count": 70,
   "metadata": {},
   "outputs": [
    {
     "name": "stdout",
     "output_type": "stream",
     "text": [
      "[ 0  1  2 -1 -1 -1 -1 -1 -1  9]\n"
     ]
    }
   ],
   "source": [
    "a = np.arange(10)\n",
    "a[3:9] = -1\n",
    "print(a)"
   ]
  },
  {
   "cell_type": "markdown",
   "metadata": {},
   "source": [
    "8 - Utiliza la funcion [_genfromtxt_](https://docs.scipy.org/doc/numpy/reference/generated/numpy.genfromtxt.html) para leer el fichero _student_performance_dataset.csv_. Vamos a trajabar con un [dataset del performance de estudiantes en Portugal](https://archive.ics.uci.edu/ml/datasets/student+performance) para la asignatura de Portugues. Estudia bien el fichero . Puedes buscar funciones de _numpy_ que te ayuden en tu cometido aunque no las hayamos visto en clase."
   ]
  },
  {
   "cell_type": "markdown",
   "metadata": {},
   "source": [
    "La descripcion del dataset es el siguiente, en columnas (recuerda que las columnas en Python empiezan en 0):\n",
    "\n",
    "- 1: school - student's school (binary: 0 - Gabriel Pereira or 1 - Mousinho da Silveira) \n",
    "- 2: sex - student's sex (binary: 0 - female or 1 - male) \n",
    "- 3: age - student's age (numeric: from 15 to 22) \n",
    "- 4: address - student's home address type (binary: 0 - urban or 1 - rural) \n",
    "- 5: famsize - family size (binary: 0 - greater than 3 or 1 - less or equal to 3) \n",
    "- 6: Pstatus - parent's cohabitation status (binary: 0 - apart or 1 - living together) \n",
    "- 7: Medu - mother's education (numeric: 0 - none, 1 - primary education (4th grade), 2 - 5th to 9th grade, 3 - secondary education or 4 - higher education) \n",
    "- 8: Fedu - father's education (numeric: 0 - none, 1 - primary education (4th grade), 2 - 5th to 9th grade, 3 - secondary education or 4 - higher education) \n",
    "- 9: traveltime - home to school travel time (numeric: 1 - 15 min., 2 - 15 to 30 min., 3 - 30 min. to 1 hour, or 4 - more than 1 hour) \n",
    "- 10: studytime - weekly study time (numeric: 1 - less than 2 hours, 2 - 2 to 5 hours, 3 - 5 to 10 hours, or 4 - more than 10 hours) \n",
    "- 11: failures - number of past class failures (numeric: n if 1 less,equal than 3, else 4) \n",
    "- 12: schoolsup - extra educational support (binary: 1 - yes or 0 - no) \n",
    "- 13: famsup - family educational support (binary: 1 - yes or 0 - no) \n",
    "- 14: paid - extra paid classes within the course subject (binary: 1 - yes or 0 - no) \n",
    "- 15: activities - extra-curricular activities (binary: 1 - yes or 0 - no) \n",
    "- 16: nursery - attended nursery school (binary: 1 - yes or 0 - no) \n",
    "- 17: higher - wants to take higher education (binary: 1 - yes or 0 - no) \n",
    "- 18: internet - Internet access at home (binary: 1 - yes or 0 - no) \n",
    "- 19: romantic - with a romantic relationship (binary: 1 - yes or 0 - no) \n",
    "- 20: famrel - quality of family relationships (numeric: from 1 - very bad to 5 - excellent) \n",
    "- 21: freetime - free time after school (numeric: from 1 - very low to 5 - very high) \n",
    "- 22: goout - going out with friends (numeric: from 1 - very low to 5 - very high) \n",
    "- 23: Dalc - workday alcohol consumption (numeric: from 1 - very low to 5 - very high) \n",
    "- 24: Walc - weekend alcohol consumption (numeric: from 1 - very low to 5 - very high) \n",
    "- 25: health - current health status (numeric: from 1 - very bad to 5 - very good) \n",
    "- 26: absences - number of school absences (numeric: from 0 to 93) \n",
    "- 27: G1 - first period grade (numeric: from 0 to 20) \n",
    "- 28: G2 - second period grade (numeric: from 0 to 20) \n",
    "- 29: G3 - final grade (numeric: from 0 to 20, output target)\n",
    "\n",
    "**Para estos ejercicios vamos a utilizar el indexado booleano para pode acceder a la informacion y realizar nuestros primero analisis.**"
   ]
  },
  {
   "cell_type": "code",
   "execution_count": 16,
   "metadata": {
    "scrolled": true
   },
   "outputs": [
    {
     "name": "stdout",
     "output_type": "stream",
     "text": [
      "Hemos cargado 649 filas y 29 columnas\n"
     ]
    }
   ],
   "source": [
    "import numpy as np\n",
    "# Carga del fichero nucleospoblacion.csv\n",
    "students = np.genfromtxt('pandas/student_performance_dataset.csv',\n",
    "                            delimiter=',', skip_header=1, dtype=int)\n",
    "print('Hemos cargado {filas} filas y {columnas} columnas'.format(filas=students.shape[0], columnas=students.shape[1]))"
   ]
  },
  {
   "cell_type": "markdown",
   "metadata": {},
   "source": [
    "9 - Calcula la media de notas finales (G3) para cada una de las escuelas junto con sus respectivas desviaciones estandar."
   ]
  },
  {
   "cell_type": "code",
   "execution_count": 100,
   "metadata": {},
   "outputs": [
    {
     "name": "stdout",
     "output_type": "stream",
     "text": [
      "[[ 0  1 18 -1  0  0  4  4  2  2  0  1  0  0  0  1  1  0  0  4  3  4  1  1\n",
      "   3  4  0 11 11]\n",
      " [ 0  1 17 -1  0  1  1  1  1  2  0  0  1  0  0  0  1  1  0  5  3  3  1  1\n",
      "   3  2  9 11 11]]\n",
      "Escuela 0, media 12.576832151300236, devStd 2.622530564260271\n",
      "Escuela 1, media 10.650442477876107, devStd 3.825499536906023\n"
     ]
    }
   ],
   "source": [
    "print(students[0:2,:])\n",
    "#a = students[students[0, :] == 0]\n",
    "\n",
    "for escuela in (0,1):\n",
    "    #print(students[:, 0] == escuela)\n",
    "    media = students[students[:, 0] == escuela,28].mean()\n",
    "    devStd = students[students[:, 0] == escuela,28].std()\n",
    "    print(\"Escuela {}, media {}, devStd {}\".format(escuela, media, devStd))\n"
   ]
  },
  {
   "cell_type": "markdown",
   "metadata": {},
   "source": [
    "10 - Aquellos estudiantes que tienen padres o madres con educacion superior sacan mejores notas que los que no?"
   ]
  },
  {
   "cell_type": "code",
   "execution_count": 121,
   "metadata": {},
   "outputs": [
    {
     "name": "stdout",
     "output_type": "stream",
     "text": [
      "Media notas padres CON estudios superiores: 12.95673076923077\n",
      "Media notas padres SIN estudios superiores: 11.410430839002268\n"
     ]
    }
   ],
   "source": [
    "# padre o madre (col 6 o 7) == 4\n",
    "import numpy\n",
    "idxEduSup = numpy.where(numpy.logical_or(students[:,6] == 4, students[:,7] == 4))\n",
    "idxNoEduSup = numpy.where(numpy.logical_and(students[:,6] < 4, students[:,7] < 4))\n",
    "\n",
    "\n",
    "print(\"Media notas padres CON estudios superiores: {}\".format(students[idxEduSup, 28].mean()))\n",
    "print(\"Media notas padres SIN estudios superiores: {}\".format(students[idxNoEduSup, 28].mean()))\n"
   ]
  },
  {
   "cell_type": "markdown",
   "metadata": {},
   "source": [
    "Si quieres realizar el studio estadistico puedes utilizar la funcion [*ttest_ind*](https://docs.scipy.org/doc/scipy/reference/generated/scipy.stats.ttest_ind.html#scipy.stats.ttest_ind) que realiza la prueba de _T-test_ de dos muestras independientes. Se encuentra en el  modulo *scipy.stats* que contiene funciones para estudios estadisticos."
   ]
  },
  {
   "cell_type": "code",
   "execution_count": 122,
   "metadata": {},
   "outputs": [
    {
     "name": "stdout",
     "output_type": "stream",
     "text": [
      "Enhorabuena el resultado es significativo.\n",
      "T: 0.447091, p:0.660143\n"
     ]
    }
   ],
   "source": [
    "# esta es una forma de importar solo la funcion ttest_ind\n",
    "# al importar una funcion y no el modulo podemos llamarla directamente\n",
    "from scipy.stats import ttest_ind \n",
    "\n",
    "(T, p) = ttest_ind(np.random.random(10), np.random.random(10)*1.5)\n",
    "if p > .05:\n",
    "    print('Enhorabuena el resultado es significativo.')\n",
    "print('T: %f, p:%f' % (T, p))"
   ]
  },
  {
   "cell_type": "markdown",
   "metadata": {},
   "source": [
    "11 - De que forma influye el tiempo de estudio en los resultados de los estudiantes?. Por ahora puedes sacar las medias de las notas finales (G3) de cada asignatura. Puedes sacar las medias e imprimirlas de momento."
   ]
  },
  {
   "cell_type": "code",
   "execution_count": 3,
   "metadata": {},
   "outputs": [
    {
     "name": "stdout",
     "output_type": "stream",
     "text": [
      "studytime 1, nota media 10.84433962264151, devStd 3.211024058972148\n",
      "studytime 2, nota media 12.091803278688525, devStd 3.2378041072168897\n",
      "studytime 3, nota media 13.22680412371134, devStd 2.4891730694911316\n",
      "studytime 4, nota media 13.057142857142857, devStd 2.994689176743744\n",
      "T: -76.189641, p:0.000000\n"
     ]
    }
   ],
   "source": [
    "#10: studytime - weekly study time (numeric: 1 - less than 2 hours, 2 - 2 to 5 hours, 3 - 5 to 10 hours, or 4 - more than 10 hours)\n",
    "from scipy.stats import ttest_ind \n",
    "\n",
    "for studytime in range(1,5):\n",
    "    #print(students[:, 0] == escuela)\n",
    "    thisIdx = students[:, 9] == studytime,28\n",
    "    otherIdx = students[:, 9] != studytime,28\n",
    "    subsetThis = students[thisIdx] \n",
    "    subsetOthers = students[otherIdx] \n",
    "    media = subsetThis.mean()\n",
    "    devStd = subsetThis.std()\n",
    "\n",
    "    print(\"studytime {}, nota media {}, devStd {}\".format(studytime, media, devStd))\n",
    "\n",
    "\n",
    "(T, p) = ttest_ind(students[:,9],students[:,28])\n",
    "if p > .05:\n",
    "    print('Enhorabuena el resultado es significativo.')\n",
    "print('T: %f, p:%f' % (T, p))"
   ]
  },
  {
   "cell_type": "markdown",
   "metadata": {},
   "source": [
    "Si quieres realizar el studio estadistico puedes utilizar la funcion [*f_oneway*](https://docs.scipy.org/doc/scipy/reference/generated/scipy.stats.f_oneway.html#scipy.stats.f_oneway) que realiza la prueba Anova de 1 via independiente. Se encuentra en el  modulo *scipy.stats* que contiene funciones para estudios estadisticos."
   ]
  },
  {
   "cell_type": "code",
   "execution_count": 131,
   "metadata": {},
   "outputs": [
    {
     "name": "stdout",
     "output_type": "stream",
     "text": [
      "F_onewayResult(statistic=45.327105735921535, pvalue=2.3453619214644626e-09)\n"
     ]
    }
   ],
   "source": [
    "# esta es una forma de importar solo la funcion ttest_ind\n",
    "# al importar una funcion y no el modulo podemos llamarla directamente\n",
    "from scipy.stats import f_oneway \n",
    "\n",
    "print(f_oneway(np.random.random(10), np.random.random(10)*1.5, np.random.random(10)*10))"
   ]
  },
  {
   "cell_type": "markdown",
   "metadata": {},
   "source": [
    "Si estas interesado puedes realizar los test posthoc para ver cuales son las comparaciones que salen significativas\n",
    "\n"
   ]
  },
  {
   "cell_type": "code",
   "execution_count": null,
   "metadata": {
    "collapsed": true
   },
   "outputs": [],
   "source": []
  },
  {
   "cell_type": "markdown",
   "metadata": {},
   "source": [
    "12 - El numero de ausencias al colegio parece influir en las notas de los alumnos?. Para ello puedes realizar el estudio a intervalos de [1-10, 11-20, 21-30...80-90]. Filtra aquellos que tengan mas de 90 faltas para que los rangos de estudio sean homogeneos."
   ]
  },
  {
   "cell_type": "code",
   "execution_count": 17,
   "metadata": {},
   "outputs": [
    {
     "name": "stdout",
     "output_type": "stream",
     "text": [
      "ausencias 1, nota media 11.17741935483871, count 10\n",
      "ausencias 2, nota media 9.333333333333334, count 10\n",
      "ausencias 3, nota media 15.0, count 10\n",
      "ausencias 4, nota media nan, count 10\n",
      "ausencias 5, nota media nan, count 10\n",
      "ausencias 6, nota media nan, count 10\n",
      "ausencias 7, nota media nan, count 10\n",
      "ausencias 8, nota media nan, count 10\n"
     ]
    },
    {
     "name": "stderr",
     "output_type": "stream",
     "text": [
      "C:\\Users\\Doval\\AppData\\Local\\Continuum\\anaconda3\\lib\\site-packages\\ipykernel_launcher.py:7: RuntimeWarning: Mean of empty slice.\n",
      "  import sys\n",
      "C:\\Users\\Doval\\AppData\\Local\\Continuum\\anaconda3\\lib\\site-packages\\numpy\\core\\_methods.py:80: RuntimeWarning: invalid value encountered in double_scalars\n",
      "  ret = ret.dtype.type(ret / rcount)\n",
      "C:\\Users\\Doval\\AppData\\Local\\Continuum\\anaconda3\\lib\\site-packages\\numpy\\core\\_methods.py:135: RuntimeWarning: Degrees of freedom <= 0 for slice\n",
      "  keepdims=keepdims)\n",
      "C:\\Users\\Doval\\AppData\\Local\\Continuum\\anaconda3\\lib\\site-packages\\numpy\\core\\_methods.py:105: RuntimeWarning: invalid value encountered in true_divide\n",
      "  arrmean, rcount, out=arrmean, casting='unsafe', subok=False)\n",
      "C:\\Users\\Doval\\AppData\\Local\\Continuum\\anaconda3\\lib\\site-packages\\numpy\\core\\_methods.py:127: RuntimeWarning: invalid value encountered in double_scalars\n",
      "  ret = ret.dtype.type(ret / rcount)\n"
     ]
    }
   ],
   "source": [
    "#26: absences - number of school absences (numeric: from 0 to 93)\n",
    "students[:, 25] = students[:, 25] / 10\n",
    "for ausencias in range(1,9):\n",
    "    #print(students[:, 0] == escuela)\n",
    "    thisIdx = students[:, 25] == ausencias,28\n",
    "    subsetThis = students[thisIdx] \n",
    "    media = subsetThis.mean()\n",
    "    devStd = subsetThis.std()\n",
    "    count = 10; \n",
    "    #subsetThis.size()\n",
    "\n",
    "    print(\"ausencias {}, nota media {}, count {}\".format(ausencias, media, count))\n"
   ]
  },
  {
   "cell_type": "markdown",
   "metadata": {},
   "source": [
    "14 - Cuanto estudiantes han sacado la maxima nota (20) en las notas finales (G3)?"
   ]
  },
  {
   "cell_type": "code",
   "execution_count": null,
   "metadata": {
    "collapsed": true
   },
   "outputs": [],
   "source": []
  },
  {
   "cell_type": "markdown",
   "metadata": {},
   "source": [
    "15 - Compara las medias de aquellos que reciben clases extra y estudian mas de de 5 horas con aquellos que no reciben clases extra y estudian menos de 5 horas. "
   ]
  },
  {
   "cell_type": "code",
   "execution_count": null,
   "metadata": {
    "collapsed": true
   },
   "outputs": [],
   "source": []
  },
  {
   "cell_type": "markdown",
   "metadata": {},
   "source": [
    "16 - Calcula la media y la desviacion estandar de las diferencias entre notas del segundo (G2) y primer semestre (G1). Han mejorado los alumnos sus notas?. "
   ]
  },
  {
   "cell_type": "code",
   "execution_count": null,
   "metadata": {
    "collapsed": true
   },
   "outputs": [],
   "source": []
  },
  {
   "cell_type": "markdown",
   "metadata": {},
   "source": [
    "17 - Sacan mejores notas las chicas que tiene una relacion romantica que aquellas que no la tienen?. Realiza los calculos para la nota final (G3)."
   ]
  },
  {
   "cell_type": "code",
   "execution_count": null,
   "metadata": {
    "collapsed": true
   },
   "outputs": [],
   "source": []
  },
  {
   "cell_type": "markdown",
   "metadata": {},
   "source": [
    "18 - Haz una comparacion de chicos y chicas y que beben y no beben los fines de semana para saber si hay diferencias en las notas. Puedes mostrar las medias de cada uno de los cuatro grupos."
   ]
  },
  {
   "cell_type": "code",
   "execution_count": null,
   "metadata": {
    "collapsed": true
   },
   "outputs": [],
   "source": []
  }
 ],
 "metadata": {
  "kernelspec": {
   "display_name": "Python 3",
   "language": "python",
   "name": "python3"
  },
  "language_info": {
   "codemirror_mode": {
    "name": "ipython",
    "version": 3
   },
   "file_extension": ".py",
   "mimetype": "text/x-python",
   "name": "python",
   "nbconvert_exporter": "python",
   "pygments_lexer": "ipython3",
   "version": "3.6.3"
  }
 },
 "nbformat": 4,
 "nbformat_minor": 1
}
