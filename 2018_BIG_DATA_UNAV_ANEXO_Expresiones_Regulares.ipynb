{
 "cells": [
  {
   "cell_type": "markdown",
   "metadata": {},
   "source": [
    "Expresiones regulares\n",
    "============ \n",
    "\n",
    "Una expresión regular (también conocida como regex, regexp o RE) es una potente herramienta utilizada para\n",
    "encontrar y extraer rápidamente patrones en el texto. Las expresiones regulares no son particulares de\n",
    "Python; son un concepto de programación en general y que se puede usar con una amplia variedad de\n",
    "lenguajes de programación. Usan un lenguaje propio que es notoriamente difícil de aprender pero increíblemente útil. Una vez dominado, puedes encontrar patrones complejos dentro del texto con sintaxis muy compacta."
   ]
  },
  {
   "cell_type": "markdown",
   "metadata": {},
   "source": [
    "Índice\n",
    "====\n",
    "\n",
    "- [Sintáxis básica](#Sintaxix-B%C3%A1sica)\n",
    "- [¿Cúando usar expresiones regulares?](#%C2%BFC%C3%BAando-usar-expresiones-regulares?)\n",
    "- [Cheatsheet de principales caracteres](#Cheatsheet-de-principales-car%C3%A1cteres)\n",
    "    - [Caracteres especiales](#Caracteres-especiales)\n",
    "    - [Cuantificadores](#Cuantificadores)\n",
    "    - [Secuencias especiales](#Secuencias-especiales)\n",
    "- [Funciones](#Funciones)\n",
    "    - [Las funciones re.match y re.search](#Las-funciones-re.match-y-re.search)\n",
    "    - [Ejercicio](#Ejercicio)\n",
    "    - [El método re.sub](#El-m%C3%A9todo-re.sub)\n",
    "        - [Ejercicio 1](#Ejercicio-1)\n",
    "        - [Ejercicio 2](#Ejercicio-2)\n",
    "        - [Ejercicio 3](#Ejercicio-3)\n",
    "- [Limpieza de datos con expresiones regulares](#Limpieza-de-datos-con-expresiones-regulares)\n",
    "- [Revisión expresiones regulares](#Revisi%C3%B3n-expresiones-regulares)\n",
    "\n",
    "    "
   ]
  },
  {
   "cell_type": "markdown",
   "metadata": {},
   "source": [
    "Sintaxix Básica\n",
    "========\n",
    "\n",
    "La idea básica detrás de las expresiones regulares es combinar texto ordinario con una cantidad de\n",
    "diferentes caracteres \"especiales\" que se interpretan como formas de significar diferentes tipos de\n",
    "patrones. Por ejemplo, el carácter de asterisco, \\*, significa \"cero o más\" de lo que sea\n",
    "llegó justo antes del asterisco. Veamos algunos ejemplos básicos del uso de tales patrones\n",
    "para definir expresiones regulares (columna izquierda) y luego las cadenas subsiguientes que aquellas\n",
    "expresiones coinciden (columna derecha):"
   ]
  },
  {
   "cell_type": "markdown",
   "metadata": {},
   "source": [
    "| Expresion |           Descripción                                               |   Ejemplos de coincidencias\n",
    "| :- |:------------: | :-:\n",
    "|  a        |     coincide con el caracter \"a\"                                    |   a                           \n",
    "|  feliz    |     coincide con la palabra \"feliz\"                                 |   feliz                       \n",
    "|  f.liz    |     el \".\" coincide con cualquier caracter 1 caracter               |   feliz, faliz, fuzil         \n",
    "|  f\\*liz   |     el \"\\*\" coincide con cualquier caracter de cero a N caracterres |   feliz, fliz, faaaaliz       "
   ]
  },
  {
   "cell_type": "markdown",
   "metadata": {},
   "source": [
    "**NOTA:**\tConsulta los documentación oficial de Python para todos los caracteres especiales o\n",
    "PyRegex para una versión compacta."
   ]
  },
  {
   "cell_type": "markdown",
   "metadata": {},
   "source": [
    "El carácter especial \"\\*\" funciona de manera similar al uso de un comodín en la búsqueda de archivos. El caracter \"|\" funciona de la misma manera que diciendo OR en Python. También puedes usar paréntesis para dar prioridad a ciertos patrones. \n",
    "\n",
    "¿Con qué crees que esta expresión (ezno|curo|teopata) coincidirá?  Comprueba la [respuesta](http://rubular.com/r/9FvOxmUBQj)"
   ]
  },
  {
   "cell_type": "markdown",
   "metadata": {},
   "source": [
    "## ¿Cúando usar expresiones regulares?\n",
    "\n",
    "\n",
    "\n",
    "La regla de oro para saber si debemos usar expresiones regulares o no es: a menos que necesites usar expresiones regulares, quédate con los métodos básicos de coincidencias de cadenas de Python - como find () y replace (). Son mucho más fáciles de entender. En otras palabras, adopta un enfoque lento y comienza con una función de las anteriomente citadas; si el código comienza a ser demasiado complejo, cambia a expresiones regulares. Pero\n",
    "¿Qué significa \"excesivamente complejo\"?\n",
    "\n",
    "Bueno, comencemos en el extremo opuesto: simple. Cuando podemos implementar toda nuestra lógica de búsqueda en un solo predicado, deberíamos usar las funciones básicas de Python.\n",
    "\n",
    "\n",
    "Por ejemplo:"
   ]
  },
  {
   "cell_type": "code",
   "execution_count": 4,
   "metadata": {},
   "outputs": [
    {
     "name": "stdout",
     "output_type": "stream",
     "text": [
      "Explicit is much better than implicit.\n"
     ]
    }
   ],
   "source": [
    "str ='Explicito siempre es mejor que implicito.'\n",
    "print(str.replace('siempre', 'nunca'))"
   ]
  },
  {
   "cell_type": "markdown",
   "metadata": {},
   "source": [
    "En el caso anterior, sabemos exactamente lo que estamos buscando. ¿Pero qué pasa si no lo hacemos? ¿Qué tal con un número de teléfono de 10 dígitos? En ese caso, solo sabemos que el patrón es una series de números enteros con 10 dígitos (que pueden estar o no divididos por guiones o algunos otros caractéres)."
   ]
  },
  {
   "cell_type": "code",
   "execution_count": 6,
   "metadata": {},
   "outputs": [
    {
     "name": "stdout",
     "output_type": "stream",
     "text": [
      "El telefono de Luis es 627122223\n"
     ]
    }
   ],
   "source": [
    "str = \"El telefono de Luis es 627-122-223\"\n",
    "print(str.replace('-',''))"
   ]
  },
  {
   "cell_type": "markdown",
   "metadata": {},
   "source": [
    "Aquí todavía podemos usar `replace()` ya que estamos trabajando con un solo número de teléfono. Pero supongamos que tenemos una lista de números de teléfono que deben estandarizarse en el formato XXX-XXX-XXXX y cada uno de estos teléfonos siguen patrones distintos:"
   ]
  },
  {
   "cell_type": "code",
   "execution_count": 7,
   "metadata": {},
   "outputs": [],
   "source": [
    "lista_telefonos = [\n",
    "    \"555-555-5555\",\"555\t555\t5555\",\"555.555.5555\", \n",
    "    \"555.555.5555\",\"555.555-5555\",\"555/555/5555\"\n",
    "]"
   ]
  },
  {
   "cell_type": "markdown",
   "metadata": {},
   "source": [
    "Es seguro decir que si usas `find()` y / o `replace()`, tendremos una cantidad de declaraciones condicionales (if) y un bucle, lo que hace que la solución sea significativamente más compleja, abarca más allá de un solo predicado.\n",
    "Sin embargo, si usamos expresiones regulares, la solución es mucho más simple:"
   ]
  },
  {
   "cell_type": "code",
   "execution_count": 10,
   "metadata": {},
   "outputs": [
    {
     "name": "stdout",
     "output_type": "stream",
     "text": [
      "Número telefono: 555-555-5555\n",
      "Número telefono: 555-555-5555\n",
      "Número telefono: 555-555-5555\n",
      "Número telefono: 555-555-5555\n",
      "Número telefono: 555-555-5555\n",
      "Número telefono: 555-555-5555\n"
     ]
    }
   ],
   "source": [
    "# El modulo para usar expresiones regulares en Python se denomina re (regex)\n",
    "import re\n",
    "\n",
    "lista_telefonos= [\n",
    "    \"555-555-5555\",\"555\t555\t5555\",\"555.555.5555\",\n",
    "    \"555.555.5555\",\"555.555-5555\",\"555/555/5555\"\n",
    "]\n",
    "patron = r'\\D'\n",
    "for telefono in lista_telefonos:\n",
    "    numero = re.sub(patron, \"-\", telefono)\n",
    "    print(\"Número telefono:\", numero)"
   ]
  },
  {
   "cell_type": "markdown",
   "metadata": {},
   "source": [
    "Aquí, usamos la función `re.sub()` para hacer coincidir todos los caracteres que no son dígitos (r' D'), por ejemplo, guiones, puntos, barras, espacios - y luego reemplazarlos (o sustituirlos) por \"-\". Esto es un función comúnmente utilizada, así que asegúrate de entenderla.\n",
    "\n",
    "Aunque estos siguen siendo solo ejemplos básicos, debes acostumbrarte a usar estas expresiones con habitualida. Utilizado correctamente y en la situación correcta, nos puede ahorrar mucho tiempo al tener que encontrar y analizar una cadena.\n",
    "\n",
    "Antes de continuar, asegúrete de comprender los ejemplos, así como el significado de los caracteres especiales junto con la forma en que se utilizan en sus expresiones regulares en este notebook. Especialmente, ten en cuenta cuándo debes y no debes usar expresiones regulares, y recuerda que las expresiones regulares también pueden volverse complejas, especialmente cuando se usan incorrectamente. Si te encuentras escribiendo expresiones complejas, igual puedes probar primero con las funciones `find()` y `replace()`.\n",
    "\n",
    "Otra buena regla para decidir cuándo usar expresiones regulares en lugar de\n",
    "`find()` y `replace()` sería cuando regex:\n",
    "\n",
    "1. Es más fácil de entender;\n",
    "2. Expresa una intención clara y concisa;\n",
    "3. Es mucho más fácil añadir cosas y  más fácil de cambiar / adaptar."
   ]
  },
  {
   "cell_type": "markdown",
   "metadata": {},
   "source": [
    "## Cheatsheet de principales carácteres\n",
    "\n",
    "Veámos una lista de los principales caractéres que podremos usar para construir expresiones regulares \n",
    "\n",
    "### Caracteres especiales\n",
    "\n",
    "**\\** escapa los caracteres especiales, es necesario incluirlo antes de poner cualquier otro carácter especial\n",
    "\n",
    "**.** busca cualquier carácter\n",
    "\n",
    "**^** busca desde el comienzo de la cadena\n",
    "\n",
    "**$** busca hasta el final de la cadena\n",
    "\n",
    "**[5b-d]** busca '5', 'b', 'c' or 'd', es decir, b-d especifica un rango válido (b, c, d)\n",
    "\n",
    "**[^a-c6]**\tbusca cualquier carácter excepto 'a', 'b', 'c' (rango a-c) or '6'\n",
    "\n",
    "**R|S** buscar por el carácter 'R' o 'S'\n",
    "\n",
    "**()**\tcrea un grupo de busqueda e indica preferencia en la busqueda\n",
    "\n",
    "### Cuantificadores\n",
    "\n",
    "**\\***\t0 o más caractéres\n",
    "\n",
    "**+**\t1 o más caractéres\n",
    "\n",
    "**?**\t0 o 1\n",
    "\n",
    "**{m}**\texactamente en el número de caracteres especificado por m\n",
    "\n",
    "**{m, n}**\tde m a n. m por defecto de cero a infinito\n",
    "\n",
    "**{m, n}?**\tde m a n, tan pocos como sea posible\n",
    "\n",
    "\n",
    "### Secuencias especiales\n",
    "\n",
    "**\\A**\tprincipio de la cadena\n",
    "\n",
    "**\\b**\tbusca cadenas vacías dentro de una palabra (entre \\w y \\W)\n",
    "\n",
    "**\\B**\tbusca cadenas vacías de forma global\n",
    "\n",
    "**\\d**\tdígito 0-9\n",
    "\n",
    "**\\D**\tno dígito\n",
    "\n",
    "**\\s**\tespacio en blanco: [ \\t\\n\\r\\f\\v]\n",
    "\n",
    "**\\S**\tno espacio en blanco\n",
    "\n",
    "**\\w**\talfanumérico: [0-9a-zA-Z_]\n",
    "\n",
    "**\\W**\tno alfanumérico\n",
    "\n",
    "**\\Z**\tfinal de cadena\n",
    "\n",
    "**\\g<id>**\tbusca por un grupo previo ya definido, por el id\n",
    "\n"
   ]
  },
  {
   "cell_type": "markdown",
   "metadata": {},
   "source": [
    "## Funciones\n",
    "\n",
    "### Las funciones `re.match` y `re.search`\n",
    "\n",
    "Se utilizan para encontrar texto, las funciones `re.match()` y `re.search()` son dos de las funciones másampliamente utilizados en el módulo re.\n",
    "\n",
    "1. re.match(patrón, cadena) busca una coincidencia solo al comienzo de una cadena.\n",
    "2. re.search(patrón, cadena) busca una coincidencia en cualquier lugar de la cadena.\n",
    "\n",
    "Antes de ver un ejemplo, usaremos `group()` para aislar aún más partes del texto coincidente. Esta función especifica grupos con paréntesis dentro de la expresión. \n",
    "\n",
    "Veamos un ejemplo:"
   ]
  },
  {
   "cell_type": "code",
   "execution_count": 13,
   "metadata": {},
   "outputs": [
    {
     "name": "stdout",
     "output_type": "stream",
     "text": [
      "No encontrado.\n",
      "Encontrado: hacerlo\n"
     ]
    }
   ],
   "source": [
    "import re\n",
    "texto = \"mas facil decirlo que hacerlo\"\n",
    "\n",
    "#re.match\n",
    "coincidencias = re.match(r'hacerlo',texto)\n",
    "if coincidencias:\n",
    "    print(\"Encontrado: {}\".format((coincidencias).group()))\n",
    "else:\n",
    "    print(\"No encontrado.\")\n",
    "\n",
    "#re.search\n",
    "coincidencias = re.search(r'hacerlo',texto)\n",
    "if coincidencias:\n",
    "    print(\"Encontrado: {}\".format((coincidencias).group()))\n",
    "else:\n",
    "    print(\"No encontrado.\")"
   ]
  },
  {
   "cell_type": "markdown",
   "metadata": {},
   "source": [
    "Como podemos ver devuelven resultados distintos porque `re.match()` busca coincidencias al inicio de la cadena mientras que `re.search()` busca en cualquier lugar. Veamos otro ejemplo:"
   ]
  },
  {
   "cell_type": "code",
   "execution_count": 19,
   "metadata": {},
   "outputs": [
    {
     "name": "stdout",
     "output_type": "stream",
     "text": [
      "Grupo(0): Hola. Mi nombre es Íñigo Montoya. Tú mataste a mi padre. Prepárate a morir\n",
      "Grupo(1): Hola. Mi\n",
      "Grupo(2): es\n"
     ]
    }
   ],
   "source": [
    "import re\n",
    "texto = \"Hola. Mi nombre es Íñigo Montoya. Tú mataste a mi padre. Prepárate a morir\"\n",
    "\n",
    "#re.match(pattern, string, flags=0)\n",
    "m = re.match(r'^(.*) nombre (.s) .*',texto)\n",
    "if m:\n",
    "    print(\"Grupo(0):\", m.group(0))\n",
    "    print(\"Grupo(1):\", m.group(1))\n",
    "    print(\"Grupo(2):\", m.group(2))\n",
    "else:\n",
    "    print(\"No hay coincidencias!\")"
   ]
  },
  {
   "cell_type": "markdown",
   "metadata": {},
   "source": [
    "**¿Que esta pasando aqui?**\n",
    "\n",
    "Primero, analizemos la expresión regular:\n",
    "\n",
    "1. .* Coincide con cero o más de cualquier caracter\n",
    "2. nombre: coincide con la palabra completa \"nombre\"\n",
    "3. .s - Coincide con cualquier caracter individual y luego con el caracter \"s\".\n",
    "4. .* aceptará cualquier tipo de caracteres despues, tantos como haya\n",
    "\n",
    "En cuanto a los grupos:\n",
    "El grupo 0 define la cadena que coincide con la expresión regular completa, mientras que el Grupo 1\n",
    "y 2 representan subgrupos (definidos por cualquier cosa puesta entre paréntesis).\n",
    "Intenta cambiar los grupos, es decir, r '(. *) nombre .s (. *)' Para ver cómo afecta.\n",
    "\n",
    "Veamos otro ejemplo donde daremos nombre a los grupos, para ver que es más facil entonces trabajar con ellos.\n",
    "\n"
   ]
  },
  {
   "cell_type": "code",
   "execution_count": 20,
   "metadata": {},
   "outputs": [
    {
     "name": "stdout",
     "output_type": "stream",
     "text": [
      "Grupo(0): Iñigo Montoya\n",
      "Grupo(1): Iñigo\n",
      "Grupo(2): Montoya\n",
      "\n",
      "Grupo(\"primero\"): Iñigo\n",
      "Grupo(\"segundo\"): Montoya\n"
     ]
    }
   ],
   "source": [
    "import re\n",
    "string = \"Iñigo Montoya\"\n",
    "#re.match(pattern, string, flags=0)\n",
    "m = re.match(r\"(?P<primero>\\w+)\\W+(?P<segundo>\\w+)\", string)\n",
    "if m:\n",
    "    print(\"Grupo(0):\", m.group(0))\n",
    "    print(\"Grupo(1):\", m.group(1))\n",
    "    print(\"Grupo(2):\", m.group(2))\n",
    "    print(\"\")\n",
    "    print('Grupo(\"primero\"):', m.group(\"primero\"))\n",
    "    print('Grupo(\"segundo\"):', m.group(\"segundo\"))\n",
    "else:\n",
    "    print(\"No hay coincidencias!\")"
   ]
  },
  {
   "cell_type": "markdown",
   "metadata": {},
   "source": [
    "Divide la expresión regular por tu cuenta. ¿Qué iguala cada grupo? ¿Qué hace cada\n",
    "personaje especial ¿verdad? ¿Qué hay de las definiciones de grupo? ¿Tienen sentido para ti?\n",
    "\n",
    "Al igual que en el ejemplo anterior, el grupo 0 define la cadena que coincide con el total de la  expresión regular, mientras que los grupos 1 y 2 aún representan los subgrupos. Como también agregamos\n",
    "grupos nombrados que usan (? P <nombre> ...), también podemos representar las subcadenas con \"primero\"\n",
    "y \"segundo\"."
   ]
  },
  {
   "cell_type": "markdown",
   "metadata": {},
   "source": [
    "<a id=\"Ejercicios-primero\"></a>\n",
    "## Ejercicio\n",
    "\n",
    "¿Usarías re.match () o re.search () para obtener la palabra \"decirlo\" de text = \"más fácil\n",
    "decirlo que hacerlo \"? ¿No estás seguro? Pruébelo en ambos sentidos, usando expresiones regulares y no haciéndolo.\n",
    "\n",
    "¿Y si tuviésemos que obtener de obtener un número desconocido de una cadena de texto?"
   ]
  },
  {
   "cell_type": "markdown",
   "metadata": {
    "hideCode": false
   },
   "source": [
    "### El método `re.sub`\n",
    "\n",
    "El método `re.sub()` se usa para buscar y reemplazar texto: re.sub(patrón, reemplazo, cadena, max = 0). Esta función reemplaza todas las ocurrencias de un patrón específico a menos que especifiquemos el número máximo de sustituciones con el argumento max. \n",
    "\n",
    "Veamos un ejemplo:"
   ]
  },
  {
   "cell_type": "code",
   "execution_count": 22,
   "metadata": {},
   "outputs": [
    {
     "name": "stdout",
     "output_type": "stream",
     "text": [
      "La mejor forma de aprender Python es a través de ejercicios de mejora y ejemplos interesantes\n"
     ]
    }
   ],
   "source": [
    "import re\n",
    "\n",
    "texto = \"La mejor forma de aprender Python es a través de ejercicios prácticos y ejemplos interesantes\"\n",
    "patron = re.sub(\"prácticos\", \"de mejora\",texto, 0)#sin max; sustituye todas las ocurrencias\n",
    "print(patron)"
   ]
  },
  {
   "cell_type": "markdown",
   "metadata": {},
   "source": [
    "<a id=\"Ejercicios-segundo\"></a>\n",
    "### Ejercicio 1\n",
    "\n",
    "Dada la frase \"Evita tener declariones sencillas en una sola línea\":\n",
    "\n",
    "Crea una variable llamada patrón que usa la función `re.sub()` para cambiar el resultado a: \"Evita tener declaraciones múltiples  en una sola línea\"."
   ]
  },
  {
   "cell_type": "code",
   "execution_count": null,
   "metadata": {},
   "outputs": [],
   "source": []
  },
  {
   "cell_type": "markdown",
   "metadata": {},
   "source": [
    "<a id=\"Ejercicios-tercero\"></a>\n",
    "### Ejercicio 2\n",
    "\n",
    "Dada el siguiente fragmento de código:\n"
   ]
  },
  {
   "cell_type": "code",
   "execution_count": null,
   "metadata": {},
   "outputs": [],
   "source": [
    "import re\n",
    "validacion = re.compile(r'[A-Za-zs.]')\n",
    "nombre = input(\"Por favor introduce tu nombre:\")\n",
    "while not validacion.search(nombre):\n",
    "    print(\"Por favor introduce tu nombre correctamente!\")\n",
    "    nombre = input(\"Por favor introduce tu nombre:\")\n",
    "print(\"\\nTu nombre es {}!\".format(nombre))"
   ]
  },
  {
   "cell_type": "markdown",
   "metadata": {},
   "source": [
    "1. Lee sobre la función `re.compile` de la [documentación oficial](https://docs.python.org/3.5/library/re.html#re.compile) de Python. En tus\n",
    "propias palabras, describe cómo usarlo y por qué querrías usarlo.\n",
    "2. Luego, ejecuta el programa varias veces, probando las entradas que validan y las que no validan.\n",
    "3. Finalmente, refactorica el programa para asegurarse de que la entrada sea una dirección de correo electrónico: prueba que exista de texto alfanumérico, seguido del símbolo \"@\", otra cadena, una punto, y finalmente el final \"com\".\n",
    "4. Bonus: permite otros dominios, es decir, com, org, edu o net."
   ]
  },
  {
   "cell_type": "code",
   "execution_count": null,
   "metadata": {
    "collapsed": true
   },
   "outputs": [],
   "source": []
  },
  {
   "cell_type": "markdown",
   "metadata": {},
   "source": [
    "<a id=\"Ejercicios-cuarto\"></a>\n",
    "### Ejercicio 3\n",
    "\n",
    "Dada la siguiente lista con números de telefono de personas:\n"
   ]
  },
  {
   "cell_type": "code",
   "execution_count": 35,
   "metadata": {},
   "outputs": [],
   "source": [
    "\n",
    "phones = [\n",
    "    {'name': 'Debra Hardy', 'phone': '(140) 732-2619'},\n",
    "    {'name': 'Claudia Baker', 'phone': '(833) 362-0448'},\n",
    "    {'name': 'Justin Lara', 'phone': '(609) 832-1565'},\n",
    "    {'name': 'Judah Battle', 'phone': '(199) 834-7433'},\n",
    "    {'name': 'Florence Nielsen', 'phone': '(769) 666-4576'},\n",
    "    {'name': 'Orlando Kirby', 'phone': '(618) 110-3675'},\n",
    "    {'name': 'Tucker Webb', 'phone': '(990) 295-9494'},\n",
    "    {'name': 'Abel Jacobs', 'phone': '(840) 537-3516'},\n",
    "    {'name': 'Ann Crane', 'phone': '(345) 876-2223'},\n",
    "    {'name': 'Mariko Case', 'phone': '(800) 217-8587'},\n",
    "    {'name': 'Yasir Alvarado', 'phone': '(921) 322-5060'},\n",
    "    {'name': 'Andrew Fisher', 'phone': '(625) 775-0800'},\n",
    "    {'name': 'Amos Glass', 'phone': '(818) 141-7105'},\n",
    "    {'name': 'Thaddeus Merritt', 'phone': '(608) 737-8010'},\n",
    "    {'name': 'Ila Grimes', 'phone': '(115) 101-8630'},\n",
    "    {'name': 'John Hayden', 'phone': '(740) 568-9270'},\n",
    "    {'name': 'Silas Pope', 'phone': '(580) 823-4584'},\n",
    "    {'name': 'Margaret Hardy', 'phone': '(754) 322-1055'},\n",
    "    {'name': 'Tanner Mccormick', 'phone': '(843) 112-2089'},\n",
    "    {'name': 'Elizabeth Jackson', 'phone': '(680) 126-3136'},\n",
    "    {'name': 'Lawrence Rivera', 'phone': '(672) 743-3194'},\n",
    "    {'name': 'Coby Colon', 'phone': '(639) 515-3956'},\n",
    "    {'name': 'Quincy Barrett', 'phone': '(375) 757-1433'},\n",
    "    {'name': 'Charity Keller', 'phone': '(941) 610-1319'},\n",
    "    {'name': 'Meghan Mccullough', 'phone': '(527) 630-9283'},\n",
    "    {'name': 'Anthony Palmer', 'phone': '(378) 230-5293'},\n",
    "    {'name': 'Wyoming Ewing', 'phone': '(325) 824-0173'},\n",
    "    {'name': 'Reagan George', 'phone': '(435) 254-8036'},\n",
    "    {'name': 'Jillian Rowland', 'phone': '(673) 844-4285'},\n",
    "    {'name': 'Ria Sexton', 'phone': '(160) 705-2855'},\n",
    "    {'name': 'Clinton Molina', 'phone': '(181) 818-0286'},\n",
    "    {'name': 'Fitzgerald Andrews', 'phone': '(788) 665-9473'},\n",
    "    {'name': 'Nadine Hardy', 'phone': '(699) 814-7062'},\n",
    "    {'name': 'Colt Hayes', 'phone': '(337) 415-6064'},\n",
    "    {'name': 'Sara Kelly', 'phone': '(665) 638-6590'},\n",
    "    {'name': 'Garth Kemp', 'phone': '(190) 486-8916'},\n",
    "    {'name': 'Hollee Leonard', 'phone': '(893) 698-0680'},\n",
    "    {'name': 'Ryan Larson', 'phone': '(798) 621-8944'},\n",
    "    {'name': 'Barrett Fox', 'phone': '(156) 612-0228'},\n",
    "    {'name': 'Keefe Kim', 'phone': '(353) 725-9767'},\n",
    "    {'name': 'Drew Hardy', 'phone': '(772) 993-1350'},\n",
    "    {'name': 'Eve Eaton', 'phone': '(477) 101-3334'},\n",
    "    {'name': 'Fletcher Spence', 'phone': '(220) 116-8486'},\n",
    "    {'name': 'Erica Lane', 'phone': '(608) 459-5783'},\n",
    "    {'name': 'Basil Marquez', 'phone': '(751) 255-7104'},\n",
    "    {'name': 'Mark Christensen', 'phone': '(310) 132-2374'},\n",
    "    {'name': 'Georgia Green', 'phone': '(112) 967-6116'},\n",
    "    {'name': 'August Malone', 'phone': '(239) 937-9008'},\n",
    "    {'name': 'Todd Oneill', 'phone': '(193) 404-0582'},\n",
    "    {'name': 'Sebastian Monroe', 'phone': '(194) 717-1110'},\n",
    "    {'name': 'Tallulah Stark', 'phone': '(571) 444-6163'},\n",
    "    {'name': 'Dora Dean', 'phone': '(863) 361-9813'},\n",
    "    {'name': 'Seth Whitney', 'phone': '(609) 249-0090'},\n",
    "    {'name': 'Kyla Rogers', 'phone': '(831) 376-3594'},\n",
    "    {'name': 'Ivana Wooten', 'phone': '(634) 179-8657'},\n",
    "    {'name': 'Jason Mercado', 'phone': '(547) 929-7611'},\n",
    "    {'name': 'Connor Fernandez', 'phone': '(499) 808-6849'},\n",
    "    {'name': 'Leandra Ayala', 'phone': '(525) 912-1757'},\n",
    "    {'name': 'Quincy Randall', 'phone': '(138) 161-5518'},\n",
    "    {'name': 'Alika Duke', 'phone': '(273) 333-9098'},\n",
    "    {'name': 'Buffy Phillips', 'phone': '(165) 532-9117'},\n",
    "    {'name': 'Stephanie Brady', 'phone': '(179) 534-4204'},\n",
    "    {'name': 'Shay Hogan', 'phone': '(184) 359-9254'},\n",
    "    {'name': 'Timothy Cherry', 'phone': '(520) 733-6803'},\n",
    "    {'name': 'Holmes Langley', 'phone': '(531) 106-9000'},\n",
    "    {'name': 'Erica Bass', 'phone': '(870) 963-4395'},\n",
    "    {'name': 'Krystal Hardy', 'phone': '(689) 767-5273'},\n",
    "    {'name': 'Solomon Rutledge', 'phone': '(162) 269-2308'},\n",
    "    {'name': 'Ferdinand Beard', 'phone': '(599) 691-2277'},\n",
    "    {'name': 'Barbara Hayden', 'phone': '(990) 473-7851'},\n",
    "    {'name': 'Darius Hardy', 'phone': '(561) 732-3446'},\n",
    "    {'name': 'Jennifer Robertson', 'phone': '(601) 435-0626'},\n",
    "    {'name': 'Cara Shields', 'phone': '(443) 529-0618'},\n",
    "    {'name': 'Kitra Williams', 'phone': '(459) 491-9892'},\n",
    "    {'name': 'Breanna Raymond', 'phone': '(408) 965-6172'},\n",
    "    {'name': 'Zia Jarvis', 'phone': '(756) 558-9674'},\n",
    "    {'name': 'Baxter Gilbert', 'phone': '(543) 653-0186'},\n",
    "    {'name': 'Kevin Hardy', 'phone': '(895) 782-9691'},\n",
    "    {'name': 'Rebekah Mcpherson', 'phone': '(706) 687-5610'},\n",
    "    {'name': 'Kelly Munoz', 'phone': '(368) 486-6046'},\n",
    "    {'name': 'Ainsley Christensen', 'phone': '(901) 606-2103'},\n",
    "    {'name': 'Kareem Osborne', 'phone': '(474) 895-2737'},\n",
    "    {'name': 'Randall Graves', 'phone': '(973) 809-9180'},\n",
    "    {'name': 'Genevieve Mcfadden', 'phone': '(116) 819-4529'},\n",
    "    {'name': 'Tucker Avila', 'phone': '(377) 587-8851'},\n",
    "    {'name': 'Armand Ball', 'phone': '(661) 325-0323'},\n",
    "    {'name': 'Baxter Hines', 'phone': '(144) 286-5074'},\n",
    "    {'name': 'Allistair Marks', 'phone': '(191) 673-5903'},\n",
    "    {'name': 'Gil Duke', 'phone': '(878) 735-9096'},\n",
    "    {'name': 'Theodore Lynn', 'phone': '(151) 880-2714'},\n",
    "    {'name': 'Julie Wong', 'phone': '(235) 289-6726'},\n",
    "    {'name': 'Kyle Hardy', 'phone': '(196) 288-0897'},\n",
    "    {'name': 'Beau Davidson', 'phone': '(275) 667-9017'},\n",
    "    {'name': 'Daquan Osborn', 'phone': '(579) 507-2612'},\n",
    "    {'name': 'Tanisha Wells', 'phone': '(765) 720-5362'},\n",
    "    {'name': 'Graiden Cross', 'phone': '(759) 317-8186'},\n",
    "    {'name': 'Azalia Raymond', 'phone': '(485) 297-0000'},\n",
    "    {'name': 'Ava Patton', 'phone': '(236) 137-6953'},\n",
    "    {'name': 'Erasmus Patterson', 'phone': '(553) 381-4862'},\n",
    "    {'name': 'Griffin Pickett', 'phone': '(323) 583-8623'}\n",
    "]"
   ]
  },
  {
   "cell_type": "markdown",
   "metadata": {},
   "source": [
    "Escribe el código  para encontrar a todas las personas con el apellido \"Hardy\" o un nombre que comienza con la letra J. Muestra sus nombres, apellidos y números de teléfono."
   ]
  },
  {
   "cell_type": "code",
   "execution_count": null,
   "metadata": {},
   "outputs": [],
   "source": []
  },
  {
   "cell_type": "markdown",
   "metadata": {},
   "source": [
    "<a id=\"Ejercicios-quinto\"></a>\n",
    "Limpieza de datos con expresiones regulares\n",
    "--------------------------------------------------\n",
    "\n",
    "Tu tarea es simple: utiliza las herramientas find() y replace junto con expresiones regulares para\n",
    "convierte _sloppy_data.tsv en datos_sucios.tsv.\n",
    "\n",
    "datos_sucios.tsv es esencialmente solo un archivo de valores separados por tabuladores (TSV) que incluye líneas y espacios en blanco innecesarios. En este momento, es difícil abrir correctamente en algunas versiones de Microsoft Excel. Aunque solo hay veinte filas, lo cual no tomaría demasiado, se hace largo corregirlo a mano, imagina que tiene 20,000 filas. Eso no sería divertido de forma manual. Imagínate en su lugar, que querrías automatizarlo, por eso vamos a usar expresiones regulares. Realice los siguientes cambios:\n",
    "\n",
    "Elimina:\n",
    "1. Lineas en blanco\n",
    "2. Espacios en blanco al comienzo de cada línea\n",
    "3. Números entre corchetes\n",
    "4. La primera columa de números\n",
    "5. Las palabras\t\"Inc.\", \",Inc\" e \"Incorporated\"\t\n",
    "6. El espacio entre el código de área, (XXX),y el teléfono,\tXXX-XXXX\n",
    "\n"
   ]
  },
  {
   "cell_type": "code",
   "execution_count": null,
   "metadata": {},
   "outputs": [],
   "source": []
  },
  {
   "cell_type": "markdown",
   "metadata": {},
   "source": [
    "<a id=\"Ejercicios-sexto\"></a>\n",
    "Revisión expresiones regulares\n",
    "-----------------------------------\n",
    "\n",
    "Dado el siguiente trozo de código, modifica las variables de modo que todos los print devuelvan True"
   ]
  },
  {
   "cell_type": "code",
   "execution_count": 43,
   "metadata": {},
   "outputs": [
    {
     "name": "stdout",
     "output_type": "stream",
     "text": [
      "cero:False\n",
      "uno:False\n",
      "dos:False\n",
      "tres:False\n",
      "cuatro:False\n",
      "cinco:False\n",
      "seis:False\n",
      "siete: False\n"
     ]
    }
   ],
   "source": [
    "cero = \"Ruby\"\n",
    "uno = \"25/5/14\"\n",
    "dos = \"A99 9AA\"\n",
    "tres = r''\n",
    "cuatro = \"6.76\"\n",
    "cinco = [\"feliz\",\"cumpleaños\"]\n",
    "seis = r'\\.(doc)$'\n",
    "siete = \"Mi correo is alejandrovillamarin@internetmosquito.com\"\n",
    "\n",
    "\n",
    "# NO MODIFICAR NADA A PARTIR DE ESTA LINEA #\n",
    "#------------------------------------------#\n",
    "print(\"cero:{}\".format(cero==re.search(r'[P].*',\"Esto es Python de verdad!\").group()))\n",
    "print(\"uno:{}\".format(uno==re.search(r'\\d{1,2}\\/\\d{1,2}\\/\\d{4}',\"25/5/2014\").group()))\n",
    "print(\"dos:{}\".format(dos == re.match(\n",
    "                      r'[A-Z]([A-Z](\\d{1,2}|\\d[A-Z])|\\d{1,2})\\s\\d[A-Z]{2}',\n",
    "                      \"A88 8AA\",\n",
    "                      re.VERBOSE).group()))\n",
    "print(\"tres:{}\".format(bool(re.search(tres, \"B4c r79\").group())))\n",
    "print(\"cuatro:{}\".format(bool(re.search(r'\\$[0-5]\\.\\d\\d', cuatro))))\n",
    "print(\"cinco:{}\".format(bool(re.search(r'fe{4,10}liz\\b', cinco[0]))))\n",
    "ficheros=['test.doc','test.odt','test.ddt','doc','testodt','test.doc']\n",
    "ficheros_encontrados=[fichero for fichero in ficheros if re.search(seis, fichero)]\n",
    "print(\"seis:{}\".format(len(ficheros_encontrados) == 3))\n",
    "email_regex=r'\\w+@\\w+\\.(com|org|edu|net)'\n",
    "texto=\"Mi correo is alejandrovillamarin@internetmosquito.com\"\n",
    "texto_r=re.sub(email_regex, '(email redacted)', texto)\n",
    "print(\"siete: {}\".format(siete == texto_r))"
   ]
  },
  {
   "cell_type": "code",
   "execution_count": null,
   "metadata": {},
   "outputs": [],
   "source": []
  }
 ],
 "metadata": {
  "kernelspec": {
   "display_name": "Python 3",
   "language": "python",
   "name": "python3"
  },
  "language_info": {
   "codemirror_mode": {
    "name": "ipython",
    "version": 3
   },
   "file_extension": ".py",
   "mimetype": "text/x-python",
   "name": "python",
   "nbconvert_exporter": "python",
   "pygments_lexer": "ipython3",
   "version": "3.6.2"
  }
 },
 "nbformat": 4,
 "nbformat_minor": 1
}
