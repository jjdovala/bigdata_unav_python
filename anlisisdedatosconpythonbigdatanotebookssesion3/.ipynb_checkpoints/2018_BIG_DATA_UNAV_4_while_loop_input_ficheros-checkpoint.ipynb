{
 "cells": [
  {
   "cell_type": "markdown",
   "metadata": {},
   "source": [
    "---\n",
    "# Experto Big Data UNAV 2018 - Notebook 4 - Bucles while, input y ficheros\n",
    "---"
   ]
  },
  {
   "cell_type": "markdown",
   "metadata": {},
   "source": [
    "Jugando con el input del usuario\n",
    "===\n",
    "Casi todos los programas interesantes aceptan la entrada del usuario en algún momento. Puedes comenzar a aceptar la entrada de usuario en tus programas usando la función _input ()_. La función _input_ muestra un mensaje al usuario que describe el tipo de entrada que está buscando, y luego espera a que el usuario ingrese un valor. Cuando el usuario presiona Enter, el valor pasa a tu variable.\n"
   ]
  },
  {
   "cell_type": "markdown",
   "metadata": {},
   "source": [
    "Sintaxis general\n",
    "---\n",
    "El caso general para aceptar la entrada se ve así:"
   ]
  },
  {
   "cell_type": "code",
   "execution_count": 6,
   "metadata": {
    "collapsed": true
   },
   "outputs": [
    {
     "name": "stdout",
     "output_type": "stream",
     "text": [
      "12\n"
     ]
    }
   ],
   "source": [
    "# recoge input del usuario\n",
    "variable = input('Introduce un valor: ')\n",
    "# Hacer algo con el valor introducido\n",
    "print(variable)"
   ]
  },
  {
   "cell_type": "markdown",
   "metadata": {},
   "source": [
    "Necesitaras una variable que almacene el valor introducido por el usuario."
   ]
  },
  {
   "cell_type": "markdown",
   "metadata": {},
   "source": [
    "En el siguiente ejemplo tenemos una lista con nombres de amigos y agregamos otro nombre a la lista a traves del _input_ del usuario."
   ]
  },
  {
   "cell_type": "code",
   "execution_count": 2,
   "metadata": {
    "collapsed": true
   },
   "outputs": [
    {
     "name": "stdout",
     "output_type": "stream",
     "text": [
      "luis\n"
     ]
    }
   ],
   "source": [
    "# lista con nombres.\n",
    "nombres = ['guido', 'juan', 'pepe']\n",
    "\n",
    "# pregunta al usuario\n",
    "nombre_nuevo = input(\"A quien quieres agregar? \")\n",
    "\n",
    "# Agrega a la lista\n",
    "nombres.append(nombre_nuevo)\n",
    "\n",
    "# imprime la lista actualizada\n",
    "print(nombre_nuevo)"
   ]
  },
  {
   "cell_type": "markdown",
   "metadata": {},
   "source": [
    "**NOTA:** La funcion _input()_ en Python 2.7 funciona de forma diferente y se debe usar *raw\\_input()* para su correcto procesado."
   ]
  },
  {
   "cell_type": "markdown",
   "metadata": {},
   "source": [
    "La funcion _input_ lo que hace lo siguiente: detiene la ejecucion del programa y espera a que el usuario escriba un texto y pulse la tecla de retorno de carro; en ese momento prosigue la ejecucion y la funcion devuelve una cadena con el texto que tecleo el usuario.\n",
    "\n",
    "Si deseas que el valor introducido sea un valor flotante, debes transformar la cadena devuelta por _input_ en un dato de tipo flotante llamando a la funcion _float_. La funcion _float_ recibira como argumento la cadena que devuelve _input_ y proporcionara un numero en coma flotante."
   ]
  },
  {
   "cell_type": "code",
   "execution_count": 8,
   "metadata": {
    "collapsed": true
   },
   "outputs": [
    {
     "ename": "ValueError",
     "evalue": "could not convert string to float: 'a'",
     "output_type": "error",
     "traceback": [
      "\u001b[1;31m---------------------------------------------------------------------------\u001b[0m",
      "\u001b[1;31mValueError\u001b[0m                                Traceback (most recent call last)",
      "\u001b[1;32m<ipython-input-8-dffb209f6e34>\u001b[0m in \u001b[0;36m<module>\u001b[1;34m()\u001b[0m\n\u001b[0;32m      1\u001b[0m \u001b[0ma\u001b[0m \u001b[1;33m=\u001b[0m \u001b[0minput\u001b[0m\u001b[1;33m(\u001b[0m\u001b[1;34m'Introduce el primer operando flotante: '\u001b[0m\u001b[1;33m)\u001b[0m\u001b[1;33m\u001b[0m\u001b[0m\n\u001b[0;32m      2\u001b[0m \u001b[0mb\u001b[0m \u001b[1;33m=\u001b[0m \u001b[0minput\u001b[0m\u001b[1;33m(\u001b[0m\u001b[1;34m'Introduce el segundo operando flotante: '\u001b[0m\u001b[1;33m)\u001b[0m\u001b[1;33m\u001b[0m\u001b[0m\n\u001b[1;32m----> 3\u001b[1;33m \u001b[0mprint\u001b[0m\u001b[1;33m(\u001b[0m\u001b[1;34m'La suma es de {0} y {1} es: {2}'\u001b[0m\u001b[1;33m.\u001b[0m\u001b[0mformat\u001b[0m\u001b[1;33m(\u001b[0m\u001b[0ma\u001b[0m\u001b[1;33m,\u001b[0m \u001b[0mb\u001b[0m\u001b[1;33m,\u001b[0m \u001b[0mfloat\u001b[0m\u001b[1;33m(\u001b[0m\u001b[0ma\u001b[0m\u001b[1;33m)\u001b[0m \u001b[1;33m+\u001b[0m \u001b[0mfloat\u001b[0m\u001b[1;33m(\u001b[0m\u001b[0mb\u001b[0m\u001b[1;33m)\u001b[0m\u001b[1;33m)\u001b[0m\u001b[1;33m)\u001b[0m\u001b[1;33m\u001b[0m\u001b[0m\n\u001b[0m",
      "\u001b[1;31mValueError\u001b[0m: could not convert string to float: 'a'"
     ]
    }
   ],
   "source": [
    "a = input('Introduce el primer operando flotante: ')\n",
    "b = input('Introduce el segundo operando flotante: ')\n",
    "print('La suma es de {0} y {1} es: {2}'.format(a, b, float(a) + float(b)))"
   ]
  },
  {
   "cell_type": "markdown",
   "metadata": {},
   "source": [
    "**NOTA:** Si a la funcion input el usuario le mete una palabra en vez de un numero Python lanzara un error porque al realizar el casting a _float_ y recibir una cadena no sabe que hacer."
   ]
  },
  {
   "cell_type": "markdown",
   "metadata": {},
   "source": [
    "Control de errores\n",
    "---\n",
    "Se puede realizar un control de errores basico utilizando la sentencia _try/except_. Veamos como se utiliza. "
   ]
  },
  {
   "cell_type": "code",
   "execution_count": 10,
   "metadata": {
    "collapsed": true
   },
   "outputs": [
    {
     "name": "stdout",
     "output_type": "stream",
     "text": [
      "Lo siento pero el primer operando no es un entero.\n",
      "esto siempre lo hace\n",
      "Lo siento pero el segundo operando no es un entero.\n",
      "No se pudo realizar la suma.\n"
     ]
    }
   ],
   "source": [
    "# introduce el entero 5\n",
    "a = input('Introduce el primer operando entero: ')\n",
    "# introduce la palabra casa\n",
    "b = input('Introduce el segundo operando entero: ')\n",
    "\n",
    "try: \n",
    "    a = int(a)\n",
    "except:\n",
    "    print('Lo siento pero el primer operando no es un entero.')\n",
    "finally:\n",
    "    print( \"esto siempre lo hace\")\n",
    "\n",
    "try:\n",
    "    b = int(b)\n",
    "except:\n",
    "    print('Lo siento pero el segundo operando no es un entero.')\n",
    "\n",
    "try:\n",
    "    print('La suma es de {0} y {1} es: {2}'.format(a, b, float(a) + float(b)))\n",
    "except:\n",
    "    print('No se pudo realizar la suma.')"
   ]
  },
  {
   "cell_type": "markdown",
   "metadata": {},
   "source": [
    "Lo que Python hace es lo siguiente:\n",
    "- Intenta ejecutar la sentencia que esta en el bloque del _try_.\n",
    "- Si esta genera un error salta al bloque _except_ y lo ejecuta.\n",
    "- Lo bueno de todo esto es que el programa no para y nos permite continuar.\n",
    "\n",
    "Para mas informacion puedes mirar el [control de errores en Python](https://docs.python.org/2/tutorial/errors.html)."
   ]
  },
  {
   "cell_type": "markdown",
   "metadata": {},
   "source": [
    "# Bucle while"
   ]
  },
  {
   "cell_type": "markdown",
   "metadata": {},
   "source": [
    "Un bucle while permite repetir la ejecución de un grupo de instrucciones mientras se cumpla una condición (es decir, mientras la condición tenga el valor True). Cuando llega a un bucle while, Python evalúa la condición y, si es cierta, ejecuta el cuerpo del bucle. Una vez ejecutado el cuerpo del bucle, se repite el proceso (se evalúa de nuevo la condición y, si es cierta, se ejecuta de nuevo el cuerpo del bucle) una y otra vez mientras la condición sea cierta. Únicamente cuando la condición sea falsa, el cuerpo del bucle no se ejecutará y continuará la ejecución del resto del programa.\n",
    "La variable o las variables que aparezcan en la condición se suelen llamar variables de control. Las variables de control deben definirse antes del bucle while y modificarse en el bucle while."
   ]
  },
  {
   "cell_type": "code",
   "execution_count": 1,
   "metadata": {
    "collapsed": true
   },
   "outputs": [
    {
     "name": "stdout",
     "output_type": "stream",
     "text": [
      "1\n",
      "2\n",
      "3\n",
      "Programa terminado\n"
     ]
    }
   ],
   "source": [
    "i = 1\n",
    "while i <= 3:\n",
    "    print(i)\n",
    "    i += 1\n",
    "print(\"Programa terminado\")"
   ]
  },
  {
   "cell_type": "markdown",
   "metadata": {},
   "source": [
    "- Cada bucle _while_ necesita una condición inicial que en el comienzo sea verdadera.\n",
    "- La declaración _while_ incluye una condición para testear.\n",
    "- Todo el código en el bucle se ejecutará mientras la condición sea verdadera.\n",
    "- Tan pronto como algo en el bucle cambie la condición de modo que la condición no sea verdadera, el bucle deja de ejecutarse.\n",
    "- Cualquier código que se define después de que el bucle se ejecutará desde este punto.\n"
   ]
  },
  {
   "cell_type": "code",
   "execution_count": null,
   "metadata": {
    "collapsed": true
   },
   "outputs": [],
   "source": [
    "i = 1\n",
    "while i <= 50:\n",
    "    print(i)\n",
    "    i = 3*i + 1\n",
    "print(\"Programa terminado\")"
   ]
  },
  {
   "cell_type": "markdown",
   "metadata": {},
   "source": [
    "Se puede utilizar por ejemplo para realizar el control de introduccion de datos por parte del usuario"
   ]
  },
  {
   "cell_type": "code",
   "execution_count": 12,
   "metadata": {
    "collapsed": true
   },
   "outputs": [
    {
     "name": "stdout",
     "output_type": "stream",
     "text": [
      "¡Ha escrito un número negativo! Inténtelo de nuevo\n",
      "¡Ha escrito un número negativo! Inténtelo de nuevo\n",
      "Gracias por su colaboración\n"
     ]
    }
   ],
   "source": [
    "numero = int(input(\"Escriba un número positivo: \"))\n",
    "while numero < 0:\n",
    "    print(\"¡Ha escrito un número negativo! Inténtelo de nuevo\")\n",
    "    numero = int(input(\"Escriba un número positivo: \"))\n",
    "print(\"Gracias por su colaboración\")"
   ]
  },
  {
   "cell_type": "markdown",
   "metadata": {},
   "source": [
    "**CUIDADO!!** Si la condición del bucle se cumple siempre, el bucle no terminará nunca de ejecutarse y tendremos lo que se denomina un bucle infinito. Aunque a veces es necesario utilizar bucles infinitos en un programa, normalmente se deben a errores que se deben corregir.\n",
    "Los bucles infinitos no intencionados deben evitarse pues significan perder el control del programa. Para interrumpir un bucle infinito, hay que pulsar la combinación de teclas Ctrl+C. Al interrumpir un programa se mostrará un mensaje de error."
   ]
  },
  {
   "cell_type": "markdown",
   "metadata": {},
   "source": [
    "El programador ha olvidado modificar la variable de control dentro del bucle y el programa imprimirá números 1 indefinidamente:"
   ]
  },
  {
   "cell_type": "code",
   "execution_count": null,
   "metadata": {
    "collapsed": true
   },
   "outputs": [],
   "source": [
    "# esto es un bucle infinito y puede bloquear tu ordenador cuidado\n",
    "i = 1\n",
    "while i <= 10:\n",
    "    print(i)"
   ]
  },
  {
   "cell_type": "markdown",
   "metadata": {},
   "source": [
    "El programador ha escrito una condición que se cumplirá siempre y el programa imprimirá números consecutivos indefinidamente:"
   ]
  },
  {
   "cell_type": "code",
   "execution_count": null,
   "metadata": {
    "collapsed": true
   },
   "outputs": [],
   "source": [
    "# esto es un bucle infinito y puede bloquear tu ordenador cuidado\n",
    "i = 1\n",
    "while i > 0:\n",
    "    print(i)\n",
    "    i += 1"
   ]
  },
  {
   "cell_type": "markdown",
   "metadata": {},
   "source": [
    "Se aconseja expresar las condiciones como desigualdades en vez de comparar valores. En el ejemplo siguiente, el programador ha escrito una condición que se cumplirá siempre y el programa imprimirá números consecutivos indefinidamente:"
   ]
  },
  {
   "cell_type": "code",
   "execution_count": null,
   "metadata": {
    "collapsed": true
   },
   "outputs": [],
   "source": [
    "# esto es un bucle infinito y puede bloquear tu ordenador cuidado\n",
    "i = 1\n",
    "while i != 100:\n",
    "    print(i)\n",
    "    i += 2"
   ]
  },
  {
   "cell_type": "markdown",
   "metadata": {},
   "source": [
    "Seguramente haras que algunos bucles se ejecuten infinitamente en algún momento. Cuando lo hagas, simplemente interrumpe el ciclo y descubre el error lógico que cometiste.\n",
    "- En la mayoría de los sistemas, Ctrl-C interrumpirá el programa actualmente en ejecución.\n",
    "- En el caso de Jupyter es muy probable que tengas que interrumpir el kernel (boton STOP) y reiniciar el Notebook"
   ]
  },
  {
   "cell_type": "markdown",
   "metadata": {},
   "source": [
    "Usando bucles _while_  para mantener programas en ejecución\n",
    "===\n",
    "La mayoría de los programas que usamos todos los días se ejecutan hasta que les indicamos que se salgan, y en el fondo, esto a menudo se hace con un bucle _while_. Aquí hay un ejemplo de cómo dejar que el usuario ingrese una cantidad arbitraria de nombres."
   ]
  },
  {
   "cell_type": "code",
   "execution_count": 14,
   "metadata": {
    "collapsed": true
   },
   "outputs": [
    {
     "name": "stdout",
     "output_type": "stream",
     "text": [
      "['a', 'sd', 'fgg']\n"
     ]
    }
   ],
   "source": [
    "# empezamos con la lista vacia\n",
    "nombres = []\n",
    "\n",
    "# incializamos la palabra de control del bucle salida a cadena vacia\n",
    "nombre = ''\n",
    "\n",
    "# empieza bucle que termina al teclear 'quit'\n",
    "while nombre != 'quit':\n",
    "    # preguntamos por nuevo nombre\n",
    "    nombre = input(\"Dame un nombre o introduce 'quit' para finalizar: \")\n",
    "\n",
    "    # agregamos\n",
    "    if nombre != 'quit':\n",
    "        nombres.append(nombre)\n",
    "\n",
    "# imprime los nombres\n",
    "print(nombres)"
   ]
  },
  {
   "cell_type": "markdown",
   "metadata": {},
   "source": [
    "Como puedes ver, al final hemos agregado la palabra de salida que no deberia estar en nuestra lista. Se te ocurren una forma de no agregarla cuando termine el bucle?. Podemos usar un simple _if_ para eliminar la palabra de la lista."
   ]
  },
  {
   "cell_type": "code",
   "execution_count": null,
   "metadata": {
    "collapsed": true
   },
   "outputs": [],
   "source": [
    "# empezamos con la lista vacia\n",
    "nombres = []\n",
    "\n",
    "# incializamos la palabra de control del bucle salida a cadena vacia\n",
    "nombre = ''\n",
    "\n",
    "# empieza bucle que termina al teclear 'quit'\n",
    "while nombre != 'quit':\n",
    "    # preguntamos por nuevo nombre\n",
    "    nombre = input(\"Dame un nombre o introduce 'quit' para finalizar: \")\n",
    "\n",
    "    # agregamos\n",
    "    if nombre != 'quit':\n",
    "        nombres.append(nombre)\n",
    "\n",
    "# imprime los nombres\n",
    "print(nombres)"
   ]
  },
  {
   "cell_type": "markdown",
   "metadata": {},
   "source": [
    "Fantastico! ya tenemos una forma de controlar con los bucles _while_ la ejecucion de un programa hasta que el usuario desee terminar."
   ]
  },
  {
   "cell_type": "markdown",
   "metadata": {},
   "source": [
    "Creando menus con el bucle _while_\n",
    "===\n",
    "Ahora tenemos suficiente Python en nuestro haber para ofrecer a los usuarios un conjunto de opciones y luego responder a esas opciones hasta que decidan abandonar. Veamos un ejemplo simple y luego analicemos el código:"
   ]
  },
  {
   "cell_type": "code",
   "execution_count": 16,
   "metadata": {
    "collapsed": true
   },
   "outputs": [
    {
     "name": "stdout",
     "output_type": "stream",
     "text": [
      "\n",
      "Bienvenido al restaurante de Juan?\n",
      "\n",
      "[1] Introduzca 1 para pedir comida.\n",
      "[2] Introduzca 2 para pagar.\n",
      "[3] Introduzca 3 para llamar a un camarero.\n",
      "[q] Introduzca 'q' para salir.\n",
      "\n",
      "Aqui tiene el menu.\n",
      "\n",
      "\n",
      "[1] Introduzca 1 para pedir comida.\n",
      "[2] Introduzca 2 para pagar.\n",
      "[3] Introduzca 3 para llamar a un camarero.\n",
      "[q] Introduzca 'q' para salir.\n",
      "\n",
      "Aqui esta la pasarela de pago.\n",
      "\n",
      "\n",
      "[1] Introduzca 1 para pedir comida.\n",
      "[2] Introduzca 2 para pagar.\n",
      "[3] Introduzca 3 para llamar a un camarero.\n",
      "[q] Introduzca 'q' para salir.\n",
      "\n",
      "Un camarero vendra lo mas pronto posible.\n",
      "\n",
      "\n",
      "[1] Introduzca 1 para pedir comida.\n",
      "[2] Introduzca 2 para pagar.\n",
      "[3] Introduzca 3 para llamar a un camarero.\n",
      "[q] Introduzca 'q' para salir.\n",
      "\n",
      "Thanks for playing. See you later.\n",
      "\n",
      "Gracias! esperamos tenerle pronto de vuelta.\n"
     ]
    }
   ],
   "source": [
    "# Titulo del menu a crear\n",
    "print(\"\\nBienvenido al restaurante de Juan?\")\n",
    "\n",
    "# Crear valor inicial para que se puedan elegir las diferentes opciones \n",
    "opcion = ''\n",
    "\n",
    "# comenzamos el bucle hasta que recibimos 'q'\n",
    "while opcion != 'q':\n",
    "    # opciones del menu\n",
    "    print(\"\\n[1] Introduzca 1 para pedir comida.\")\n",
    "    print(\"[2] Introduzca 2 para pagar.\")\n",
    "    print(\"[3] Introduzca 3 para llamar a un camarero.\")\n",
    "    print(\"[q] Introduzca 'q' para salir.\")\n",
    "    \n",
    "    # preguntamos por que opcion quiere\n",
    "    opcion = input(\"\\nQue quieres hacer? \")\n",
    "    \n",
    "    # Respuesta a la seleccion\n",
    "    if opcion == '1':\n",
    "        print(\"\\nAqui tiene el menu.\\n\")\n",
    "    elif opcion == '2':\n",
    "        print(\"\\nAqui esta la pasarela de pago.\\n\")\n",
    "    elif opcion == '3':\n",
    "        print(\"\\nUn camarero vendra lo mas pronto posible.\\n\")\n",
    "    elif opcion == 'q':\n",
    "        print(\"\\nThanks for playing. See you later.\\n\")\n",
    "    else:\n",
    "        opcion(\"\\nHa seleccionado una opcion que no valida. Repita su seleccion..\\n\")\n",
    "        \n",
    "# imprimimos salida\n",
    "print(\"Gracias! esperamos tenerle pronto de vuelta.\")"
   ]
  },
  {
   "cell_type": "markdown",
   "metadata": {},
   "source": [
    "Usar bucles _while_ para procesar elementos en una lista\n",
    "===\n",
    "En la sección de listas, vimos que podemos hacer _pop()_ de elementos de una lista. Podemos usar una lista de elementos para mostrar elementos de uno en uno de una lista y trabajar con ellos de la forma que necesitemos. Veamos un ejemplo donde procesamos una lista de usuarios no confirmados en una base de datos."
   ]
  },
  {
   "cell_type": "code",
   "execution_count": null,
   "metadata": {
    "collapsed": true
   },
   "outputs": [],
   "source": [
    "# lista de usuarios a confirmar\n",
    "usuarios_no_conf = ['juan', 'pepe', 'mario', 'aurelio']\n",
    "usuarios_conf = []\n",
    "\n",
    "# recorremos la lista\n",
    "while len(usuarios_no_conf) > 0:\n",
    "    \n",
    "    # recogemos usuario y lo confirmamos\n",
    "    usuario_actual = usuarios_no_conf.pop()\n",
    "    print(\"Confirmando usuario %s...confirmado!\" % usuario_actual.title())\n",
    "    \n",
    "    # lo agregamos a la lista usuarios confirmados\n",
    "    usuarios_conf.append(usuario_actual)\n",
    "    \n",
    "# comprobamos que hemos procesado la lista de no confirmados\n",
    "print(\"\\nUsuarios no confirmados:\")\n",
    "for usuario in usuarios_no_conf:\n",
    "    print('- ' + usuario.title())\n",
    "    \n",
    "print(\"\\nUsuarios confirmados:\")\n",
    "for usuario in usuarios_conf:\n",
    "    print('- ' + usuario.title())"
   ]
  },
  {
   "cell_type": "markdown",
   "metadata": {},
   "source": [
    "Esto funciona, pero hagamos una pequeña mejora. El programa actual siempre funciona con el usuario agregado más recientemente. Si los usuarios se unen más rápido de lo que podemos confirmarlos, dejaremos atrás a los usuarios del principio. Si queremos trabajar en un modelo de FIFO (First In First Out) y priorizar a los usuarios que fueron agregados primero, podemos abrir el popear el primer elemento de la lista cada vez."
   ]
  },
  {
   "cell_type": "code",
   "execution_count": null,
   "metadata": {
    "collapsed": true
   },
   "outputs": [],
   "source": [
    "# lista de usuarios a confirmar\n",
    "usuarios_no_conf = ['juan', 'pepe', 'mario', 'aurelio']\n",
    "usuarios_conf = []\n",
    "\n",
    "# recorremos la lista\n",
    "while len(usuarios_no_conf) > 0:\n",
    "    \n",
    "    # recogemos usuario y lo confirmamos\n",
    "    usuario_actual = usuarios_no_conf.pop(0)\n",
    "    print(\"Confirmando usuario %s...confirmado!\" % usuario_actual.title())\n",
    "    \n",
    "    # lo agregamos a la lista usuarios confirmados\n",
    "    usuarios_conf.append(usuario_actual)\n",
    "    \n",
    "# comprobamos que hemos procesado la lista de no confirmados\n",
    "print(\"\\nUsuarios no confirmados:\")\n",
    "for usuario in usuarios_no_conf:\n",
    "    print('- ' + usuario.title())\n",
    "    \n",
    "print(\"\\nUsuarios confirmados:\")\n",
    "for usuario in usuarios_conf:\n",
    "    print('- ' + usuario.title())"
   ]
  },
  {
   "cell_type": "markdown",
   "metadata": {},
   "source": [
    "Observa como ahora hemos procesado a los usuarios mas antiguos primero."
   ]
  },
  {
   "cell_type": "markdown",
   "metadata": {},
   "source": [
    "Lectura/escritura de ficheros\n",
    "===\n",
    "Tanto para leer como para escribir un fichero lo primero que hay que hacer es abrir el fichero con la función _open()_ que usamos con dos argumentos: _open(filename, mode)_. Una vez hayamos terminado de trabajar con el fichero debemos cerrarlo usando la función _f.close()_."
   ]
  },
  {
   "cell_type": "markdown",
   "metadata": {},
   "source": [
    "Lectura de ficheros\n",
    "---\n",
    "Python nos proporciona diferentes maneras de leer un fichero. En primer lugar podemos leer un fichero completamente usando la función _f.read()_"
   ]
  },
  {
   "cell_type": "code",
   "execution_count": null,
   "metadata": {
    "collapsed": true
   },
   "outputs": [],
   "source": [
    "# En primer lugar debemos de abrir el fichero que vamos a leer.\n",
    "# Usa 'rb' en vez de 'r' si se trata de un fichero binario.\n",
    "fichero = open('mifichero.txt', 'r')\n",
    "# Mostramos por pantalla lo que leemos desde el fichero\n",
    "print('>>> Lectura completa del fichero')\n",
    "print(fichero.read())\n",
    "# Cerramos el fichero.\n",
    "fichero.close()"
   ]
  },
  {
   "cell_type": "markdown",
   "metadata": {},
   "source": [
    "También podemos optar por leer una cantidad determinadas de bytes del fichero usando la función _f.read(size)_"
   ]
  },
  {
   "cell_type": "code",
   "execution_count": null,
   "metadata": {
    "collapsed": true
   },
   "outputs": [],
   "source": [
    "# En primer lugar debemos de abrir el fichero que vamos a leer.\n",
    "# Usa 'rb' en vez de 'r' si se trata de un fichero binario.\n",
    "fichero = open('mifichero.txt', 'r')\n",
    "# Mostramos por pantalla lo que leemos desde el fichero\n",
    "print('>>> Lectura de una cantidad determinada de bytes')\n",
    "print(fichero.read(50) + '\\n')\n",
    "# Cerramos el fichero.\n",
    "fichero.close()"
   ]
  },
  {
   "cell_type": "markdown",
   "metadata": {},
   "source": [
    "Podemos optar por leer una única línea del fichero con la función _f.readline()_"
   ]
  },
  {
   "cell_type": "code",
   "execution_count": null,
   "metadata": {
    "collapsed": true
   },
   "outputs": [],
   "source": [
    "# En primer lugar debemos de abrir el fichero que vamos a leer.\n",
    "# Usa 'rb' en vez de 'r' si se trata de un fichero binario.\n",
    "fichero = open('mifichero.txt', 'r')\n",
    "# Mostramos por pantalla lo que leemos desde el fichero\n",
    "print('>>> Lectura de una línea del fichero')\n",
    "print(fichero.readline())\n",
    "# Cerramos el fichero.\n",
    "fichero.close()"
   ]
  },
  {
   "cell_type": "markdown",
   "metadata": {},
   "source": [
    "Por último, podemos leer un fichero completo línea a línea de la siguiente manera."
   ]
  },
  {
   "cell_type": "code",
   "execution_count": 5,
   "metadata": {
    "collapsed": true
   },
   "outputs": [
    {
     "ename": "FileNotFoundError",
     "evalue": "[Errno 2] No such file or directory: 'mifichero.txt'",
     "output_type": "error",
     "traceback": [
      "\u001b[1;31m---------------------------------------------------------------------------\u001b[0m",
      "\u001b[1;31mFileNotFoundError\u001b[0m                         Traceback (most recent call last)",
      "\u001b[1;32m<ipython-input-5-b711b72873fc>\u001b[0m in \u001b[0;36m<module>\u001b[1;34m()\u001b[0m\n\u001b[0;32m      1\u001b[0m \u001b[1;31m# En primer lugar debemos de abrir el fichero que vamos a leer.\u001b[0m\u001b[1;33m\u001b[0m\u001b[1;33m\u001b[0m\u001b[0m\n\u001b[0;32m      2\u001b[0m \u001b[1;31m# Usa 'rb' en vez de 'r' si se trata de un fichero binario.\u001b[0m\u001b[1;33m\u001b[0m\u001b[1;33m\u001b[0m\u001b[0m\n\u001b[1;32m----> 3\u001b[1;33m \u001b[0mfichero\u001b[0m \u001b[1;33m=\u001b[0m \u001b[0mopen\u001b[0m\u001b[1;33m(\u001b[0m\u001b[1;34m'mifichero.txt'\u001b[0m\u001b[1;33m,\u001b[0m \u001b[1;34m'r'\u001b[0m\u001b[1;33m)\u001b[0m\u001b[1;33m\u001b[0m\u001b[0m\n\u001b[0m\u001b[0;32m      4\u001b[0m \u001b[1;31m# Mostramos por pantalla lo que leemos desde el fichero\u001b[0m\u001b[1;33m\u001b[0m\u001b[1;33m\u001b[0m\u001b[0m\n\u001b[0;32m      5\u001b[0m \u001b[0mprint\u001b[0m\u001b[1;33m(\u001b[0m\u001b[1;34m'>>> Lectura del fichero línea a línea'\u001b[0m\u001b[1;33m)\u001b[0m\u001b[1;33m\u001b[0m\u001b[0m\n",
      "\u001b[1;31mFileNotFoundError\u001b[0m: [Errno 2] No such file or directory: 'mifichero.txt'"
     ]
    }
   ],
   "source": [
    "# En primer lugar debemos de abrir el fichero que vamos a leer.\n",
    "# Usa 'rb' en vez de 'r' si se trata de un fichero binario.\n",
    "fichero = open('mifichero.txt', 'r')\n",
    "# Mostramos por pantalla lo que leemos desde el fichero\n",
    "print('>>> Lectura del fichero línea a línea')\n",
    "for line in fichero:\n",
    "    print(line)\n",
    "# Cerramos el fichero.\n",
    "fichero.close()"
   ]
  },
  {
   "cell_type": "markdown",
   "metadata": {},
   "source": [
    "Escritura en un fichero\n",
    "---\n",
    "Para escribir un fichero en Python tendremos básicamente dos opciones que vamos a ver a continuación. Primero podemos escribir un fichero sobreescribiendo el contenido del fichero."
   ]
  },
  {
   "cell_type": "code",
   "execution_count": 3,
   "metadata": {
    "collapsed": true
   },
   "outputs": [
    {
     "name": "stdout",
     "output_type": "stream",
     "text": [
      ">>> Escritura de fichero sobreescribiendo su contenido.\n",
      "Fusce vitae leo purus, a tempor nisi.\n",
      "\n"
     ]
    }
   ],
   "source": [
    "fichero = open('ficheronuevo.txt', 'w') # Indicamos el valor 'w'.\n",
    "fichero.write('Fusce vitae leo purus, a tempor nisi.\\n')\n",
    "fichero.close()\n",
    "# Leemos el contenido para comprobar que ha sobreescrito el contenido.\n",
    "fichero = open('ficheronuevo.txt', 'r')\n",
    "print('>>> Escritura de fichero sobreescribiendo su contenido.')\n",
    "print(fichero.read())\n",
    "# Cerramos el fichero.\n",
    "fichero.close()"
   ]
  },
  {
   "cell_type": "markdown",
   "metadata": {},
   "source": [
    "O podemos concatenar el nuevo contenido al contenido ya existente en el fichero."
   ]
  },
  {
   "cell_type": "code",
   "execution_count": null,
   "metadata": {
    "collapsed": true
   },
   "outputs": [],
   "source": [
    "fichero = open('ficheronuevo.txt', 'a') # Indicamos el valor 'w'.\n",
    "fichero.write('Fusce vitae leo purus, a tempor nisi.\\n')\n",
    "fichero.close()\n",
    "# Leemos el contenido para comprobar que ha sobreescrito el contenido.\n",
    "fichero = open('ficheronuevo.txt', 'r')\n",
    "print('>>> Escritura de fichero concatenando su contenido.')\n",
    "print(fichero.read())\n",
    "fichero.close()"
   ]
  },
  {
   "cell_type": "markdown",
   "metadata": {},
   "source": [
    "Los ejemplos anteriores muestran como se escribe una cadena de texto en un fichero. Pero, como escribimos una lista de numeros??. Muy sencillo, se itera sobre la lista y se van escribiendo uno a uno los elementos. **IMPORTANTE**: la escritura se realiza en formato _string_ de modo que hay que convertir los numeros antes de escribir."
   ]
  },
  {
   "cell_type": "code",
   "execution_count": null,
   "metadata": {
    "collapsed": true
   },
   "outputs": [],
   "source": [
    "lista = list(range(10))\n",
    "fichero = open('ficheronuevo.txt', 'a') # Indicamos el valor 'w'.\n",
    "for item in lista:\n",
    "    fichero.write(\"%s\\n\" % item) # al poner %s la funcion write transforma a string\n",
    "fichero.close()\n",
    "# Leemos el contenido para comprobar que ha sobreescrito el contenido.\n",
    "fichero = open('ficheronuevo.txt', 'r')\n",
    "print('>>> Escritura de fichero concatenando su contenido.')\n",
    "print(fichero.read())\n",
    "fichero.close()"
   ]
  },
  {
   "cell_type": "markdown",
   "metadata": {},
   "source": [
    "## Leyendo con context managers"
   ]
  },
  {
   "cell_type": "markdown",
   "metadata": {},
   "source": [
    "Podemos utilizar la sentencia _with_ para leer un fichero. _With_ es los que se conoce en Python como context manager. Nos permite definir un contexto para la escritura y lectura de un fichero, una vez salimos del contexto el fichero se cierra automaticamente. Es una manera mucho mas simple de leer un fichero y deberia ser la preferida a partir de ahora."
   ]
  },
  {
   "cell_type": "code",
   "execution_count": 15,
   "metadata": {},
   "outputs": [],
   "source": [
    "lista = list(range(0,500,50))\n",
    "with open('ficheronuevo.txt', 'w') as fichero:\n",
    "    for item in lista:\n",
    "        fichero.write(\"%d %s\\n\" % item)\n",
    "#el fichero se cierra automaticamente"
   ]
  },
  {
   "cell_type": "markdown",
   "metadata": {},
   "source": [
    "# Procesando ficheros CSV"
   ]
  },
  {
   "cell_type": "markdown",
   "metadata": {},
   "source": [
    "En la  mayoria de los casos cuando tengas que procesar un fichero muy probablemente este este guardado en formato _csv_ (comma-separated values). Para procesar este tipo de ficheros existe el modulo _csv_ que nos permitira leer el fichero de forma sencilla. Veamos como lo podemos hacer.\n",
    "- Primero hay que importar el modulo usando _import csv_\n",
    "- Despues se procede con la lectura linea a linea a traves del modulo usando la funcion _reader_ del modulo\n",
    "- Las lineas son leidas y los campos procesados so almancenados en una lista que posteriormente podemos tratar\n",
    "\n",
    "Veamos un ejemplo con un dataset de los codigos postales de la ciudad de Los Angeles."
   ]
  },
  {
   "cell_type": "code",
   "execution_count": 11,
   "metadata": {},
   "outputs": [
    {
     "name": "stdout",
     "output_type": "stream",
     "text": [
      "<class '_csv.reader'>\n",
      "0 ['Zip Code', 'Total Population', 'Median Age', 'Total Males', 'Total Females', 'Total Households', 'Average Household Size']\n",
      "1 ['91371', '1', '73.5', '0', '1', '1', '1']\n",
      "2 ['90001', '57110', '26.6', '28468', '28642', '12971', '4.4']\n",
      "3 ['90002', '51223', '25.5', '24876', '26347', '11731', '4.36']\n",
      "4 ['90003', '66266', '26.3', '32631', '33635', '15642', '4.22']\n",
      "5 ['90004', '62180', '34.8', '31302', '30878', '22547', '2.73']\n",
      "6 ['90005', '37681', '33.9', '19299', '18382', '15044', '2.5']\n",
      "7 ['90006', '59185', '32.4', '30254', '28931', '18617', '3.13']\n",
      "8 ['90007', '40920', '24', '20915', '20005', '11944', '3']\n",
      "9 ['90008', '32327', '39.7', '14477', '17850', '13841', '2.33']\n",
      "10 ['90010', '3800', '37.8', '1874', '1926', '2014', '1.87']\n",
      "11 ['90011', '103892', '26.2', '52794', '51098', '22168', '4.67']\n",
      "12 ['90012', '31103', '36.3', '19493', '11610', '10327', '2.12']\n",
      "13 ['90013', '11772', '44.6', '7629', '4143', '6416', '1.26']\n",
      "14 ['90014', '7005', '44.8', '4471', '2534', '4109', '1.34']\n",
      "15 ['90015', '18986', '31.3', '9833', '9153', '7420', '2.45']\n",
      "16 ['90016', '47596', '33.9', '22778', '24818', '16145', '2.93']\n",
      "17 ['90017', '23768', '29.4', '12818', '10950', '9338', '2.53']\n",
      "18 ['90018', '49310', '33.2', '23770', '25540', '15493', '3.12']\n",
      "19 ['90019', '64458', '35.8', '31442', '33016', '23344', '2.7']\n",
      "20 ['90020', '38967', '34.6', '19381', '19586', '16514', '2.35']\n",
      "21 ['90021', '3951', '44.3', '2790', '1161', '1561', '1.57']\n",
      "22 ['90022', '67179', '29.8', '33216', '33963', '17023', '3.94']\n",
      "23 ['90023', '45903', '28.4', '23037', '22866', '10727', '4.26']\n",
      "24 ['90024', '47452', '23.6', '22248', '25204', '17903', '2.03']\n",
      "25 ['90025', '42147', '34.7', '20859', '21288', '21228', '1.97']\n",
      "26 ['90026', '67869', '34', '34515', '33354', '24956', '2.68']\n",
      "27 ['90027', '45151', '38.3', '22362', '22789', '21929', '1.99']\n",
      "28 ['90028', '28714', '34', '16056', '12658', '14964', '1.78']\n",
      "29 ['90029', '38617', '34.6', '19575', '19042', '13883', '2.7']\n",
      "30 ['90031', '39316', '33.5', '19546', '19770', '11156', '3.49']\n",
      "31 ['90032', '45786', '32.4', '22564', '23222', '12765', '3.52']\n",
      "32 ['90033', '48852', '29.2', '24425', '24427', '12924', '3.66']\n",
      "33 ['90034', '57964', '32.8', '28828', '29136', '25592', '2.23']\n",
      "34 ['90035', '28418', '37.5', '13326', '15092', '12814', '2.19']\n",
      "35 ['90036', '36865', '33.9', '17914', '18951', '18646', '1.96']\n",
      "36 ['90037', '62276', '28.8', '31187', '31089', '15869', '3.85']\n",
      "37 ['90038', '28917', '33.1', '15383', '13534', '11928', '2.41']\n",
      "38 ['90039', '28514', '38.8', '14383', '14131', '11436', '2.47']\n",
      "39 ['90040', '12520', '31.2', '6129', '6391', '3317', '3.75']\n",
      "40 ['90041', '27425', '39', '13212', '14213', '9513', '2.71']\n",
      "41 ['90042', '62430', '33.6', '30836', '31594', '19892', '3.11']\n",
      "42 ['90043', '44789', '38.7', '20561', '24228', '16075', '2.76']\n",
      "43 ['90044', '89779', '28.6', '43128', '46651', '25144', '3.55']\n",
      "44 ['90045', '39480', '35.6', '18958', '20522', '15224', '2.37']\n",
      "45 ['90046', '48581', '38.5', '25854', '22727', '28534', '1.69']\n",
      "46 ['90047', '48606', '36.2', '22129', '26477', '16168', '2.99']\n",
      "47 ['90048', '21397', '39.2', '10132', '11265', '11821', '1.77']\n",
      "48 ['90049', '35482', '41.3', '16359', '19123', '16657', '2.09']\n",
      "49 ['90056', '7827', '48.4', '3436', '4391', '3371', '2.32']\n",
      "50 ['90057', '44998', '31.2', '24300', '20698', '15658', '2.81']\n",
      "51 ['90058', '3223', '26', '1555', '1668', '892', '3.6']\n",
      "52 ['90059', '40952', '25.7', '19623', '21329', '9596', '4.19']\n",
      "53 ['90061', '26872', '28.4', '13049', '13823', '6892', '3.85']\n",
      "54 ['90062', '32821', '31.8', '15720', '17101', '9155', '3.55']\n",
      "55 ['90063', '55758', '29', '27843', '27915', '13260', '4.19']\n",
      "56 ['90064', '25403', '40', '12297', '13106', '10968', '2.29']\n",
      "57 ['90065', '45527', '36.1', '22873', '22654', '14476', '3.12']\n",
      "58 ['90066', '55277', '37.3', '27714', '27563', '23985', '2.29']\n",
      "59 ['90067', '2424', '65.3', '1074', '1350', '1510', '1.61']\n",
      "60 ['90068', '22286', '39.4', '12018', '10268', '12326', '1.8']\n",
      "61 ['90069', '20483', '41.5', '12153', '8330', '13364', '1.53']\n",
      "62 ['90071', '15', '45.5', '13', '2', '0', '0']\n",
      "63 ['90073', '539', '56.9', '506', '33', '4', '1.25']\n",
      "64 ['90077', '9377', '47.9', '4594', '4783', '3615', '2.57']\n",
      "65 ['90079', '0', '0', '0', '0', '0', '0']\n",
      "66 ['90089', '3217', '19.3', '1436', '1781', '31', '1.94']\n",
      "67 ['90090', '0', '0', '0', '0', '0', '0']\n",
      "68 ['90094', '5464', '33.7', '2559', '2905', '2949', '1.85']\n",
      "69 ['90095', '3', '52.5', '2', '1', '2', '1.5']\n",
      "70 ['90201', '101279', '27.8', '50658', '50621', '24104', '4.16']\n",
      "71 ['90210', '21741', '47.5', '10292', '11449', '8669', '2.49']\n",
      "72 ['90211', '8434', '40.6', '3849', '4585', '3706', '2.28']\n",
      "73 ['90212', '11555', '41.2', '5211', '6344', '5567', '2.08']\n",
      "74 ['90220', '49328', '29.8', '23773', '25555', '12741', '3.85']\n",
      "75 ['90221', '53704', '26.7', '26346', '27358', '11630', '4.57']\n",
      "76 ['90222', '31869', '27.3', '15375', '16494', '7520', '4.21']\n",
      "77 ['90230', '31766', '39.1', '14932', '16834', '12883', '2.45']\n",
      "78 ['90232', '15149', '38.6', '7333', '7816', '6605', '2.28']\n",
      "79 ['90240', '25876', '35.5', '12501', '13375', '7632', '3.36']\n",
      "80 ['90241', '42399', '33.9', '20466', '21933', '13617', '3.09']\n",
      "81 ['90242', '43497', '31.6', '21207', '22290', '12687', '3.41']\n",
      "82 ['90245', '16654', '39.2', '8304', '8350', '7085', '2.34']\n",
      "83 ['90247', '47487', '35.5', '23217', '24270', '15830', '2.96']\n",
      "84 ['90248', '9947', '41.2', '4823', '5124', '3427', '2.89']\n",
      "85 ['90249', '26669', '37.2', '12897', '13772', '8880', '2.98']\n",
      "86 ['90250', '93193', '31.9', '45113', '48080', '31087', '2.98']\n",
      "87 ['90254', '19506', '37', '10273', '9233', '9550', '2.04']\n",
      "88 ['90255', '75066', '29.1', '37525', '37541', '18419', '4.06']\n",
      "89 ['90260', '34924', '32.7', '17509', '17415', '10429', '3.33']\n",
      "90 ['90262', '69745', '27.8', '33919', '35826', '14669', '4.57']\n",
      "91 ['90263', '1612', '19.7', '665', '947', '0', '0']\n",
      "92 ['90265', '18116', '46.5', '9159', '8957', '7174', '2.39']\n",
      "93 ['90266', '35135', '40.9', '17605', '17530', '14038', '2.5']\n",
      "94 ['90270', '27372', '27.9', '13992', '13380', '6554', '4.16']\n",
      "95 ['90272', '22986', '47.3', '10952', '12034', '9212', '2.49']\n",
      "96 ['90274', '25209', '49.4', '12199', '13010', '9479', '2.66']\n",
      "97 ['90275', '41804', '47.8', '20283', '21521', '15618', '2.65']\n",
      "98 ['90277', '35293', '42', '17521', '17772', '16910', '2.07']\n",
      "99 ['90278', '40071', '38.2', '19848', '20223', '16009', '2.49']\n",
      "100 ['90280', '94396', '29.4', '46321', '48075', '23278', '4.05']\n",
      "101 ['90290', '6368', '45', '3180', '3188', '2612', '2.44']\n",
      "102 ['90291', '28341', '37.6', '14757', '13584', '14261', '1.95']\n",
      "103 ['90292', '21576', '41.2', '10729', '10847', '12654', '1.7']\n",
      "104 ['90293', '12132', '40.4', '5890', '6242', '6575', '1.83']\n",
      "105 ['90301', '36568', '32.6', '17633', '18935', '11895', '3.01']\n",
      "106 ['90302', '29415', '32.8', '13803', '15612', '10684', '2.74']\n",
      "107 ['90303', '26176', '30.4', '12733', '13443', '7290', '3.58']\n",
      "108 ['90304', '28210', '28.1', '14503', '13707', '6634', '4.22']\n",
      "109 ['90305', '14853', '43.3', '6552', '8301', '5933', '2.46']\n",
      "110 ['90401', '6722', '37.8', '3524', '3198', '4188', '1.49']\n",
      "111 ['90402', '12250', '47', '5809', '6441', '5301', '2.31']\n",
      "112 ['90403', '24525', '40.8', '11426', '13099', '13970', '1.74']\n",
      "113 ['90404', '21360', '37.4', '10292', '11068', '10089', '2.01']\n",
      "114 ['90405', '27186', '40.8', '13364', '13822', '14376', '1.87']\n",
      "115 ['90501', '43180', '35', '21483', '21697', '14610', '2.94']\n",
      "116 ['90502', '18010', '40.2', '8811', '9199', '5717', '2.94']\n",
      "117 ['90503', '44383', '40.8', '21481', '22902', '17183', '2.55']\n",
      "118 ['90504', '32102', '40.3', '15886', '16216', '11580', '2.76']\n",
      "119 ['90505', '36678', '43', '17684', '18994', '14244', '2.55']\n",
      "120 ['90506', '0', '0', '0', '0', '0', '0']\n",
      "121 ['90601', '31974', '36.6', '15312', '16662', '11027', '2.89']\n",
      "122 ['90602', '25777', '30.9', '12720', '13057', '7980', '3.09']\n",
      "123 ['90603', '20063', '39.4', '9694', '10369', '6788', '2.93']\n",
      "124 ['90604', '39407', '34.1', '19270', '20137', '11932', '3.29']\n",
      "125 ['90605', '40331', '32.6', '20033', '20298', '10527', '3.81']\n",
      "126 ['90606', '32396', '33.5', '15936', '16460', '8633', '3.72']\n",
      "127 ['90621', '35153', '32.1', '17377', '17776', '10304', '3.38']\n",
      "128 ['90623', '15554', '41.2', '7516', '8038', '5072', '3.06']\n",
      "129 ['90630', '47993', '40', '23204', '24789', '15785', '3.02']\n",
      "130 ['90631', '67619', '34.8', '33320', '34299', '21452', '3.13']\n",
      "131 ['90638', '49012', '37.9', '23520', '25492', '14821', '3.11']\n",
      "132 ['90640', '62549', '34.7', '30189', '32360', '19027', '3.27']\n",
      "133 ['90650', '105549', '32.5', '52364', '53185', '27130', '3.83']\n",
      "134 ['90660', '62928', '34', '30738', '32190', '16564', '3.77']\n",
      "135 ['90670', '14866', '36.2', '7163', '7703', '4393', '3.34']\n",
      "136 ['90701', '16591', '38.2', '8227', '8364', '4553', '3.51']\n",
      "137 ['90703', '49399', '43.9', '23785', '25614', '15604', '3.16']\n",
      "138 ['90704', '4090', '37.2', '2101', '1989', '1629', '2.5']\n",
      "139 ['90706', '76615', '31.9', '37203', '39412', '23650', '3.21']\n",
      "140 ['90710', '25457', '36.7', '12291', '13166', '8717', '2.91']\n",
      "141 ['90712', '31499', '38.4', '15277', '16222', '10794', '2.91']\n",
      "142 ['90713', '27925', '39', '13574', '14351', '9447', '2.95']\n",
      "143 ['90715', '20388', '33.9', '9935', '10453', '6105', '3.33']\n",
      "144 ['90716', '14184', '28.3', '7078', '7106', '3515', '4.03']\n",
      "145 ['90717', '21318', '39.5', '10317', '11001', '8520', '2.48']\n",
      "146 ['90720', '21751', '41.7', '10423', '11328', '7789', '2.74']\n",
      "147 ['90723', '54099', '28.6', '26315', '27784', '13882', '3.87']\n",
      "148 ['90731', '59662', '35.6', '29951', '29711', '22044', '2.62']\n",
      "149 ['90732', '21115', '45', '9843', '11272', '8611', '2.38']\n",
      "150 ['90740', '23729', '57.5', '10423', '13306', '12830', '1.83']\n",
      "151 ['90744', '53815', '28.7', '27298', '26517', '13999', '3.83']\n",
      "152 ['90745', '57251', '37.1', '27754', '29497', '15210', '3.73']\n",
      "153 ['90746', '25990', '40.7', '11944', '14046', '8050', '3.14']\n",
      "154 ['90747', '0', '0', '0', '0', '0', '0']\n",
      "155 ['90755', '11074', '36.1', '5462', '5612', '4172', '2.64']\n",
      "156 ['90802', '39347', '34.7', '20387', '18960', '19853', '1.93']\n",
      "157 ['90803', '32031', '42.7', '15609', '16422', '17318', '1.84']\n",
      "158 ['90804', '40311', '29.8', '19686', '20625', '14556', '2.7']\n",
      "159 ['90805', '93524', '29', '45229', '48295', '26056', '3.56']\n",
      "160 ['90806', '42399', '30.3', '20717', '21682', '12184', '3.44']\n",
      "161 ['90807', '31481', '39.7', '15153', '16328', '12452', '2.49']\n",
      "162 ['90808', '38232', '41.6', '18408', '19824', '14167', '2.69']\n",
      "163 ['90810', '36735', '31.8', '18067', '18668', '9289', '3.9']\n",
      "164 ['90813', '58911', '27.3', '29425', '29486', '16425', '3.5']\n",
      "165 ['90814', '19131', '37.2', '9356', '9775', '9170', '2.06']\n",
      "166 ['90815', '39733', '37.9', '19124', '20609', '14836', '2.53']\n",
      "167 ['90822', '117', '63.9', '109', '8', '2', '4.5']\n",
      "168 ['90831', '0', '0', '0', '0', '0', '0']\n",
      "169 ['91001', '36126', '41.6', '17421', '18705', '12663', '2.83']\n",
      "170 ['91006', '31715', '42.7', '15283', '16432', '10652', '2.98']\n",
      "171 ['91007', '34095', '43.8', '16039', '18056', '12033', '2.73']\n",
      "172 ['91008', '1391', '54.6', '614', '777', '562', '2.39']\n",
      "173 ['91010', '26074', '38.1', '12461', '13613', '7972', '3.2']\n",
      "174 ['91011', '20280', '45.9', '9863', '10417', '6859', '2.95']\n",
      "175 ['91016', '40598', '37.9', '19434', '21164', '15029', '2.69']\n",
      "176 ['91020', '8415', '40.2', '3966', '4449', '3385', '2.43']\n",
      "177 ['91024', '10917', '46.6', '5165', '5752', '4837', '2.26']\n",
      "178 ['91030', '25616', '40.1', '12160', '13456', '10466', '2.43']\n",
      "179 ['91040', '20372', '43.3', '10120', '10252', '7359', '2.72']\n",
      "180 ['91042', '27585', '40.7', '13734', '13851', '9987', '2.74']\n",
      "181 ['91046', '156', '74', '51', '105', '114', '1.37']\n",
      "182 ['91101', '20460', '33.7', '9926', '10534', '10869', '1.86']\n",
      "183 ['91103', '27480', '35', '13481', '13999', '8492', '3.11']\n",
      "184 ['91104', '36751', '38.2', '17874', '18877', '12922', '2.8']\n",
      "185 ['91105', '11254', '49', '5432', '5822', '5213', '2.07']\n",
      "186 ['91106', '24229', '34.6', '11993', '12236', '10723', '2.17']\n",
      "187 ['91107', '32940', '41.2', '15940', '17000', '13028', '2.51']\n",
      "188 ['91108', '13361', '45.4', '6410', '6951', '4415', '3.01']\n",
      "189 ['91201', '22781', '40.4', '11123', '11658', '8150', '2.78']\n",
      "190 ['91202', '22830', '41.7', '10805', '12025', '8879', '2.56']\n",
      "191 ['91203', '13220', '38.9', '6279', '6941', '5044', '2.62']\n",
      "192 ['91204', '16032', '38.1', '7699', '8333', '5639', '2.76']\n",
      "193 ['91205', '37810', '39.1', '18084', '19726', '14089', '2.67']\n",
      "194 ['91206', '33065', '42.6', '15544', '17521', '13261', '2.48']\n",
      "195 ['91207', '10506', '45.5', '4924', '5582', '4097', '2.56']\n",
      "196 ['91208', '16245', '43.6', '7756', '8489', '6106', '2.66']\n",
      "197 ['91210', '328', '33.9', '162', '166', '178', '1.84']\n",
      "198 ['91214', '30356', '42.5', '14642', '15714', '10551', '2.87']\n",
      "199 ['91301', '25488', '42.7', '12511', '12977', '9208', '2.76']\n",
      "200 ['91302', '25709', '42.4', '12487', '13222', '9303', '2.76']\n",
      "201 ['91303', '26855', '31.1', '13907', '12948', '8697', '3.08']\n",
      "202 ['91304', '50231', '35.9', '24827', '25404', '16532', '3']\n",
      "203 ['91306', '45061', '35.4', '22679', '22382', '13635', '3.28']\n",
      "204 ['91307', '24474', '43.4', '11939', '12535', '8315', '2.91']\n",
      "205 ['91311', '36557', '42.7', '17838', '18719', '13425', '2.66']\n",
      "206 ['91316', '26898', '42.1', '12717', '14181', '11911', '2.26']\n",
      "207 ['91321', '34882', '33.3', '17402', '17480', '11215', '3.04']\n",
      "208 ['91324', '27669', '36.5', '13545', '14124', '9289', '2.95']\n",
      "209 ['91325', '32417', '35.4', '15819', '16598', '11825', '2.72']\n",
      "210 ['91326', '33708', '42.7', '16394', '17314', '11770', '2.86']\n",
      "211 ['91330', '2702', '19.6', '1103', '1599', '2', '2.5']\n",
      "212 ['91331', '103689', '29.5', '52358', '51331', '22465', '4.6']\n",
      "213 ['91335', '74363', '35.5', '36596', '37767', '22855', '3.21']\n",
      "214 ['91340', '34188', '30.1', '17130', '17058', '8176', '4.17']\n",
      "215 ['91342', '91725', '31.9', '45786', '45939', '23543', '3.83']\n",
      "216 ['91343', '60254', '32.3', '30145', '30109', '16802', '3.55']\n",
      "217 ['91344', '51747', '41', '25212', '26535', '16872', '3.03']\n",
      "218 ['91345', '18496', '35.7', '9110', '9386', '5192', '3.52']\n",
      "219 ['91350', '33348', '36.4', '16270', '17078', '10991', '3.01']\n",
      "220 ['91351', '32362', '33.9', '16086', '16276', '10036', '3.22']\n",
      "221 ['91352', '47807', '32.1', '23980', '23827', '11985', '3.95']\n",
      "222 ['91354', '28722', '36.4', '14046', '14676', '9522', '3.01']\n",
      "223 ['91355', '32605', '38.8', '15773', '16832', '12772', '2.51']\n",
      "224 ['91356', '29458', '41.7', '14216', '15242', '11686', '2.5']\n",
      "225 ['91361', '20438', '47.6', '9854', '10584', '8374', '2.43']\n",
      "226 ['91362', '36045', '42.6', '17562', '18483', '13563', '2.65']\n",
      "227 ['91364', '25851', '44', '12739', '13112', '10409', '2.47']\n",
      "228 ['91367', '39499', '41', '19171', '20328', '16697', '2.35']\n",
      "229 ['91377', '13811', '41.7', '6641', '7170', '5158', '2.68']\n",
      "230 ['91381', '20158', '36', '9852', '10306', '6636', '3.04']\n",
      "231 ['91384', '29855', '32.5', '18503', '11352', '6925', '3.3']\n",
      "232 ['91387', '40328', '33', '20106', '20222', '12871', '3.13']\n",
      "233 ['91390', '19786', '40.1', '9911', '9875', '6369', '3.07']\n",
      "234 ['91401', '39285', '36', '19613', '19672', '14380', '2.7']\n",
      "235 ['91402', '69817', '30.1', '35095', '34722', '18194', '3.81']\n",
      "236 ['91403', '23484', '39.4', '11277', '12207', '11358', '2.06']\n",
      "237 ['91405', '51145', '32.6', '25498', '25647', '16256', '3.11']\n",
      "238 ['91406', '51558', '33.6', '25956', '25602', '17042', '3.02']\n",
      "239 ['91411', '24628', '33.8', '12495', '12133', '9177', '2.63']\n",
      "240 ['91423', '30991', '39.2', '14789', '16202', '14876', '2.07']\n",
      "241 ['91436', '14372', '46.5', '6890', '7482', '5552', '2.57']\n",
      "242 ['91501', '20849', '38.3', '10040', '10809', '8235', '2.53']\n",
      "243 ['91502', '11371', '36.4', '5402', '5969', '5001', '2.26']\n",
      "244 ['91504', '24939', '38.6', '12006', '12933', '9180', '2.69']\n",
      "245 ['91505', '30778', '38.9', '15121', '15657', '13180', '2.33']\n",
      "246 ['91506', '18904', '40.9', '9115', '9789', '7555', '2.45']\n",
      "247 ['91601', '37180', '32.9', '18932', '18248', '15970', '2.32']\n",
      "248 ['91602', '17473', '38', '8722', '8751', '9277', '1.88']\n",
      "249 ['91604', '29034', '40.2', '14271', '14763', '14292', '2.01']\n",
      "250 ['91605', '56343', '31.9', '28417', '27926', '15357', '3.61']\n",
      "251 ['91606', '44958', '34.3', '22376', '22582', '14903', '3']\n",
      "252 ['91607', '27927', '38.2', '13635', '14292', '12859', '2.15']\n",
      "253 ['91608', '0', '0', '0', '0', '0', '0']\n",
      "254 ['91702', '59705', '29.4', '29486', '30219', '15455', '3.67']\n",
      "255 ['91706', '76571', '30.5', '37969', '38602', '17504', '4.35']\n",
      "256 ['91709', '74796', '36.6', '36954', '37842', '22940', '3.25']\n",
      "257 ['91710', '80358', '33', '42283', '38075', '21952', '3.43']\n",
      "258 ['91711', '35705', '38.6', '16777', '18928', '11868', '2.58']\n",
      "259 ['91722', '34409', '34', '16859', '17550', '10079', '3.41']\n",
      "260 ['91723', '18275', '35', '8783', '9492', '6296', '2.86']\n",
      "261 ['91724', '26184', '37.9', '12780', '13404', '8508', '3.05']\n",
      "262 ['91731', '29591', '32.9', '14888', '14703', '8007', '3.66']\n",
      "263 ['91732', '61386', '31.4', '30755', '30631', '14700', '4.13']\n",
      "264 ['91733', '43896', '30.5', '22191', '21705', '9918', '4.4']\n",
      "265 ['91740', '25356', '38.5', '12269', '13087', '8376', '2.94']\n",
      "266 ['91741', '25824', '41.8', '12498', '13326', '9126', '2.82']\n",
      "267 ['91744', '85040', '30.9', '42564', '42476', '18648', '4.55']\n",
      "268 ['91745', '54013', '40.1', '26287', '27726', '16188', '3.33']\n",
      "269 ['91746', '30485', '32.4', '15116', '15369', '6743', '4.5']\n",
      "270 ['91748', '45406', '39.8', '22368', '23038', '13311', '3.4']\n",
      "271 ['91750', '33249', '42.6', '15881', '17368', '11944', '2.71']\n",
      "272 ['91754', '32742', '42.9', '15620', '17122', '11193', '2.92']\n",
      "273 ['91755', '27496', '43.4', '13271', '14225', '8760', '3.12']\n",
      "274 ['91759', '476', '47.2', '239', '237', '216', '2.2']\n",
      "275 ['91763', '36375', '30.8', '18099', '18276', '9450', '3.81']\n",
      "276 ['91765', '46457', '40.8', '22702', '23755', '15039', '3.08']\n",
      "277 ['91766', '71599', '28.7', '36111', '35488', '17708', '4.01']\n",
      "278 ['91767', '48068', '31.2', '23685', '24383', '13691', '3.47']\n",
      "279 ['91768', '34537', '27.3', '17509', '17028', '7885', '3.87']\n",
      "280 ['91770', '62097', '38.3', '30521', '31576', '16588', '3.7']\n",
      "281 ['91773', '33119', '42.5', '15737', '17382', '11941', '2.73']\n",
      "282 ['91775', '23988', '41.4', '11448', '12540', '8227', '2.9']\n",
      "283 ['91776', '38475', '39', '18751', '19724', '11776', '3.24']\n",
      "284 ['91780', '34332', '41.1', '16438', '17894', '11318', '3.03']\n",
      "285 ['91784', '25938', '44.5', '12729', '13209', '8934', '2.9']\n",
      "286 ['91786', '51165', '33', '24516', '26649', '18087', '2.79']\n",
      "287 ['91789', '43079', '42.8', '20988', '22091', '12891', '3.31']\n",
      "288 ['91790', '44907', '35.2', '21721', '23186', '12751', '3.49']\n",
      "289 ['91791', '32414', '38', '15512', '16902', '10236', '3.15']\n",
      "290 ['91792', '30854', '35.3', '14950', '15904', '9154', '3.35']\n",
      "291 ['91801', '52735', '39.1', '24833', '27902', '19315', '2.71']\n",
      "292 ['91803', '30322', '39.6', '14486', '15836', '9894', '3.04']\n",
      "293 ['92301', '32725', '25.6', '16857', '15868', '8132', '3.81']\n",
      "294 ['92371', '16763', '37.9', '8565', '8198', '5370', '3.11']\n",
      "295 ['92372', '6220', '41.8', '3136', '3084', '2198', '2.83']\n",
      "296 ['92397', '4894', '44.1', '2522', '2372', '1998', '2.45']\n",
      "297 ['92821', '35533', '38.7', '17338', '18195', '13062', '2.72']\n",
      "298 ['92823', '3613', '38.6', '1757', '1856', '1154', '3.13']\n",
      "299 ['92833', '51767', '36', '25643', '26124', '15849', '3.23']\n",
      "300 ['93040', '2031', '29.3', '1052', '979', '522', '3.89']\n",
      "301 ['93063', '54366', '39', '26592', '27774', '18650', '2.9']\n",
      "302 ['93225', '5077', '44', '2585', '2492', '2080', '2.44']\n",
      "303 ['93243', '1699', '40.9', '884', '815', '623', '2.73']\n",
      "304 ['93252', '4176', '38.4', '3301', '875', '647', '2.81']\n",
      "305 ['93510', '7993', '45.2', '4086', '3907', '2729', '2.86']\n",
      "306 ['93523', '3074', '27', '1531', '1543', '1056', '2.91']\n",
      "307 ['93532', '2932', '41.7', '1642', '1290', '1079', '2.45']\n",
      "308 ['93534', '39341', '31.1', '18601', '20740', '14038', '2.74']\n",
      "309 ['93535', '72046', '28.3', '34879', '37167', '20672', '3.44']\n",
      "310 ['93536', '70918', '34.4', '37804', '33114', '20964', '3.07']\n",
      "311 ['93543', '13033', '32.9', '6695', '6338', '3560', '3.66']\n",
      "312 ['93544', '1259', '52.4', '689', '570', '569', '2.2']\n",
      "313 ['93550', '74929', '27.5', '36414', '38515', '20864', '3.58']\n",
      "314 ['93551', '50798', '37', '25056', '25742', '15963', '3.18']\n",
      "315 ['93552', '38158', '28.4', '18711', '19447', '9690', '3.93']\n",
      "316 ['93553', '2138', '43.3', '1121', '1017', '816', '2.62']\n",
      "317 ['93560', '18910', '32.4', '9491', '9419', '6469', '2.92']\n",
      "318 ['93563', '388', '44.5', '263', '125', '103', '2.53']\n",
      "319 ['93591', '7285', '30.9', '3653', '3632', '1982', '3.67']\n"
     ]
    }
   ],
   "source": [
    "import csv\n",
    "with open(\"2010_Census_Populations_by_Zip_Code.csv\", \"r\") as fichero:\n",
    "    reader = csv.reader(fichero)\n",
    "    print(type(reader))\n",
    "    for n, row in enumerate(reader):\n",
    "        print(\"{} {}\".format(n, row))\n"
   ]
  },
  {
   "cell_type": "markdown",
   "metadata": {},
   "source": [
    "Podemos leer el fichero entero y almacenarlo en una lista anidada."
   ]
  },
  {
   "cell_type": "code",
   "execution_count": 17,
   "metadata": {},
   "outputs": [
    {
     "name": "stdout",
     "output_type": "stream",
     "text": [
      "Los Angeles tienen 320 codigos postales\n"
     ]
    }
   ],
   "source": [
    "import csv\n",
    "csv_path = \"2010_Census_Populations_by_Zip_Code.csv\"\n",
    "n_filas = 5\n",
    "\n",
    "lista = []\n",
    "#vamos con el context manager\n",
    "with open(csv_path, \"r\") as fichero:\n",
    "    reader = csv.reader(fichero)\n",
    "    # podemos utilizar un bucle como de costumbre\n",
    "    for n, row in enumerate(reader):\n",
    "        lista.append(row)\n",
    "print('Los Angeles tienen %s codigos postales' % len(lista))"
   ]
  },
  {
   "cell_type": "markdown",
   "metadata": {},
   "source": [
    "Ahora la variable _lista_ contiene el fichero _csv_. En su primer elemento hay una lista que contiene la cabecera del fichero con los nombres de las columnas y a partir de ahi los valores de cada columna. Como puedes ver almacena todos los valores en tipo cadena de modo que deberas realizar un casting si quieres usar otro tipo usando las funciones _int()_ y _float()_ para los tipos enteros y flotantes."
   ]
  },
  {
   "cell_type": "code",
   "execution_count": null,
   "metadata": {},
   "outputs": [],
   "source": [
    "print('Esto es la cabecera')\n",
    "print(lista[0])\n",
    "print('1a fila')\n",
    "print(lista[1])"
   ]
  },
  {
   "cell_type": "markdown",
   "metadata": {},
   "source": [
    "Una forma de acceder a la  informacion de una columna entera es a traves del indexado anidado. Vamos a almacenar en una variable la columna que se llama 'Total Population'."
   ]
  },
  {
   "cell_type": "code",
   "execution_count": 18,
   "metadata": {},
   "outputs": [],
   "source": [
    "num_col = lista[0].index('Total Population')\n",
    "\n",
    "l_total_pop = []\n",
    "# recorremos la lista de listas\n",
    "for row in range(1, len(lista)-1):\n",
    "    # recogemos la Total Population y como lee\n",
    "    l_total_pop.append(int(lista[row][num_col]))"
   ]
  },
  {
   "cell_type": "markdown",
   "metadata": {},
   "source": [
    "Ahora podemos calcular la media de la poblacion por codigo postal."
   ]
  },
  {
   "cell_type": "code",
   "execution_count": 19,
   "metadata": {},
   "outputs": [
    {
     "name": "stdout",
     "output_type": "stream",
     "text": [
      "La media de personas por codigo postal es: 33322.965409\n"
     ]
    }
   ],
   "source": [
    "print('La media de personas por codigo postal es: %f' % (sum(l_total_pop)/len(l_total_pop)))"
   ]
  },
  {
   "cell_type": "markdown",
   "metadata": {},
   "source": [
    "Enhorabuena has realizado tu primer calculo sencillo de analisis de datos!. En la practica existen herramientas mas potentes que veremos mas adelante para realizar este tipo de procesado."
   ]
  },
  {
   "cell_type": "markdown",
   "metadata": {},
   "source": [
    "# Ejercicios"
   ]
  },
  {
   "cell_type": "markdown",
   "metadata": {},
   "source": [
    "### Bucles while e input"
   ]
  },
  {
   "cell_type": "markdown",
   "metadata": {},
   "source": [
    "1 - Preferencias del juego\n",
    "- Haz una lista que incluya 3 o 4 juegos que te gusten jugar.\n",
    "- Imprime un mensaje que le diga al usuario qué juegos te gustan.\n",
    "- Pide al usuario que te cuente un juego que le guste, y almacena el juego en una variable.\n",
    "- Agrega el juego del usuario a tu lista.\n",
    "- Imprime un mensaje que enumere todos los juegos que nos gusta jugar (los que hay en la lista)."
   ]
  },
  {
   "cell_type": "code",
   "execution_count": 2,
   "metadata": {
    "collapsed": true
   },
   "outputs": [
    {
     "name": "stdout",
     "output_type": "stream",
     "text": [
      "Me gusta:  ['mus', 'futbol', 'tenis', 'billar']\n",
      "Me gusta:  ['mus', 'futbol', 'tenis', 'billar', 'basket']\n"
     ]
    }
   ],
   "source": [
    "juegos = [\"mus\", \"futbol\", \"tenis\", \"billar\"]\n",
    "print(\"Me gusta: \", juegos)\n",
    "otro = input(\"Dame un juego que te guste\")\n",
    "juegos.append(otro)\n",
    "print(\"Me gusta: \", juegos)"
   ]
  },
  {
   "cell_type": "markdown",
   "metadata": {},
   "source": [
    "2 - Modifica el ejericio anterior de forma que se puedan agregar tantos juegos como el usuario quiera hasta introducir la palabra _quit_."
   ]
  },
  {
   "cell_type": "code",
   "execution_count": 15,
   "metadata": {
    "collapsed": true
   },
   "outputs": [
    {
     "name": "stdout",
     "output_type": "stream",
     "text": [
      "Me gusta:  ['mus', 'futbol', 'tenis', 'billar']\n",
      "Finalmente me gustan:  ['mus', 'futbol', 'tenis', 'billar', 'ddd', 'fff', 'ttt']\n"
     ]
    }
   ],
   "source": [
    "juegos = [\"mus\", \"futbol\", \"tenis\", \"billar\"]\n",
    "print(\"Me gusta: \", juegos)\n",
    "otro = \"\"\n",
    "while not otro == \"quit\":\n",
    "    otro = input(\"Lista contiene {}  juegos. Dame un juego que te guste (quit, salir)\".format(len(juegos)))\n",
    "    if not otro == \"quit\":\n",
    "        juegos.append(otro)\n",
    "print(\"Finalmente me gustan: \", juegos)"
   ]
  },
  {
   "cell_type": "markdown",
   "metadata": {},
   "source": [
    "3 - Escriba un programa que pida dos números enteros. El programa pedirá de nuevo el segundo número mientras no sea mayor que el primero. El programa terminará escribiendo los dos números."
   ]
  },
  {
   "cell_type": "code",
   "execution_count": 16,
   "metadata": {
    "collapsed": true
   },
   "outputs": [
    {
     "name": "stdout",
     "output_type": "stream",
     "text": [
      "Numero 1 34 - Número 2 35\n"
     ]
    }
   ],
   "source": [
    "n1 = int(input(\"Numero 1\"))\n",
    "n2 = n1\n",
    "while n2 <= n1:\n",
    "    n2 = int(input(\"Numero 2 (termino cuando es > {})\".format(n1)))\n",
    "print(\"Numero 1 {} - Número 2 {}\".format(n1,n2))"
   ]
  },
  {
   "cell_type": "markdown",
   "metadata": {},
   "source": [
    "4 - Escriba un programa que pida números decimales mientras el usuario escriba número mayores que el primero."
   ]
  },
  {
   "cell_type": "code",
   "execution_count": 20,
   "metadata": {
    "collapsed": true
   },
   "outputs": [
    {
     "ename": "ValueError",
     "evalue": "could not convert string to float: 're'",
     "output_type": "error",
     "traceback": [
      "\u001b[1;31m---------------------------------------------------------------------------\u001b[0m",
      "\u001b[1;31mValueError\u001b[0m                                Traceback (most recent call last)",
      "\u001b[1;32m<ipython-input-20-33b23c526260>\u001b[0m in \u001b[0;36m<module>\u001b[1;34m()\u001b[0m\n\u001b[1;32m----> 1\u001b[1;33m \u001b[0mn1\u001b[0m \u001b[1;33m=\u001b[0m \u001b[0mfloat\u001b[0m\u001b[1;33m(\u001b[0m\u001b[0minput\u001b[0m\u001b[1;33m(\u001b[0m\u001b[1;34m\"Numero 1\"\u001b[0m\u001b[1;33m)\u001b[0m\u001b[1;33m)\u001b[0m\u001b[1;33m\u001b[0m\u001b[0m\n\u001b[0m\u001b[0;32m      2\u001b[0m \u001b[0mn2\u001b[0m \u001b[1;33m=\u001b[0m \u001b[0mn1\u001b[0m\u001b[1;33m\u001b[0m\u001b[0m\n\u001b[0;32m      3\u001b[0m \u001b[1;32mwhile\u001b[0m \u001b[0mn2\u001b[0m \u001b[1;33m<=\u001b[0m \u001b[0mn1\u001b[0m\u001b[1;33m:\u001b[0m\u001b[1;33m\u001b[0m\u001b[0m\n\u001b[0;32m      4\u001b[0m     \u001b[0mn2\u001b[0m \u001b[1;33m=\u001b[0m \u001b[0mfloat\u001b[0m\u001b[1;33m(\u001b[0m\u001b[0minput\u001b[0m\u001b[1;33m(\u001b[0m\u001b[1;34m\"Numero 2 (termino cuando es > {})\"\u001b[0m\u001b[1;33m.\u001b[0m\u001b[0mformat\u001b[0m\u001b[1;33m(\u001b[0m\u001b[0mn1\u001b[0m\u001b[1;33m)\u001b[0m\u001b[1;33m)\u001b[0m\u001b[1;33m)\u001b[0m\u001b[1;33m\u001b[0m\u001b[0m\n\u001b[0;32m      5\u001b[0m \u001b[0mprint\u001b[0m\u001b[1;33m(\u001b[0m\u001b[1;34m\"Numero 1 {} - Número 2 {}\"\u001b[0m\u001b[1;33m.\u001b[0m\u001b[0mformat\u001b[0m\u001b[1;33m(\u001b[0m\u001b[0mn1\u001b[0m\u001b[1;33m,\u001b[0m\u001b[0mn2\u001b[0m\u001b[1;33m)\u001b[0m\u001b[1;33m)\u001b[0m\u001b[1;33m\u001b[0m\u001b[0m\n",
      "\u001b[1;31mValueError\u001b[0m: could not convert string to float: 're'"
     ]
    }
   ],
   "source": [
    "n1 = float(input(\"Numero 1\"))\n",
    "n2 = n1\n",
    "while n2 <= n1:\n",
    "    n2 = float(input(\"Numero 2 (termino cuando es > {})\".format(n1)))\n",
    "print(\"Numero 1 {} - Número 2 {}\".format(n1,n2))"
   ]
  },
  {
   "cell_type": "markdown",
   "metadata": {},
   "source": [
    "5 - Escriba un programa que pida números enteros mientras sean cada vez más grandes."
   ]
  },
  {
   "cell_type": "code",
   "execution_count": 25,
   "metadata": {
    "collapsed": true
   },
   "outputs": [
    {
     "name": "stdout",
     "output_type": "stream",
     "text": [
      "Numero anterior 57 - Número final 23\n"
     ]
    }
   ],
   "source": [
    "nant = int(input(\"Numero 1\"))\n",
    "esMayorQueAnterior = True\n",
    "while esMayorQueAnterior:\n",
    "    n = int(input(\"Otro numero (termino cuando no es > número anterior ({})\".format(nant)))\n",
    "    esMayorQueAnterior = (n > nant)\n",
    "    if(esMayorQueAnterior):\n",
    "        nant = n\n",
    "print(\"Numero anterior {} - Número final {}\".format(nant,n))"
   ]
  },
  {
   "cell_type": "markdown",
   "metadata": {},
   "source": [
    "6 - Escriba un programa que calcule la descomposición en factores primos de un número introducido por teclado. Deberas asegurarte de que el usuario introduce un entero para poder calcular el factorial. Si no lo hace imprime un mensaje indicando que el input introducido es erroneo y se necesita un entero."
   ]
  },
  {
   "cell_type": "code",
   "execution_count": 31,
   "metadata": {
    "collapsed": true
   },
   "outputs": [
    {
     "name": "stdout",
     "output_type": "stream",
     "text": [
      "Factores primos de 567: [7, 3, 3, 3, 3]\n"
     ]
    }
   ],
   "source": [
    "def esPrimo(numero):\n",
    "    tieneUnDivisor = False\n",
    "    for i in range(2, numero):\n",
    "        if numero % i == 0:\n",
    "            tieneUnDivisor=True\n",
    "            break\n",
    "    return not tieneUnDivisor;\n",
    "\n",
    "#------------------------------------\n",
    "\n",
    "def primosHasta(numerom):\n",
    "    resultado = []\n",
    "    for i in range(1, numerom+1):\n",
    "        if esPrimo(i):\n",
    "            resultado.append(i)\n",
    "    return resultado;\n",
    "\n",
    "#------------------------------------\n",
    "\n",
    "def factoresPrimos(numero):\n",
    "    resultado = []\n",
    "    valor = numero\n",
    "    while valor > 1:\n",
    "        ph = primosHasta(numero);\n",
    "        #print(ph)\n",
    "        indice = len(ph)-1\n",
    "        while indice > 0:\n",
    "            #print(valor, indice, ph[indice])\n",
    "            if valor % ph[indice] == 0:\n",
    "                resultado.append(ph[indice])\n",
    "                valor = valor / ph[indice]\n",
    "                break;\n",
    "            indice -= 1\n",
    "    return resultado;\n",
    "#------------------------------------\n",
    "valor = 0\n",
    "valorEsEntero = False\n",
    "while not valorEsEntero:\n",
    "    try:\n",
    "        valor = int(input(\"Introduce un entero\"))\n",
    "        valorEsEntero = True\n",
    "    except:\n",
    "        print(\"Espabila, eso no es un entero!\")\n",
    "\n",
    "print( \"Factores primos de {}: {}\".format(valor, factoresPrimos(valor)))"
   ]
  },
  {
   "cell_type": "markdown",
   "metadata": {},
   "source": [
    "7 -Escriba un programa que pida números pares mientras el usuario indique que quiere seguir introduciendo números. Para indicar que quiere seguir escribiendo números, el usuario deberá contestar S a la pregunta."
   ]
  },
  {
   "cell_type": "code",
   "execution_count": 3,
   "metadata": {
    "collapsed": true
   },
   "outputs": [
    {
     "name": "stdout",
     "output_type": "stream",
     "text": [
      "¿eso es un número par? Pero bueno...\n",
      "Espabila, eso no es un entero!\n",
      "Bonito par\n",
      "Bonito par\n"
     ]
    }
   ],
   "source": [
    "continuar = \"S\"\n",
    "while continuar.upper() == \"S\":\n",
    "    try:\n",
    "        valor = int(input(\"Introduce un entero par\"))\n",
    "        if valor % 2 == 0:\n",
    "           print(\"Bonito par\")\n",
    "        else:\n",
    "           print(\"¿eso es un número par? Pero bueno...\")\n",
    "    except:\n",
    "        print(\"Espabila, eso no es un entero!\")\n",
    "    continuar = input(\"'S' para continuar\")\n",
    "print(\"Agur\")"
   ]
  },
  {
   "cell_type": "markdown",
   "metadata": {},
   "source": [
    "8 -Escriba un programa que pida números y que pare cuando el número introducido sea negativo. NOTA: Cuidado con los bucles infinitos"
   ]
  },
  {
   "cell_type": "code",
   "execution_count": 5,
   "metadata": {
    "collapsed": true
   },
   "outputs": [
    {
     "name": "stdout",
     "output_type": "stream",
     "text": [
      "Espabila, eso no es un entero!\n",
      "Espabila, eso no es un entero!\n",
      "Agur\n"
     ]
    }
   ],
   "source": [
    "continuar = True\n",
    "while continuar:\n",
    "    try:\n",
    "        valor = float(input(\"Introduce un número (negativo finaliza)\"))\n",
    "        continuar = (valor > 0)\n",
    "    except:\n",
    "        print(\"Espabila, eso no es un numero!\")\n",
    "print(\"Agur\")"
   ]
  },
  {
   "cell_type": "markdown",
   "metadata": {},
   "source": [
    "9 - Escriba un programa que calcule el factorial de un numero introducido por teclado"
   ]
  },
  {
   "cell_type": "code",
   "execution_count": 10,
   "metadata": {
    "collapsed": true
   },
   "outputs": [
    {
     "name": "stdout",
     "output_type": "stream",
     "text": [
      "El factorial de 4 es 24\n"
     ]
    }
   ],
   "source": [
    "def factorial(numero):\n",
    "    result = 1\n",
    "    for n in range(2, numero+1):\n",
    "        result *= n;\n",
    "    return result;\n",
    "\n",
    "valor = input(\"Número:\")\n",
    "print(\"El factorial de {} es {}\".format(valor, factorial(int(valor))))"
   ]
  },
  {
   "cell_type": "markdown",
   "metadata": {},
   "source": [
    "10 - \n",
    "Este desafío está inspirado en una historia sobre el matemático Carl Frederich Gauss. [Asi dice la historia](http://mathforum.org/library/drmath/view/57919.html), cuando el joven Gauss estaba en la escuela primaria, su maestro se enojó con su clase un día.\n",
    "\n",
    "\"Los mantendré ocupados por un tiempo\", dijo el maestro severamente al grupo. \"Debe agregar los números del 1 al 100, y no debe decir una palabra hasta que haya terminado\".\n",
    "\n",
    "El maestro esperaba un buen período de tiempo tranquilo, pero un momento más tarde nuestro matemático levantó su mano con la respuesta. \"¡Es 5050!\" Gauss se había dado cuenta de que si enumera todos los números del 1 al 100, siempre puede hacer coincidir el primer y el último número de la lista y obtener una respuesta común:\n",
    "\n",
    "    1, 2, 3, ..., 98, 99, 100\n",
    "    1 + 100 = 101\n",
    "    2 + 99 = 101\n",
    "    3 + 98 = 101\n",
    "\n",
    "Gauss se dio cuenta de que había exactamente 50 pares de números en el rango de 1 a 100, por lo que hizo un cálculo rápido: 50 * 101 = 5050.\n",
    "\n",
    "- Escribe un programa que almacene en una lista números.\n",
    "    - El programa debe usar un bucle while para popear los primeros y últimos números de la lista y calcular la suma de esos dos números.\n",
    "    - El programa debe imprimir los números actuales que se están popeando e imprimir su suma parcial.\n",
    "    - El progama debe realizar un seguimiento del numero de sumas parciales que hay.\n",
    "    - El programa debe imprimir cuántas sumas parciales se ha realiazo.\n",
    "    - El programa debe realizar la multiplicación de Gauss e informar la respuesta final.\n",
    "- Demuestra que su programa funciona, pasando en el rango 1-100, y verificando que obtiene 5050.\n",
    "    - `list(range(1,101))`\n",
    "- El programa debe funcionar para cualquier rango de números consecutivos, siempre que ese conjunto tenga una longitud par.\n",
    "- Modifique el programa para que funcione para cualquier rango de números consecutivos, ya sea que ese conjunto tenga una longitud par o impar."
   ]
  },
  {
   "cell_type": "code",
   "execution_count": null,
   "metadata": {
    "collapsed": true
   },
   "outputs": [],
   "source": []
  },
  {
   "cell_type": "markdown",
   "metadata": {},
   "source": [
    "### Lectura de ficheros"
   ]
  },
  {
   "cell_type": "markdown",
   "metadata": {},
   "source": [
    "11 - Tenemos un fichero de texto llamado tiempos.txt que contiene una secuencia de tiempos en formato HH:MM:SS (horas, minutos, segundos). Escribe un programa que lea el fichero y que separe en tres listas diferentes las horas, los minutos y los segundos. PISTA: Deberas leer el contenido del fichero y transformar las cadenas leidas a listas para extraer las horas, minutos y segundos. El metodo _split_ te ayudara en tu cometido."
   ]
  },
  {
   "cell_type": "code",
   "execution_count": 15,
   "metadata": {
    "collapsed": true
   },
   "outputs": [
    {
     "name": "stdout",
     "output_type": "stream",
     "text": [
      "Horas:  ['10', '11', '12', '18', '19', '20']\n",
      "Minutos:  ['15', '25', '33', '55', '21', '30']\n",
      "Segundos:  ['36', '42', '00', '41', '11', '25']\n"
     ]
    }
   ],
   "source": [
    "horas = []\n",
    "minutos = []\n",
    "segundos = []\n",
    "with open(\"tiempos.txt\", \"r\") as fichero:\n",
    "    for linea in fichero:\n",
    "        linea = linea.replace(\"\\n\", \"\")\n",
    "        partes = linea.split(\":\")\n",
    "        horas.append(partes[0])\n",
    "        minutos.append(partes[1])        \n",
    "        segundos.append(partes[2])\n",
    "        \n",
    "print(\"Horas: \", horas)\n",
    "print(\"Minutos: \", minutos)\n",
    "print(\"Segundos: \", segundos)"
   ]
  },
  {
   "cell_type": "markdown",
   "metadata": {},
   "source": [
    "12 - Hemos seleccionado un fragmento del Quijote para su analisis y vamos a practicar con el. Realiza un programa que cuente cuantas palabras tiene el fichero _quijote.txt_. Puedes calcular tambien el numero de lineas??  \n",
    "**NOTA**: Todos los ejercicios que mencionan el quijote utilizan el fichero quijote.txt"
   ]
  },
  {
   "cell_type": "code",
   "execution_count": 17,
   "metadata": {
    "collapsed": true
   },
   "outputs": [
    {
     "name": "stdout",
     "output_type": "stream",
     "text": [
      "Fragmento tiene 59614 palabras\n"
     ]
    }
   ],
   "source": [
    "palabras = 0;\n",
    "with open(\"quijote.txt\", \"r\") as fichero:\n",
    "    for linea in fichero:\n",
    "        palabras += len(linea.split(\" \"))\n",
    "print(\"Fragmento tiene {} palabras\".format(palabras))"
   ]
  },
  {
   "cell_type": "markdown",
   "metadata": {},
   "source": [
    "13 - Queremos leer del quijote.txt exactamente 300 caracteres a partir del caracter 10000. Escribe un programa que haga lo mencionado anteriormente"
   ]
  },
  {
   "cell_type": "code",
   "execution_count": 18,
   "metadata": {
    "collapsed": true
   },
   "outputs": [
    {
     "name": "stdout",
     "output_type": "stream",
     "text": [
      " se\n",
      "cree, que en un lugar cerca del suyo había una moza labradora de\n",
      "muy buen parecer, de quien él un tiempo anduvo enamorado, aunque\n",
      "según se entiende, ella jamás lo supo ni se dió cata de ello.\n",
      "Llamábase Aldonza Lorenzo, y a esta le pareció ser bien darle\n",
      "título de señora de sus pensamientos; y bu\n"
     ]
    }
   ],
   "source": [
    "with open(\"quijote.txt\", \"r\") as fichero:\n",
    "    fichero.read(10000)\n",
    "    resultado = fichero.read(300)\n",
    "print(resultado)"
   ]
  },
  {
   "cell_type": "markdown",
   "metadata": {},
   "source": [
    "14 - Escribe un programa que imprima por pantalla la linea 1235 del quijote."
   ]
  },
  {
   "cell_type": "code",
   "execution_count": 25,
   "metadata": {
    "collapsed": true
   },
   "outputs": [
    {
     "name": "stdout",
     "output_type": "stream",
     "text": [
      "barbero. Muchos años ha que es grande amigo mío ese Cervantes, y\n",
      "\n"
     ]
    }
   ],
   "source": [
    "lc = 0\n",
    "with open(\"quijote.txt\", \"r\") as fichero:\n",
    "    while lc < 1235:\n",
    "        linea = fichero.readline()\n",
    "        lc += 1\n",
    "print(linea)"
   ]
  },
  {
   "cell_type": "markdown",
   "metadata": {},
   "source": [
    "15 - Escribe un programa que cuenta el numero de veces que aparece en el quijote la palabra hidalgo."
   ]
  },
  {
   "cell_type": "code",
   "execution_count": 27,
   "metadata": {
    "collapsed": true
   },
   "outputs": [
    {
     "name": "stdout",
     "output_type": "stream",
     "text": [
      "15\n"
     ]
    }
   ],
   "source": [
    "lc = 0\n",
    "with open(\"quijote.txt\", \"r\") as fichero:\n",
    "    for linea in fichero:\n",
    "        lc += linea.lower().count(\"hidalgo\")\n",
    "print(lc)"
   ]
  },
  {
   "cell_type": "markdown",
   "metadata": {},
   "source": [
    "16 - Escribe un programa que escriba en un fichero de texto las lineas en las que aparece la palabra hidalgo."
   ]
  },
  {
   "cell_type": "code",
   "execution_count": 30,
   "metadata": {
    "collapsed": true
   },
   "outputs": [
    {
     "name": "stdout",
     "output_type": "stream",
     "text": [
      "EL INGENIOSO HIDALGO DON QUIJOTE DE LA MANCHA\n",
      "\n",
      "     Que trata de la condición y ejercicio del famoso hidalgo D.\n",
      "\n",
      "acordarme, no ha mucho tiempo que vivía un hidalgo de los de\n",
      "\n",
      "podadera. Frisaba la edad de nuestro hidalgo con los cincuenta\n",
      "\n",
      "     Es, pues, de saber, que este sobredicho hidalgo, los ratos\n",
      "\n",
      "había pasado de hidalgo sosegado a caballero andante) ¿quién ha\n",
      "\n",
      "merced es Baldominos, ni Abindarráez, sino el honrado hidalgo\n",
      "\n",
      "más noche, porque no viesen al molido hidalgo tan mal caballero.\n",
      "\n",
      "     librería de nuestro ingenioso hidalgo\n",
      "\n",
      "hidalgo por mar, hidalgo por el diablo; y mientes, que mira si\n",
      "\n",
      "ricos mancebos, hidalgos y labradores han  tomado el traje de\n",
      "\n",
      "rico o pobre, hidalgo o pechero, sin exceptuar estado ni\n",
      "\n",
      "      De lo que le sucedió al ingenioso hidalgo en la venta que\n",
      "\n",
      "la ceguedad del pobre hidalgo, que el tacto, ni el aliento, ni\n",
      "\n"
     ]
    }
   ],
   "source": [
    "\n",
    "with open(\"quijote-hidalgo.txt\", \"w\") as fout:\n",
    "    with open(\"quijote.txt\", \"r\") as fin:\n",
    "        for linea in fin:\n",
    "            if linea.lower().count(\"hidalgo\") > 0:\n",
    "                fout.write(linea)\n",
    "                print(linea)\n"
   ]
  },
  {
   "cell_type": "markdown",
   "metadata": {},
   "source": [
    "17 - Utiliza la comprension de listas para crear una lista que divida todos los elementos de la lista por 2, otra que almacene los elemtos que son multiplos de 3."
   ]
  },
  {
   "cell_type": "code",
   "execution_count": 42,
   "metadata": {
    "collapsed": true
   },
   "outputs": [
    {
     "name": "stdout",
     "output_type": "stream",
     "text": [
      "[0.5, 2.5, 3.5, 5.0, 7.5]\n",
      "[15]\n"
     ]
    }
   ],
   "source": [
    "lista = [1, 5, 7, 10, 15]\n",
    "listadiv2 = [v/2 for v in lista]\n",
    "print(listadiv2)\n",
    "listamul3 = [v for v in lista if v % 3 == 0 ]\n",
    "print(listamul3)"
   ]
  },
  {
   "cell_type": "markdown",
   "metadata": {},
   "source": [
    "18 - Escribe un programa que escriba en un fichero el resultado del ejercicio anterior (primero la lista de los elementos divididos por 2 y despues la de multiplos de 3. Despues lee el fichero e imprimelo por pantalla."
   ]
  },
  {
   "cell_type": "code",
   "execution_count": 52,
   "metadata": {
    "collapsed": true
   },
   "outputs": [
    {
     "name": "stdout",
     "output_type": "stream",
     "text": [
      "[0.5, 2.5, 3.5, 5.0, 7.5]\n",
      "[15]\n",
      "listadiv2: 0.5 2.5 3.5 5.0 7.5 \n",
      "\n",
      "listamul3: 15 \n"
     ]
    }
   ],
   "source": [
    "lista = [1, 5, 7, 10, 15]\n",
    "listadiv2 = [v/2 for v in lista]\n",
    "print(listadiv2)\n",
    "listamul3 = [v for v in lista if v % 3 == 0 ]\n",
    "print(listamul3)\n",
    "\n",
    "fileName = \"listas_numeros.txt\" \n",
    "\n",
    "with open(fileName, \"w\") as fout:\n",
    "    fout.write(\"listadiv2: \")\n",
    "    for num in listadiv2:\n",
    "        fout.write(str(num) + \" \")\n",
    "    fout.write(\"\\r\")\n",
    "    fout.write(\"listamul3: \")\n",
    "    for num in listamul3:\n",
    "        fout.write(str(num) + \" \")\n",
    "    #fout.write(\"\\n\")\n",
    "\n",
    "with open(fileName, \"r\") as fin:\n",
    "    for linea in fin:\n",
    "        print(linea)\n",
    "        \n",
    "    "
   ]
  },
  {
   "cell_type": "markdown",
   "metadata": {},
   "source": [
    "19 - Escribe un programa pida dos numeros a un usuario, posteriormente le pida que operacion quiere realizar con ellos y una vez seleccionado, se escriba la operacion y el resultado en un fichero. Finalmente, lee el fichero e imprimelo por pantalla.\n",
    "PASOS\n",
    "- Pedir por pantalla dos numeros (puedes anadir algun tipo de control de errores basico)  \n",
    "- Pedir la operacion (suma, resta, division o producto)  \n",
    "- Realizar la operacion, obtener el resultado y escribirlo en un fichero. Por ejemplo algo asi: La operacion seleccionada ha sido la +. El resultado es: 5 + 8 = 13 donde 5 y 8 son los numeros introducidos por el usuario y + la operacion seleccionada.  \n",
    "- Imprime el resultado por pantalla  "
   ]
  },
  {
   "cell_type": "code",
   "execution_count": null,
   "metadata": {
    "collapsed": true
   },
   "outputs": [],
   "source": []
  },
  {
   "cell_type": "markdown",
   "metadata": {},
   "source": [
    "20 - Escribe un programa que calcule los 100 primeros numeros primos y los almacene en un fichero. Despues lee el fichero e imprime su contenido."
   ]
  },
  {
   "cell_type": "code",
   "execution_count": null,
   "metadata": {
    "collapsed": true
   },
   "outputs": [],
   "source": []
  },
  {
   "cell_type": "markdown",
   "metadata": {},
   "source": [
    "21 - Haz un programa que muestre por pantalla la linea mas larga de un fichero. Si hay mas de una linea con la longitud de la mas larga, el programa mostrara unicamente la primera de ellas. (El nombre del fichero se pedira al usuario por teclado.)"
   ]
  },
  {
   "cell_type": "code",
   "execution_count": null,
   "metadata": {
    "collapsed": true
   },
   "outputs": [],
   "source": []
  },
  {
   "cell_type": "markdown",
   "metadata": {},
   "source": [
    "22 - La orden head (((cabeza)), en ingles) de Unix muestra las 10 primeras lineas de un fichero. Haz un programa head.py que muestre por pantalla las 10 primeras lineas de un fichero. (El nombre del fichero se pedira al usuario por teclado.)"
   ]
  },
  {
   "cell_type": "code",
   "execution_count": null,
   "metadata": {
    "collapsed": true
   },
   "outputs": [],
   "source": []
  },
  {
   "cell_type": "markdown",
   "metadata": {},
   "source": [
    "23 - La orden tail (((cola)), en ingles) de Unix muestra las 10 ultimas lineas de un fichero. Haz un programa head.py que muestre por pantalla las 10 ultimas lineas de un fichero. (El nombre del fichero se pedira al usuario por teclado.)"
   ]
  },
  {
   "cell_type": "code",
   "execution_count": null,
   "metadata": {
    "collapsed": true
   },
   "outputs": [],
   "source": []
  },
  {
   "cell_type": "markdown",
   "metadata": {},
   "source": [
    "24 - En realidad cualquiera de las ordenes anteriores (head y tail) permiten seleccionar el numero de lineas a mostrar. Realiza un programa que pida al usuario el numero de lineas a mostrar y muestre las primeras n lineas del fichero (como la orden head)"
   ]
  },
  {
   "cell_type": "code",
   "execution_count": null,
   "metadata": {
    "collapsed": true
   },
   "outputs": [],
   "source": []
  },
  {
   "cell_type": "markdown",
   "metadata": {},
   "source": [
    "25 - Utilizando el modulo _csv_ calcula la media de las diferentes columnas para cada grupo de codigos postales. Un grupo se define por las dos primeras cifras del codigo postal. 90XXX, 91XXX, 92XXX y  asi son diferentes grupos postales. Tendras que utilizar los conocimientos aprendidos hasta ahora para resolver el problema."
   ]
  },
  {
   "cell_type": "code",
   "execution_count": null,
   "metadata": {
    "collapsed": true
   },
   "outputs": [],
   "source": []
  }
 ],
 "metadata": {
  "kernelspec": {
   "display_name": "Python 3",
   "language": "python",
   "name": "python3"
  },
  "language_info": {
   "codemirror_mode": {
    "name": "ipython",
    "version": 3
   },
   "file_extension": ".py",
   "mimetype": "text/x-python",
   "name": "python",
   "nbconvert_exporter": "python",
   "pygments_lexer": "ipython3",
   "version": "3.6.3"
  }
 },
 "nbformat": 4,
 "nbformat_minor": 2
}
